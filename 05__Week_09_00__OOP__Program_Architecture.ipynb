{
 "cells": [
  {
   "cell_type": "markdown",
   "id": "23492494",
   "metadata": {},
   "source": [
    "<!-------------------------------------------------------------------------->\n",
    "<!------------------------------- WEEK 07 ---------------------------------->\n",
    "<!-------------------------------------------------------------------------->\n",
    "<font size=6 color=\"red\"> Week 09 </font>\n",
    "<br>\n",
    "<br>\n",
    "<br>\n",
    "<font size=6 color=\"blue\"> NOTEBOOK 05 </font>"
   ]
  },
  {
   "cell_type": "markdown",
   "id": "2a7b4b9e",
   "metadata": {},
   "source": [
    " "
   ]
  },
  {
   "cell_type": "markdown",
   "id": "0b5642a9",
   "metadata": {},
   "source": [
    "<center> \n",
    "    <font size=6 color=\"blue\">\n",
    "        <b>Basics of Object Oriented Programming (OOP) - Day II</b>\n",
    "    </font>\n",
    "</center>"
   ]
  },
  {
   "cell_type": "markdown",
   "id": "adca046c",
   "metadata": {},
   "source": [
    "# Namespaces and Variable Scope in Python 3.9\n",
    "<pre>\n",
    "+ Namespaces constitute the amount of access one variable will have over another\n",
    "\n",
    "+ There are four namespaces in the python programming language:\n",
    "\n",
    "    01. Local Scope     : The variables defined inside a function (One can use the \n",
    "                          command \"locals\" to see all the local namespaces)\n",
    "\n",
    "    02. Enclosing Scope : The variables defined inside a function that is inside \n",
    "                          anther function (One can use the command \"locals\" to see \n",
    "                          all the enclosed namespaces)\n",
    "    \n",
    "    03. Global Scope    : The variables defined outside of a function (One can use \n",
    "                          the command \"globals\" to see all the globle namespaces)\n",
    "\n",
    "    04. Built-in Scope  : These are all the built-in objects to the python core \n",
    "                          language (One can use the command \"dir(__builtins__)\" to \n",
    "                          see all the built-in namespaces)\n",
    "\n",
    "+ Consider the following code segment:\n",
    "\n",
    "    CODE:\n",
    "        count = 50 # Global variable definition       \n",
    "\n",
    "        # Function Definition\n",
    "        def timer():\n",
    "            \"\"\"\n",
    "            This function will return the current count for the timer\n",
    "            \"\"\"\n",
    "            def counter_message() -> str:\n",
    "                return \"Current Count\" \n",
    "                \n",
    "            print(f\"{counter_message()} : {count}\")\n",
    "\n",
    "        # Code Execution\n",
    "        timer()\n",
    "        \n",
    "    OUTPUT:\n",
    "        Current Count : 50\n",
    "\n",
    "+ Consider the diagram below for the program above:\n",
    "<b>\n",
    "               _____________________________________________________________\n",
    "              |                                                             |\n",
    "              |                       Built-in Scope                        |\n",
    "              |                  pythonic \"print\" function                  | \n",
    "              |     ___________________________________________________     |\n",
    "              |    |                                                   |    |\n",
    "              |    |                   Global Scope                    |    | \n",
    "              |    |                variable: \"count\"                  |    |\n",
    "              |    |      _______________________________________      |    |\n",
    "              |    |     |                                       |     |    |\n",
    "              |    |     |              Local Scope              |     |    |\n",
    "              |    |     |       variable: \"counter_message\"     |     |    |\n",
    "              |    |     |     _____________________________     |     |    | \n",
    "              |    |     |    |                             |    |     |    | \n",
    "              |    |     |    |        Enclosed Scope       |    |     |    | \n",
    "              |    |     |    | Function: counter_message() |    |     |    |\n",
    "              |    |     |    |                             |    |     |    |\n",
    "              |    |     |    |_____________________________|    |     |    | \n",
    "              |    |     |                                       |     |    | \n",
    "              |    |     |_______________________________________|     |    |\n",
    "              |    |                                                   |    |\n",
    "              |    |                                                   |    |\n",
    "              |    |___________________________________________________|    |\n",
    "              |                                                             |\n",
    "              |                                                             |\n",
    "              |_____________________________________________________________|\n",
    "</b>\n",
    "+ Python always starts with the INNER-MOST scope and looks outwards\n",
    "\n",
    "</pre>"
   ]
  },
  {
   "cell_type": "markdown",
   "id": "7b7edcc5",
   "metadata": {},
   "source": [
    "# Using the \"global\" Keyword"
   ]
  },
  {
   "cell_type": "markdown",
   "id": "cb6a89db",
   "metadata": {},
   "source": [
    "<pre>\n",
    "<b>Recall the code that was written above:</b>\n",
    "</pre>"
   ]
  },
  {
   "cell_type": "code",
   "execution_count": 277,
   "id": "5146c234",
   "metadata": {},
   "outputs": [
    {
     "name": "stdout",
     "output_type": "stream",
     "text": [
      "Current Count : 50\n"
     ]
    }
   ],
   "source": [
    "count = 50 # Global variable definition       \n",
    "\n",
    "# Function Definition\n",
    "def timer():\n",
    "    \"\"\"\n",
    "    This function will return the current count for the timer\n",
    "    \"\"\"\n",
    "    def counter_message() -> str:\n",
    "        return \"Current Count\" \n",
    "\n",
    "    print(f\"{counter_message()} : {count}\")\n",
    "\n",
    "# Code Execution\n",
    "timer()"
   ]
  },
  {
   "cell_type": "markdown",
   "id": "26f20ef3",
   "metadata": {},
   "source": [
    "<pre>\n",
    "<b>If we want to modify the value of the global variable \"count\", one would guess that \n",
    "they will change it from inside the funtion as shown below:</b>\n",
    "</pre>"
   ]
  },
  {
   "cell_type": "code",
   "execution_count": 278,
   "id": "12347d32",
   "metadata": {},
   "outputs": [
    {
     "ename": "UnboundLocalError",
     "evalue": "local variable 'count' referenced before assignment",
     "output_type": "error",
     "traceback": [
      "\u001b[0;31m---------------------------------------------------------------------------\u001b[0m",
      "\u001b[0;31mUnboundLocalError\u001b[0m                         Traceback (most recent call last)",
      "\u001b[0;32m/tmp/ipykernel_586267/806260575.py\u001b[0m in \u001b[0;36m<module>\u001b[0;34m\u001b[0m\n\u001b[1;32m     14\u001b[0m \u001b[0;34m\u001b[0m\u001b[0m\n\u001b[1;32m     15\u001b[0m \u001b[0;31m# Code Execution\u001b[0m\u001b[0;34m\u001b[0m\u001b[0;34m\u001b[0m\u001b[0m\n\u001b[0;32m---> 16\u001b[0;31m \u001b[0mtimer\u001b[0m\u001b[0;34m(\u001b[0m\u001b[0;34m)\u001b[0m\u001b[0;34m\u001b[0m\u001b[0;34m\u001b[0m\u001b[0m\n\u001b[0m",
      "\u001b[0;32m/tmp/ipykernel_586267/806260575.py\u001b[0m in \u001b[0;36mtimer\u001b[0;34m()\u001b[0m\n\u001b[1;32m      9\u001b[0m         \u001b[0;32mreturn\u001b[0m \u001b[0;34m\"Current Count\"\u001b[0m\u001b[0;34m\u001b[0m\u001b[0;34m\u001b[0m\u001b[0m\n\u001b[1;32m     10\u001b[0m \u001b[0;34m\u001b[0m\u001b[0m\n\u001b[0;32m---> 11\u001b[0;31m     \u001b[0mprint\u001b[0m\u001b[0;34m(\u001b[0m\u001b[0;34mf\"{counter_message()} : {count}\"\u001b[0m\u001b[0;34m)\u001b[0m\u001b[0;34m\u001b[0m\u001b[0;34m\u001b[0m\u001b[0m\n\u001b[0m\u001b[1;32m     12\u001b[0m     \u001b[0mcount\u001b[0m \u001b[0;34m=\u001b[0m \u001b[0;36m25\u001b[0m\u001b[0;34m\u001b[0m\u001b[0;34m\u001b[0m\u001b[0m\n\u001b[1;32m     13\u001b[0m     \u001b[0mprint\u001b[0m\u001b[0;34m(\u001b[0m\u001b[0;34mf\"{counter_message()} : {count}\"\u001b[0m\u001b[0;34m)\u001b[0m\u001b[0;34m\u001b[0m\u001b[0;34m\u001b[0m\u001b[0m\n",
      "\u001b[0;31mUnboundLocalError\u001b[0m: local variable 'count' referenced before assignment"
     ]
    }
   ],
   "source": [
    "count = 50 # Global variable definition       \n",
    "\n",
    "# Function Definition\n",
    "def timer():\n",
    "    \"\"\"\n",
    "    This function will return the current count for the timer\n",
    "    \"\"\"\n",
    "    def counter_message() -> str:\n",
    "        return \"Current Count\" \n",
    "\n",
    "    print(f\"{counter_message()} : {count}\")\n",
    "    count = 25\n",
    "    print(f\"{counter_message()} : {count}\")\n",
    "\n",
    "# Code Execution\n",
    "timer()"
   ]
  },
  {
   "cell_type": "markdown",
   "id": "abd5510d",
   "metadata": {},
   "source": [
    "<pre>\n",
    "<b>How come it resulted in an error?</b> \n",
    "\n",
    "Remember:\n",
    "\n",
    "+ A variable is only local if you assign them inside a function.\n",
    "\n",
    "+ If you only reference it from inside a function, the variable should be available \n",
    "from an outer scope, usually from the global scope. \n",
    "\n",
    "+ When you call the function, and the execution reaches the print statement, the local \n",
    "namespace already has a \"count\" and nothing is assigned to it\n",
    "\n",
    "+ This entry MASKS the \"count\" variable definition in the global namespace\n",
    "\n",
    "+ In the case of one wanting to modify a global variable from a function we would use the \n",
    "\"global\" keyword. It tells python interpreter that a variable is meant to be scoped in the\n",
    "global scope.\n",
    "\n",
    "+ Now we are allowed to modify the global variable as shown below\n",
    "</pre>"
   ]
  },
  {
   "cell_type": "code",
   "execution_count": 279,
   "id": "7a2290f1",
   "metadata": {},
   "outputs": [
    {
     "name": "stdout",
     "output_type": "stream",
     "text": [
      "Current Count : 50\n",
      "Current Count : 25\n"
     ]
    }
   ],
   "source": [
    "count = 50 # Global variable definition       \n",
    "\n",
    "# Function Definition\n",
    "def timer():\n",
    "    \"\"\"\n",
    "    This function will return the current count for the timer\n",
    "    \"\"\"\n",
    "    global count\n",
    "    counter_message = \"Current Count\" \n",
    "    print(f\"{counter_message} : {count}\")\n",
    "    count = 25\n",
    "    print(f\"{counter_message} : {count}\")\n",
    "    \n",
    "# Code Execution\n",
    "timer()"
   ]
  },
  {
   "cell_type": "markdown",
   "id": "1fe80e15",
   "metadata": {},
   "source": [
    "<center> \n",
    "    <font size=6 color=\"blue\">\n",
    "        <b>Fundamental Concepts in Object Oriented Programming</b>\n",
    "    </font>\n",
    "</center>"
   ]
  },
  {
   "cell_type": "markdown",
   "id": "03abc5b7",
   "metadata": {},
   "source": [
    "# Abstraction\n",
    "<pre>\n",
    "+ It is a simplification of a place or a \"thing\" in the real world\n",
    "    Ex: Mailman, Exercise, Member, Office, \n",
    "+ An object is an ABSTRACTION of the reality that one would implement in a program\n",
    "\n",
    "+ A class in a generalization for an object that contains a recipe/template to create more of \n",
    "that object. \n",
    "\n",
    "+ The classes contain all the attributes/properties further describing that object and \n",
    "methods/operations/behaviors tells one what actions can the object perform.\n",
    "\n",
    "+ Creating an object from a class is known as instantiation.\n",
    "\n",
    "Example: Consider the following class: Human\n",
    "<b>\n",
    "                        _____________________________________\n",
    "                       |                                     |\n",
    "                       |                 Human               |\n",
    "                       |_____________________________________|\n",
    "                       |                                     |\n",
    "                       |  - first_name       : String        |\n",
    "                       |  - last_name        : String        |\n",
    "                       |  - date_of_birth    : String        |\n",
    "                       |  - occupation       : String        |\n",
    "                       |_____________________________________|\n",
    "                       |                                     |\n",
    "                       |  + communicate()                    |\n",
    "                       |  + walk()                           | \n",
    "                       |  + jog()                            | \n",
    "                       |  + run()                            | \n",
    "                       |  + eat()                            | \n",
    "                       |  + rest()                           |\n",
    "                       |  + read()                           |\n",
    "                       |_____________________________________|\n",
    "</b>\n",
    "Instantiation:\n",
    "\n",
    "junior_manag_prgma_1 = Human(\"Jane\"    , \"Greenfield\" , \"1962.04.03\", \"Project Manager\")\n",
    "serior_staff_physi_1 = Human(\"David\"   , \"Mannar\"     , \"1958.04.12\", \"Physicist\")\n",
    "serior_staff_progr_1 = Human(\"Walen\"   , \"Ostrabone\"  , \"1976.04.15\", \"Programmer\")\n",
    "junior_staff_biolo_1 = Human(\"Tria\"    , \"Rembrandt\"  , \"1989.12.01\", \"Biologist\")\n",
    "junior_mente_clean_1 = Human(\"Jaden\"   , \"Minnah\"     , \"1993.05.01\", \"Janitor\")\n",
    "junior_staff_progr_1 = Human(\"Octavia\" , \"Foulan\"     , \"1992.01.26\", \"Programmer\")\n",
    "junior_staff_biolo_2 = Human(\"Adnen\"   , \"Finrahul\"   , \"1994.06.09\", \"Biologist\")\n",
    "serior_staff_recep_1 = Human(\"Sianna\"  , \"Carter\"     , \"1983.09.30\", \"Receptionist\")\n",
    "senior_manag_prgma_1 = Human(\"Shari\"   , \"Taylor\"     , \"1968.07.23\", \"Project Owner\")\n",
    "junior_staff_physi_1 = Human(\"John\"    , \"Mason\"      , \"1995.04.14\", \"Physicist\")\n",
    "junior_staff_physi_2 = Human(\"Yolden\"  , \"Thompson\"   , \"1992.02.25\", \"Physicist\")\n",
    "junior_staff_Engin_1 = Human(\"Tarrak\"  , \"Smith\"      , \"1990.09.17\", \"Engineer\")\n",
    "</pre> "
   ]
  },
  {
   "cell_type": "markdown",
   "id": "593af9fb",
   "metadata": {},
   "source": [
    "# Encapsulation (Information Hiding)\n",
    "<pre>\n",
    "+ To write a program and to use it, one does not have to know the inner workings of that \n",
    "  program and therefore one one choose to shield others from looking inside the program. \n",
    "\n",
    "+ One can hide the data and complexity of the inner workings of an object from the programs \n",
    "  and programmers that are using it\n",
    "\n",
    "+ This concept is often adopted to ensure the security and/or to protect the intellectual \n",
    "  property of a given program\n",
    "\n",
    "+ All a programmer needs to know is the interface of a given class to use it:\n",
    "    + Name of the class\n",
    "    + Inputs for that class\n",
    "    + Outputs from that class\n",
    "    + Methods available to the programmer in that class\n",
    "</pre>"
   ]
  },
  {
   "cell_type": "markdown",
   "id": "045a891e",
   "metadata": {},
   "source": [
    "# Inheritance\n",
    "<pre>\n",
    "+ This concept allows one class to copy attributes and methods from another class. \n",
    "\n",
    "+ The class that was the original is called the \"parent class\" and the created copy is called the \"child class\"\n",
    "\n",
    "+ A child class \"shall\" contain all the attributes and methods available in the parent class and more. \n",
    "\n",
    "+ The child class can extend the parent class by adding additional attributes and/or methods.\n",
    "\n",
    "+ Inheritane can result in a hierarchy of classes with specific relationships within each pair. \n",
    "</pre>"
   ]
  },
  {
   "cell_type": "markdown",
   "id": "d617fcae",
   "metadata": {},
   "source": [
    "# Polymorphism\n",
    "<pre>\n",
    "+ The literal meaning of polymorphism is to exist in may forms.\n",
    "\n",
    "+ This concept allows a given class to implement an inherited method in its own way.\n",
    "\n",
    "+ A children of the same parent class can \"override\" any allowed attributes or methods that was inherited from that parent class. \n",
    "</pre>"
   ]
  },
  {
   "cell_type": "markdown",
   "id": "1465afc6",
   "metadata": {},
   "source": [
    "<center> \n",
    "    <font size=6 color=\"blue\">\n",
    "        <b>Program Architecture Diagram: Class Diagram</b>\n",
    "    </font>\n",
    "</center>"
   ]
  },
  {
   "cell_type": "markdown",
   "id": "304633a8",
   "metadata": {},
   "source": [
    "# Access Modifiers (Visibility) in Python 3.9\n",
    "<pre>\n",
    "Consider the following class:\n",
    "<b>\n",
    "                    _______________________________\n",
    "                   |                               |\n",
    "                   |        Data_Transporter       |\n",
    "                   |_______________________________|\n",
    "                   |                               |\n",
    "                   | + pid          : Integer      |\n",
    "                   | - platform     : String       |\n",
    "                   | # architecture : String       |\n",
    "                   | # gpu_status   : Boolian      |\n",
    "                   |_______________________________|\n",
    "                   |                               |\n",
    "                   | - get_platform()              |\n",
    "                   | - get_architecture()          | \n",
    "                   | - get_gpu_status()            |\n",
    "                   | - encrypt_memory()            |\n",
    "                   | # seek_target()               |\n",
    "                   | # update_self()               |\n",
    "                   | - transport_self()            |\n",
    "                   | + make_connection()           |\n",
    "                   | + create_socket()             |\n",
    "                   | + delete_socket()             |\n",
    "                   |_______________________________|\n",
    "</b>\n",
    "PUBLIC          : \"+\"\n",
    "+ These attributes and methods CAN be accessed by any other class or subclass\n",
    "+ In a program these are variables that are neither private, protected.\n",
    "\n",
    "     class Member:\n",
    "         def __init__(self):\n",
    "             self.pid      = pid\n",
    "         \n",
    "         def make_connection():\n",
    "             pass\n",
    "         \n",
    "         def create_socket():\n",
    "             pass\n",
    "             \n",
    "         def delete_socket():\n",
    "             pass\n",
    "\n",
    "\n",
    "PRIVATE         : \"-\"\n",
    "+ These attributes and methods CANNOT be accessed by any other class or subclass\n",
    "+ In a program one would use two underscores in front of a variable to define a private variable\n",
    "\n",
    "     class Member:\n",
    "         __platform = None\n",
    "\n",
    "         def __init__(self, platform):\n",
    "             self.__platform = platform\n",
    "             \n",
    "         def __get_platform():\n",
    "             pass\n",
    "             \n",
    "         def __get_architecture():\n",
    "             pass\n",
    "             \n",
    "         def __get_gpu_status():\n",
    "             pass\n",
    "             \n",
    "         def __encrypt_memory():\n",
    "             pass\n",
    "             \n",
    "         def __transport_self():\n",
    "             pass\n",
    "\n",
    "PROTECTED       : \"#\"\n",
    "+ These attributes and methods ONLY CAN be accessed by the SAME class or its subclasses\n",
    "+ In a program one would use one underscores in front of a variable to define a protected variable\n",
    "\n",
    "     class Member:\n",
    "         _architecture = None\n",
    "         _gpu_status   = None\n",
    "\n",
    "         def __init__(self, architecture, gpu_status):\n",
    "             self._architecture = architecture\n",
    "             self._gpu_status    = gpu_status\n",
    "             \n",
    "         def _seek_target():\n",
    "             pass\n",
    "             \n",
    "         def _update_self():\n",
    "             pass\n",
    "             \n",
    "         \n",
    "<b>There is also another access modifier that is not very common in python. But you must know of its existance if you want to be someone who writes serious code.</b>\n",
    "\n",
    "PACKAGE/DEFAULT : \"~\"\n",
    "+ These attributes and methods ONLY CAN be accessed with the SAME package. \n",
    "    Ex: Numpy is a package which contains a collection of classes\n",
    "</pre>"
   ]
  },
  {
   "cell_type": "markdown",
   "id": "42a0797e",
   "metadata": {},
   "source": [
    "### Consider the following example without paticular use of access modifiers:"
   ]
  },
  {
   "cell_type": "markdown",
   "id": "a06f947f",
   "metadata": {},
   "source": [
    "<pre>\n",
    "<b>Consider the following Member class</b>\n",
    "</pre>"
   ]
  },
  {
   "cell_type": "code",
   "execution_count": 162,
   "id": "e8e326d0",
   "metadata": {},
   "outputs": [],
   "source": [
    "class Member:\n",
    "    def __init__(self, \n",
    "                 name             : str   = \"\", \n",
    "                 age              : int   = 0, \n",
    "                 date_of_birth    : str   = \"0000.00.00\", \n",
    "                 country          : str   = \"\", \n",
    "                 occupation       : str   = \"\", \n",
    "                 years_of_service : float = 0.0, \n",
    "                 pay_grade        : int   = 0):\n",
    "        self.name             = name\n",
    "        self.age              = age\n",
    "        self.date_of_birth    = date_of_birth\n",
    "        self.country          = country\n",
    "        self.occupation       = occupation\n",
    "        self.years_of_service = years_of_service\n",
    "        self.pay_grade        = pay_grade\n",
    "        self.salary           = None\n",
    "    \n",
    "    def pay_from_grade(self):\n",
    "        if self.pay_grade == 1:\n",
    "            self.base_pay = 10000.0\n",
    "        elif self.pay_grade == 2:\n",
    "            self.base_pay = 20000.0\n",
    "        elif self.pay_grade == 3:\n",
    "            self.base_pay = 30000.0\n",
    "        elif self.pay_grade == 4:\n",
    "            self.base_pay = 40000.0\n",
    "        elif self.pay_grade == 5:\n",
    "            self.base_pay = 50000.0\n",
    "        else:\n",
    "            self.base_pay = 0.0\n",
    "    \n",
    "    def calculate_salary(self):\n",
    "        self.salary =  ((1+(1/self.years_of_service))*60000.0) + self.base_pay\n",
    "    \n",
    "    def display_information(self):\n",
    "        print(f\"Name             : {self.name}            \")\n",
    "        print(f\"Age              : {self.age}             \")\n",
    "        print(f\"Date of Birth    : {self.date_of_birth}   \")\n",
    "        print(f\"Country          : {self.country}         \")\n",
    "        print(f\"Occupation       : {self.occupation}      \")\n",
    "        print(f\"Years of Service : {self.years_of_service}\")\n",
    "        print(f\"Pay Grade        : {self.pay_grade}       \")\n",
    "        print(f\"Salary           : ${self.salary}         \")"
   ]
  },
  {
   "cell_type": "markdown",
   "id": "ff7f6cfb",
   "metadata": {},
   "source": [
    "<pre>\n",
    "<b>We can see that one can access the following program information:</b>\n",
    "</pre>"
   ]
  },
  {
   "cell_type": "code",
   "execution_count": 163,
   "id": "6b864bf9",
   "metadata": {},
   "outputs": [],
   "source": [
    "# Lets create an instance of the Member class\n",
    "project_lead = Member(\"Alex\", \"Turing\", \"1996.02.29\", \"U.S.\", \"Astrophysicist\", 10, 3)"
   ]
  },
  {
   "cell_type": "code",
   "execution_count": 164,
   "id": "3470d40d",
   "metadata": {},
   "outputs": [],
   "source": [
    "# Our constructor have created the variable salary and have initialized to None\n",
    "project_lead.salary"
   ]
  },
  {
   "cell_type": "code",
   "execution_count": 165,
   "id": "83071656",
   "metadata": {},
   "outputs": [
    {
     "data": {
      "text/plain": [
       "NoneType"
      ]
     },
     "execution_count": 165,
     "metadata": {},
     "output_type": "execute_result"
    }
   ],
   "source": [
    "# We can check this by using the \"type\" keyword\n",
    "type(project_lead.salary)"
   ]
  },
  {
   "cell_type": "code",
   "execution_count": 166,
   "id": "d1a53fc4",
   "metadata": {},
   "outputs": [],
   "source": [
    "# Now we will calculate the salary and have to program OVERRIDE the default value\n",
    "project_lead.pay_from_grade()\n",
    "project_lead.calculate_salary()"
   ]
  },
  {
   "cell_type": "code",
   "execution_count": 167,
   "id": "5a1f1858",
   "metadata": {},
   "outputs": [
    {
     "data": {
      "text/plain": [
       "96000.0"
      ]
     },
     "execution_count": 167,
     "metadata": {},
     "output_type": "execute_result"
    }
   ],
   "source": [
    "# Lets check out the value of the variable: salary\n",
    "project_lead.salary"
   ]
  },
  {
   "cell_type": "code",
   "execution_count": 168,
   "id": "0d4a48af",
   "metadata": {},
   "outputs": [
    {
     "data": {
      "text/plain": [
       "float"
      ]
     },
     "execution_count": 168,
     "metadata": {},
     "output_type": "execute_result"
    }
   ],
   "source": [
    "# We can again check its variable type by using the \"type\" keyword\n",
    "type(project_lead.salary)"
   ]
  },
  {
   "cell_type": "markdown",
   "id": "da7aefac",
   "metadata": {},
   "source": [
    "<pre>\n",
    "<b>But there is a MAJOR issue in this code:</b>\n",
    "</pre>"
   ]
  },
  {
   "cell_type": "code",
   "execution_count": 169,
   "id": "d72414c0",
   "metadata": {},
   "outputs": [],
   "source": [
    "# We can directly update the values in the salary variable. THIS IS BAD, VERY BAD...\n",
    "project_lead.salary = 100000"
   ]
  },
  {
   "cell_type": "code",
   "execution_count": 170,
   "id": "14e7e345",
   "metadata": {},
   "outputs": [
    {
     "data": {
      "text/plain": [
       "100000"
      ]
     },
     "execution_count": 170,
     "metadata": {},
     "output_type": "execute_result"
    }
   ],
   "source": [
    "# Lets again check out the value of the variable: salary\n",
    "project_lead.salary"
   ]
  },
  {
   "cell_type": "code",
   "execution_count": 171,
   "id": "0174abb1",
   "metadata": {},
   "outputs": [
    {
     "data": {
      "text/plain": [
       "int"
      ]
     },
     "execution_count": 171,
     "metadata": {},
     "output_type": "execute_result"
    }
   ],
   "source": [
    "# We can again check its variable type by using the \"type\" keyword\n",
    "type(project_lead.salary)"
   ]
  },
  {
   "cell_type": "markdown",
   "id": "56368b13",
   "metadata": {},
   "source": [
    "<pre>\n",
    "<font color=\"red\"><b>You do NOT want just anyone to modify the salary variable unless they are \n",
    "authorized and responsible for doing exactly that...</b></font>\n",
    "</pre>"
   ]
  },
  {
   "cell_type": "code",
   "execution_count": 173,
   "id": "af834e79",
   "metadata": {},
   "outputs": [
    {
     "name": "stdout",
     "output_type": "stream",
     "text": [
      "Name             : Alex            \n",
      "Age              : Turing             \n",
      "Date of Birth    : 1996.02.29   \n",
      "Country          : U.S.         \n",
      "Occupation       : Astrophysicist      \n",
      "Years of Service : 10\n",
      "Pay Grade        : 3       \n",
      "Salary           : $100000         \n"
     ]
    }
   ],
   "source": [
    "# We can display Member information that will include their salary that was modified \n",
    "# from outside of the program \n",
    "project_lead.display_information()"
   ]
  },
  {
   "cell_type": "markdown",
   "id": "3402a29b",
   "metadata": {},
   "source": [
    "### Consider the SAME example WITH Private access modifiers:"
   ]
  },
  {
   "cell_type": "code",
   "execution_count": 183,
   "id": "65392fe3",
   "metadata": {},
   "outputs": [],
   "source": [
    "class Member:\n",
    "    # Setting access modifiers\n",
    "    # PRIVATE VARIABLES:\n",
    "    __date_of_birth : str   = None\n",
    "    __salary        : float = None\n",
    "    \n",
    "    def __init__(self, \n",
    "                 name             : str   = \"\", \n",
    "                 age              : int   = 0, \n",
    "                 date_of_birth    : str   = \"0000.00.00\", \n",
    "                 country          : str   = \"\", \n",
    "                 occupation       : str   = \"\", \n",
    "                 years_of_service : float = 0.0, \n",
    "                 pay_grade        : int   = 0):\n",
    "        self.name               = name\n",
    "        self.age                = age\n",
    "        self.__date_of_birth    = date_of_birth\n",
    "        self.country            = country\n",
    "        self.occupation         = occupation\n",
    "        self.__years_of_service = years_of_service\n",
    "        self.__pay_grade        = pay_grade\n",
    "        self.__salary           = 0.0\n",
    "    \n",
    "    def pay_from_grade(self):\n",
    "        if self.__pay_grade == 1:\n",
    "            self.__base_pay = 10000.0\n",
    "        elif self.__pay_grade == 2:\n",
    "            self.__base_pay = 20000.0\n",
    "        elif self.__pay_grade == 3:\n",
    "            self.__base_pay = 30000.0\n",
    "        elif self.__pay_grade == 4:\n",
    "            self.__base_pay = 40000.0\n",
    "        elif self.__pay_grade == 5:\n",
    "            self.__base_pay = 50000.0\n",
    "        else:\n",
    "            self.__base_pay = 0.0\n",
    "    \n",
    "    def calculate_salary(self):\n",
    "        self.__salary =  ((1+(1/self.__years_of_service))*60000.0) + self.__base_pay\n",
    "        #print(id(self.__salary))\n",
    "    \n",
    "    def display_information(self):\n",
    "        print(f\"Name             : {self.name}               \")\n",
    "        print(f\"Age              : {self.age}                \")\n",
    "        print(f\"Date of Birth    : {self.__date_of_birth}    \")\n",
    "        print(f\"Country          : {self.country}            \")\n",
    "        print(f\"Occupation       : {self.occupation}         \")\n",
    "        print(f\"Years of Service : {self.__years_of_service} \")\n",
    "        print(f\"Pay Grade        : {self.__pay_grade}        \")\n",
    "        print(f\"Salary           : ${self.__salary}          \")"
   ]
  },
  {
   "cell_type": "code",
   "execution_count": 184,
   "id": "2d9feb6d",
   "metadata": {},
   "outputs": [],
   "source": [
    "# Lets create an instance of the Member class\n",
    "project_lead = Member(\"Alex\", \"Turing\", \"1996.02.29\", \"U.S.\", \"Astrophysicist\", 10, 3)"
   ]
  },
  {
   "cell_type": "markdown",
   "id": "c47f7ad9",
   "metadata": {},
   "source": [
    "<pre>\n",
    "<b>Lets try to access the value for salary...</b>\n",
    "</pre>"
   ]
  },
  {
   "cell_type": "code",
   "execution_count": 185,
   "id": "40b8af70",
   "metadata": {},
   "outputs": [
    {
     "ename": "AttributeError",
     "evalue": "'Member' object has no attribute '__salary'",
     "output_type": "error",
     "traceback": [
      "\u001b[0;31m---------------------------------------------------------------------------\u001b[0m",
      "\u001b[0;31mAttributeError\u001b[0m                            Traceback (most recent call last)",
      "\u001b[0;32m/tmp/ipykernel_586267/2482014167.py\u001b[0m in \u001b[0;36m<module>\u001b[0;34m\u001b[0m\n\u001b[1;32m      1\u001b[0m \u001b[0;31m# Our constructor have created the variable salary and have initialized to None\u001b[0m\u001b[0;34m\u001b[0m\u001b[0;34m\u001b[0m\u001b[0m\n\u001b[0;32m----> 2\u001b[0;31m \u001b[0mproject_lead\u001b[0m\u001b[0;34m.\u001b[0m\u001b[0m__salary\u001b[0m\u001b[0;34m\u001b[0m\u001b[0;34m\u001b[0m\u001b[0m\n\u001b[0m",
      "\u001b[0;31mAttributeError\u001b[0m: 'Member' object has no attribute '__salary'"
     ]
    }
   ],
   "source": [
    "# Our constructor have created the variable salary and have initialized to None\n",
    "project_lead.__salary"
   ]
  },
  {
   "cell_type": "code",
   "execution_count": 186,
   "id": "10384850",
   "metadata": {},
   "outputs": [],
   "source": [
    "# Now we will calculate the salary and have to program OVERRIDE the default value\n",
    "project_lead.pay_from_grade()\n",
    "project_lead.calculate_salary()"
   ]
  },
  {
   "cell_type": "code",
   "execution_count": 187,
   "id": "50aa6f72",
   "metadata": {},
   "outputs": [
    {
     "ename": "AttributeError",
     "evalue": "'Member' object has no attribute '__salary'",
     "output_type": "error",
     "traceback": [
      "\u001b[0;31m---------------------------------------------------------------------------\u001b[0m",
      "\u001b[0;31mAttributeError\u001b[0m                            Traceback (most recent call last)",
      "\u001b[0;32m/tmp/ipykernel_586267/2203610980.py\u001b[0m in \u001b[0;36m<module>\u001b[0;34m\u001b[0m\n\u001b[1;32m      1\u001b[0m \u001b[0;31m# Lets check out the value of the variable: salary\u001b[0m\u001b[0;34m\u001b[0m\u001b[0;34m\u001b[0m\u001b[0m\n\u001b[0;32m----> 2\u001b[0;31m \u001b[0mproject_lead\u001b[0m\u001b[0;34m.\u001b[0m\u001b[0m__salary\u001b[0m\u001b[0;34m\u001b[0m\u001b[0;34m\u001b[0m\u001b[0m\n\u001b[0m",
      "\u001b[0;31mAttributeError\u001b[0m: 'Member' object has no attribute '__salary'"
     ]
    }
   ],
   "source": [
    "# Lets check out the value of the variable: salary\n",
    "project_lead.__salary"
   ]
  },
  {
   "cell_type": "markdown",
   "id": "530ca317",
   "metadata": {},
   "source": [
    "<pre>\n",
    "<b>So far so good... Not lets try and update the value for salary...</b>\n",
    "</pre>"
   ]
  },
  {
   "cell_type": "code",
   "execution_count": 188,
   "id": "ca8a052b",
   "metadata": {},
   "outputs": [],
   "source": [
    "# Lets try to update the value of it\n",
    "project_lead.__salary = 100000"
   ]
  },
  {
   "cell_type": "markdown",
   "id": "bac97d59",
   "metadata": {},
   "source": [
    "<pre>\n",
    "<b>What happened... did we \"hack\" the salary?</b>\n",
    "</pre>"
   ]
  },
  {
   "cell_type": "code",
   "execution_count": 189,
   "id": "ff9f5d76",
   "metadata": {},
   "outputs": [
    {
     "data": {
      "text/plain": [
       "100000"
      ]
     },
     "execution_count": 189,
     "metadata": {},
     "output_type": "execute_result"
    }
   ],
   "source": [
    "# Lets try to update the value of it\n",
    "project_lead.__salary"
   ]
  },
  {
   "cell_type": "markdown",
   "id": "b2f272bb",
   "metadata": {},
   "source": [
    "<pre>\n",
    "<b>Lets investigate...</b>\n",
    "</pre>"
   ]
  },
  {
   "cell_type": "code",
   "execution_count": 190,
   "id": "3ea4c02a",
   "metadata": {},
   "outputs": [
    {
     "data": {
      "text/plain": [
       "139869079450704"
      ]
     },
     "execution_count": 190,
     "metadata": {},
     "output_type": "execute_result"
    }
   ],
   "source": [
    "# Lets check the variable creation ID's for both cases\n",
    "id(project_lead.__salary)"
   ]
  },
  {
   "cell_type": "markdown",
   "id": "075722d8",
   "metadata": {},
   "source": [
    "<pre>\n",
    "<b>Lets check our program output...</b>\n",
    "</pre>"
   ]
  },
  {
   "cell_type": "code",
   "execution_count": 191,
   "id": "2ab8d589",
   "metadata": {},
   "outputs": [
    {
     "name": "stdout",
     "output_type": "stream",
     "text": [
      "Name             : Alex               \n",
      "Age              : Turing                \n",
      "Date of Birth    : 1996.02.29    \n",
      "Country          : U.S.            \n",
      "Occupation       : Astrophysicist         \n",
      "Years of Service : 10 \n",
      "Pay Grade        : 3        \n",
      "Salary           : $96000.0          \n"
     ]
    }
   ],
   "source": [
    "# We can display Member information that will include their salary but one would NOT be \n",
    "# allowed to modify it\n",
    "project_lead.display_information()"
   ]
  },
  {
   "cell_type": "markdown",
   "id": "ba313968",
   "metadata": {},
   "source": [
    "<pre>\n",
    "<b>We can put it all together in a condensed program (a DRIVER CODE) as follows:</b>\n",
    "</pre>"
   ]
  },
  {
   "cell_type": "code",
   "execution_count": 192,
   "id": "312a3141",
   "metadata": {},
   "outputs": [
    {
     "name": "stdout",
     "output_type": "stream",
     "text": [
      "Name             : Alex               \n",
      "Age              : Turing                \n",
      "Date of Birth    : 1996.02.29    \n",
      "Country          : U.S.            \n",
      "Occupation       : Astrophysicist         \n",
      "Years of Service : 10 \n",
      "Pay Grade        : 3        \n",
      "Salary           : $96000.0          \n"
     ]
    }
   ],
   "source": [
    "# Driver\n",
    "def main():\n",
    "    project_lead = Member(\"Alex\", \"Turing\", \"1996.02.29\", \"U.S.\", \"Astrophysicist\", 10, 3)\n",
    "    initialize(project_lead)\n",
    "    project_lead.display_information()\n",
    "\n",
    "    \n",
    "def initialize(member: object):\n",
    "    member.pay_from_grade()\n",
    "    member.calculate_salary()\n",
    "\n",
    "    \n",
    "if __name__==\"__main__\":\n",
    "    main()"
   ]
  },
  {
   "cell_type": "markdown",
   "id": "1e470230",
   "metadata": {},
   "source": [
    "# Working with Multiple Classes\n",
    "<pre>\n",
    "<b>Consider the following class diagram:\n",
    "\n",
    "  _____________________________________             _____________________________________\n",
    " |                                     |           |                                     |\n",
    " |               Employee              |           |                 Staff               |\n",
    " |_____________________________________|           |_____________________________________|\n",
    " |                                     |           |                                     |\n",
    " |  # emp_id           : Integer       |           |  - salary             : Float       |\n",
    " |  - ssn              : String        |           |  - bonus_id           : Integer     |\n",
    " |  # first_name       : String        |           |  - benefits_id        : Integer     |\n",
    " |  # last_name        : String        |           |  - manager            : String      | \n",
    " |  - date_of_birth    : String        |           |  - start_date         : String      | \n",
    " |  # address          : String        |      ____ |  - education          : Dictionary  | \n",
    " |  # department_id    : Integer       |     |     |  - past_projects      : Dictionary  | \n",
    " |  # department_name  : String        |     |     |  - trainings_received : Dictionary  | \n",
    " |  # occupation       : String        | /|__|     |_____________________________________| \n",
    " |_____________________________________| \\|        |                                     |\n",
    " |                                     |           |  + request_mentor()                 |\n",
    " |  - new_record()                     |           |  + request_pto()                    |\n",
    " |  - update_record()                  |           |  + calculate_years_of_service()     |\n",
    " |  - delete_record()                  |           |_____________________________________|\n",
    " |  - set_salary()                     |\n",
    " |  - pay_salary()                     | \n",
    " |  - add_bonus()                      | \n",
    " |  # set_work_schedule()              |\n",
    " |  - set_pto()                        |\n",
    " |_____________________________________|\n",
    "            .             .\n",
    "           /_\\           /_\\\n",
    "            |             |\n",
    "            |             |\n",
    "            |_____        |__________________________________________\n",
    "                  |                                                  |\n",
    "                  |                                                  |\n",
    "                  |                                                  |\n",
    " _____________________________________              _____________________________________\n",
    "|                                     |            |                                     |\n",
    "|              Contractor             |            |                Intern               |\n",
    "|_____________________________________|            |_____________________________________|\n",
    "|                                     |            |                                     |\n",
    "|  - contractor_id       : Integer    |            |  - college_id       : Integer       |\n",
    "|  - contractor_name     : String     |            |  - college_name     : String        |\n",
    "|  - liaison_name        : String     |            |  - majors           : List          |\n",
    "|  - liaison_designation : String     |            |  - manager          : String        |\n",
    "|  - project_id          : String     |            |  - project_id       : String        |\n",
    "|  - hourly_rate         : Float      |            |  - hourly_rate      : Float         |\n",
    "|  - past_projects       : Dictionary |            |_____________________________________|\n",
    "|_____________________________________|            |                                     |\n",
    "|                                     |            |  + request_meeting()                |\n",
    "|  + set_project_team()               |            |  + submit_weekly_report()           |\n",
    "|  + review_project_team()            |            |  + request_leave_of_absence()       |\n",
    "|  + set_meeting_availability()       |            |  + submit_college_class_schedule()  |\n",
    "|_____________________________________|            |  + submit_training_report()         |\n",
    "                                                   |_____________________________________|\n",
    "</b>\n",
    "</pre>"
   ]
  },
  {
   "cell_type": "code",
   "execution_count": 108,
   "id": "4f54937a",
   "metadata": {},
   "outputs": [],
   "source": [
    "class Employee:\n",
    "    # Setting access modifiers\n",
    "    # PROTECTED VARIABLES: \n",
    "    _emp_id                : int   = None\n",
    "    _first_name            : str   = None\n",
    "    _last_name             : str   = None\n",
    "    _address               : str   = None\n",
    "    _department_id         : int   = None\n",
    "    _department_name       : str   = None\n",
    "    _occupation            : str   = None\n",
    "    \n",
    "    # PRIVATE VARIABLES:\n",
    "    __ssn                  : str   = None\n",
    "    __date_of_birth        : str   = None       \n",
    "    \n",
    "    def __init__(self):\n",
    "        pass\n",
    "    \n",
    "    def __new_record(self):\n",
    "        pass\n",
    "    \n",
    "    def __update_record(self):\n",
    "        pass\n",
    "    \n",
    "    def __delete_record(self):\n",
    "        pass\n",
    "    \n",
    "    def __set_salary(self):\n",
    "        pass\n",
    "    \n",
    "    def __pay_salary(self):\n",
    "        pass\n",
    "    \n",
    "    def __add_bonus(self):\n",
    "        pass\n",
    "    \n",
    "    def _set_work_schedule(self):\n",
    "        pass\n",
    "    \n",
    "    def __set_pto(self):\n",
    "        pass"
   ]
  },
  {
   "cell_type": "code",
   "execution_count": 109,
   "id": "41417380",
   "metadata": {},
   "outputs": [],
   "source": [
    "class Staff(Employee):\n",
    "    # Setting access modifiers\n",
    "    # PRIVATE VARIABLES:\n",
    "    __salary               : float = None\n",
    "    __bonus_id             : int   = None  \n",
    "    __benefits_id          : int   = None\n",
    "    __manager              : str   = None\n",
    "    __start_date           : str   = None\n",
    "    __education            : dict  = None\n",
    "    __past_projects        : dict  = None\n",
    "    __trainings_received   : dict  = None\n",
    "    \n",
    "    def __init__(self):\n",
    "        pass\n",
    "    \n",
    "    def request_mentor(self):\n",
    "        pass\n",
    "    \n",
    "    def request_pto(self):\n",
    "        pass\n",
    "    \n",
    "    def calculate_years_of_service(self):\n",
    "        pass"
   ]
  },
  {
   "cell_type": "code",
   "execution_count": 110,
   "id": "99057eeb",
   "metadata": {},
   "outputs": [],
   "source": [
    "class Contractor(Employee):\n",
    "    # Setting access modifiers\n",
    "    # PRIVATE VARIABLES:\n",
    "    __contractor_id        : int   = None\n",
    "    __contractor_name      : str   = None  \n",
    "    __liaison_name         : str   = None\n",
    "    __liaison_designation  : str   = None\n",
    "    __project_id           : str   = None\n",
    "    __hourly_rate          : float = None\n",
    "    __past_projects        : dict  = None\n",
    "    \n",
    "    def __init__(self):\n",
    "        pass\n",
    "    \n",
    "    def set_project_team(self):\n",
    "        pass\n",
    "    \n",
    "    def review_project_team(self):\n",
    "        pass\n",
    "    \n",
    "    def set_meeting_availability(self):\n",
    "        pass"
   ]
  },
  {
   "cell_type": "code",
   "execution_count": 111,
   "id": "99181360",
   "metadata": {},
   "outputs": [],
   "source": [
    "class Intern(Employee):\n",
    "    # Setting access modifiers\n",
    "    # PRIVATE VARIABLES:\n",
    "    __college_id           : int   = None\n",
    "    __college_name         : str   = None\n",
    "    __majors               : list  = None\n",
    "    __manager              : str   = None\n",
    "    __project_id           : int   = None\n",
    "    __hourly_rate          : float = None\n",
    "    \n",
    "    def __init__(self):\n",
    "        pass\n",
    "    \n",
    "    def request_meeting(self):\n",
    "        pass\n",
    "    \n",
    "    def submit_weekly_report(self):\n",
    "        pass\n",
    "    \n",
    "    def request_leave_of_absence(self):\n",
    "        pass\n",
    "    \n",
    "    def submit_college_class_schedule(self):\n",
    "        pass\n",
    "    \n",
    "    def submit_training_report(self):\n",
    "        pass\n",
    "        "
   ]
  },
  {
   "cell_type": "markdown",
   "id": "069f2211",
   "metadata": {},
   "source": [
    "# Relationships"
   ]
  },
  {
   "cell_type": "markdown",
   "id": "89880af8",
   "metadata": {},
   "source": [
    "### Inheritance\n",
    "<pre> \n",
    "\n",
    "+ Denoted by: \n",
    "\n",
    "                                 ----------ᐅ\n",
    "\n",
    "+ Consider \"Customer\" and \"Administrator\" are child classes of the parent class \"User\"\n",
    "+ Adding common attributes to both the \"Customer\" and \"Administrator\" classes are simple as \n",
    "  adding that attribute to the \"User\" class with public or protected visibility.\n",
    "+ Using inheritance allows one to not repeat themselves when writing code \n",
    "  (DRY: Dont Repeat Yourself)\n",
    "</pre>     \n",
    "\n",
    "\n",
    "### Association\n",
    "\n",
    "<pre> \n",
    "          \n",
    "+ Denoted by: \n",
    "\n",
    "                                 ----------\n",
    "\n",
    "+ It allows one to show one objects relationship to another. \n",
    "+ Consider the two classes \"Worm\" and \"Bird\"\n",
    "+ One can define an assiciation between the \"Worm\" and the \"Bird\" as \"Bird\" eats the \"Worm\"\n",
    "<b>\n",
    "                     __________                __________\n",
    "                    |          |              |          |\n",
    "                    |   Bird   |              |   Worm   |\n",
    "                    |__________|              |__________|\n",
    "                    |          |              |          |\n",
    "                    |          | ------------ |          |\n",
    "                    |__________|              |__________|\n",
    "                    |          |              |          |\n",
    "                    |          |              |          |\n",
    "                    |__________|              |__________|\n",
    "</b>\n",
    "</pre> \n",
    "\n",
    "\n",
    "### Aggregation\n",
    "<pre> \n",
    "+ Denoted by: \n",
    "\n",
    "                                 -----------◇  \n",
    "\n",
    "+ It is a special type of association that specifies the whole and its parts\n",
    "+ Consider the classes \"Elephent\" and \"Heard\"\n",
    "+ An elephent could be a part of a head or it could choose to exist on its own as a wild \n",
    "  elephent. \n",
    "<b>\n",
    "                     __________                __________\n",
    "                    |          |              |          |\n",
    "                    | Elephent |              |  Heard   |\n",
    "                    |__________|              |__________|\n",
    "                    |          |              |          |\n",
    "                    |          | -----------◇ |          |\n",
    "                    |__________|              |__________|\n",
    "                    |          |              |          |\n",
    "                    |          |              |          |\n",
    "                    |__________|              |__________|\n",
    "</b>\n",
    "</pre> \n",
    "\n",
    "\n",
    "### Composition\n",
    "<pre>\n",
    "+ Denoted by: \n",
    "\n",
    "                                 ----------◆\n",
    "\n",
    "+ It is when a child object would not be able to exist without its parent object\n",
    "+ Consider the classes \"Bedroom\" and \"House\"\n",
    "+ A bedroom in a given house only exist if and only if the house exists. In this case, the\n",
    "  \"Bedroom\" object would be destroyed if and when the \"House\" object is destroyed\n",
    "<b>\n",
    "                     __________                __________\n",
    "                    |          |              |          |\n",
    "                    | Bedroom  |              |  House   |\n",
    "                    |__________|              |__________|\n",
    "                    |          |              |          |\n",
    "                    |          | -----------◆ |          |\n",
    "                    |__________|              |__________|\n",
    "                    |          |              |          |\n",
    "                    |          |              |          |\n",
    "                    |__________|              |__________|\n",
    "</b>\n",
    "</pre> \n",
    "\n",
    "\n",
    "### Multiplicity\n",
    "<pre>\n",
    "+ It allows one to set numerical constrains on a given relationship\n",
    "+ Common types of multiplicity are as follows:\n",
    "\n",
    "     0..1   : Zero to One (Defining this is optional)\n",
    "     n      : A Specific Number\n",
    "     0..*   : Zero to Many\n",
    "     1..*   : One to Many\n",
    "     m..n   : Specific Number Range\n",
    "+ Consider the example before of the classes \"Bedroom\" and \"House\"\n",
    "<b>\n",
    "     __________                    __________                                ______________\n",
    "    |          |                  |          |                              |              |\n",
    "    | Bedroom  |                  |  House   |                         0..1 | Laundry_Room |\n",
    "    |__________|                  |__________| ◆--------------------------- |______________|\n",
    "    |          | 1..*             |          |                              |              |\n",
    "    |          | ---------------◆ |          |                              |              |\n",
    "    |__________|                  |__________|                              |______________|\n",
    "    |          |                  |          | ◆-------------------         |              |\n",
    "    |          |                  |          |                     |        |              |\n",
    "    |__________|                  |__________|                     |        |______________|\n",
    "                                        ◆                          |\n",
    "                                        |                          |\n",
    "                                        |                          |\n",
    "                                        |                          |\n",
    "                                   1..* |                        1 |\n",
    "                                   ___________                ___________\n",
    "                                  |           |              |           |\n",
    "                                  |  Bathroom |              |  Kitchen  |\n",
    "                                  |___________|              |___________|\n",
    "                                  |           |              |           |\n",
    "                                  |           |              |           |\n",
    "                                  |___________|              |___________|\n",
    "                                  |           |              |           |\n",
    "                                  |           |              |           |\n",
    "                                  |___________|              |___________|  \n",
    "</b>\n",
    "</pre> "
   ]
  },
  {
   "cell_type": "markdown",
   "id": "fdcd6765",
   "metadata": {},
   "source": [
    "### See the following example of a class diagram of an online shopping cart:\n",
    "<pre>\n",
    "Reference: <a href=\"https://lucid.app/lucidchart/0b16b542-7e4e-4124-a12b-b18b99c999be/view?utm_source=youtube&utm_medium=video&utm_campaign=uml_cd_example\">LINK</a>\n",
    "</pre>\n",
    "<img src=\"uml.jpg\" width=\"1000\" height=\"800\" type=\"image/jpg\"> "
   ]
  },
  {
   "cell_type": "markdown",
   "id": "d0151260",
   "metadata": {},
   "source": [
    "<center> \n",
    "    <font size=6 color=\"blue\">\n",
    "        <b>Basic Implementation of Mathematical Functions</b>\n",
    "    </font>\n",
    "</center>"
   ]
  },
  {
   "cell_type": "markdown",
   "id": "a37ed1b9",
   "metadata": {},
   "source": [
    "# Piecewise Functions\n",
    "\n",
    "$$\n",
    "|x| = \\sqrt{x^2} = \\begin{cases}  x & \\mbox{ if $ x>0 $}\\\\  0 & \\mbox{ if $ x = 0 $}\\\\  -x & \\mbox{ if $ x< 0 $}  \\end{cases}  \\\n",
    "$$"
   ]
  },
  {
   "cell_type": "code",
   "execution_count": 193,
   "id": "d4ba439d",
   "metadata": {},
   "outputs": [],
   "source": [
    "def f(x: float = 0) -> float:\n",
    "    \"This function returns the absolute value of a given value\"\n",
    "    if x > 0:\n",
    "        return x\n",
    "    elif x == 0:\n",
    "        return 0\n",
    "    else:\n",
    "        return -x"
   ]
  },
  {
   "cell_type": "code",
   "execution_count": 194,
   "id": "9b55b6cd",
   "metadata": {},
   "outputs": [
    {
     "name": "stdout",
     "output_type": "stream",
     "text": [
      "index\t\tx\t\tf(x)\n",
      "  0\t\t-10\t\t 10\n",
      "  1\t\t-9\t\t 9\n",
      "  2\t\t-8\t\t 8\n",
      "  3\t\t-7\t\t 7\n",
      "  4\t\t-6\t\t 6\n",
      "  5\t\t-5\t\t 5\n",
      "  6\t\t-4\t\t 4\n",
      "  7\t\t-3\t\t 3\n",
      "  8\t\t-2\t\t 2\n",
      "  9\t\t-1\t\t 1\n",
      "  10\t\t0\t\t 0\n",
      "  11\t\t1\t\t 1\n",
      "  12\t\t2\t\t 2\n",
      "  13\t\t3\t\t 3\n",
      "  14\t\t4\t\t 4\n",
      "  15\t\t5\t\t 5\n",
      "  16\t\t6\t\t 6\n",
      "  17\t\t7\t\t 7\n",
      "  18\t\t8\t\t 8\n",
      "  19\t\t9\t\t 9\n",
      "  20\t\t10\t\t 10\n"
     ]
    }
   ],
   "source": [
    "print(\"index\\t\\tx\\t\\tf(x)\")\n",
    "for i, val in enumerate(range(-10, 11)):\n",
    "    print(f\"  {i}\\t\\t{val}\\t\\t {f(val)}\")"
   ]
  },
  {
   "cell_type": "code",
   "execution_count": 195,
   "id": "617df25d",
   "metadata": {},
   "outputs": [
    {
     "name": "stdout",
     "output_type": "stream",
     "text": [
      "index\t\tx\t\tf(x)\n",
      "  0\t\t-5.0\t\t 5.0\n",
      "  1\t\t-4.5\t\t 4.5\n",
      "  2\t\t-4.0\t\t 4.0\n",
      "  3\t\t-3.5\t\t 3.5\n",
      "  4\t\t-3.0\t\t 3.0\n",
      "  5\t\t-2.5\t\t 2.5\n",
      "  6\t\t-2.0\t\t 2.0\n",
      "  7\t\t-1.5\t\t 1.5\n",
      "  8\t\t-1.0\t\t 1.0\n",
      "  9\t\t-0.5\t\t 0.5\n",
      "  10\t\t0.0\t\t 0\n",
      "  11\t\t0.5\t\t 0.5\n",
      "  12\t\t1.0\t\t 1.0\n",
      "  13\t\t1.5\t\t 1.5\n",
      "  14\t\t2.0\t\t 2.0\n",
      "  15\t\t2.5\t\t 2.5\n",
      "  16\t\t3.0\t\t 3.0\n",
      "  17\t\t3.5\t\t 3.5\n",
      "  18\t\t4.0\t\t 4.0\n",
      "  19\t\t4.5\t\t 4.5\n",
      "  20\t\t5.0\t\t 5.0\n"
     ]
    }
   ],
   "source": [
    "print(\"index\\t\\tx\\t\\tf(x)\")\n",
    "for i, val in enumerate(range(-10, 11)):\n",
    "    print(f\"  {i}\\t\\t{val/2}\\t\\t {f(val/2)}\")"
   ]
  },
  {
   "cell_type": "markdown",
   "id": "722d4eaf",
   "metadata": {},
   "source": [
    "$$\n",
    "rect(x) = \\begin{cases} \n",
    "          0 & |x| > \\frac{1}{2} \\\\\n",
    "          \\frac{1}{2} & |x|= \\frac{1}{2} \\\\\n",
    "          1 & |x| < \\frac{1}{2}\n",
    "       \\end{cases}\n",
    "$$"
   ]
  },
  {
   "cell_type": "code",
   "execution_count": 271,
   "id": "e6b37a0a",
   "metadata": {},
   "outputs": [
    {
     "data": {
      "text/plain": [
       "[<matplotlib.lines.Line2D at 0x7f359a132740>]"
      ]
     },
     "execution_count": 271,
     "metadata": {},
     "output_type": "execute_result"
    },
    {
     "data": {
      "image/png": "[encoded data removed]",
      "text/plain": [
       "<Figure size 432x288 with 1 Axes>"
      ]
     },
     "metadata": {
      "needs_background": "light"
     },
     "output_type": "display_data"
    }
   ],
   "source": [
    "def rect(x: float = 0.0) -> float:\n",
    "    if abs(x) > 0.5:\n",
    "        return 0\n",
    "    elif abs(x) == 0.5:\n",
    "        return 0.5\n",
    "    elif abs(x) < 0.5:\n",
    "        return 1\n",
    "    else:\n",
    "        return None\n",
    "\n",
    "    \n",
    "import numpy as np\n",
    "import matplotlib.pyplot as plt\n",
    "\n",
    "x    = np.linspace(-2, 2)\n",
    "func = [rect(i) for i in x]\n",
    "\n",
    "plt.plot(x, func)"
   ]
  },
  {
   "cell_type": "markdown",
   "id": "893bb757",
   "metadata": {},
   "source": [
    "# Summation Functions\n",
    "$$\n",
    "f(x) = \\sum \\limits_{n=0}^{5} {c_n x_n}\n",
    "$$"
   ]
  },
  {
   "cell_type": "code",
   "execution_count": 221,
   "id": "c0c72403",
   "metadata": {},
   "outputs": [],
   "source": [
    "c = [0.18, 0.42, 0.51, 0.31, 0.65]\n",
    "x = [  2 ,   3 ,   5 ,   6 ,   7 ]"
   ]
  },
  {
   "cell_type": "code",
   "execution_count": 222,
   "id": "f70bbe9d",
   "metadata": {},
   "outputs": [
    {
     "data": {
      "text/plain": [
       "0.36"
      ]
     },
     "execution_count": 222,
     "metadata": {},
     "output_type": "execute_result"
    }
   ],
   "source": [
    "f_x = c[0]*x[0]\n",
    "round(f_x, 6)"
   ]
  },
  {
   "cell_type": "code",
   "execution_count": 223,
   "id": "b9fb1228",
   "metadata": {},
   "outputs": [
    {
     "data": {
      "text/plain": [
       "1.62"
      ]
     },
     "execution_count": 223,
     "metadata": {},
     "output_type": "execute_result"
    }
   ],
   "source": [
    "f_x = c[0]*x[0] + c[1]*x[1]\n",
    "round(f_x, 6)"
   ]
  },
  {
   "cell_type": "code",
   "execution_count": 224,
   "id": "756c348e",
   "metadata": {},
   "outputs": [
    {
     "data": {
      "text/plain": [
       "4.17"
      ]
     },
     "execution_count": 224,
     "metadata": {},
     "output_type": "execute_result"
    }
   ],
   "source": [
    "f_x = c[0]*x[0] + c[1]*x[1] + c[2]*x[2]\n",
    "round(f_x, 6)"
   ]
  },
  {
   "cell_type": "code",
   "execution_count": 225,
   "id": "a0cd2a5c",
   "metadata": {},
   "outputs": [
    {
     "data": {
      "text/plain": [
       "6.03"
      ]
     },
     "execution_count": 225,
     "metadata": {},
     "output_type": "execute_result"
    }
   ],
   "source": [
    "f_x = c[0]*x[0] + c[1]*x[1] + c[2]*x[2] + c[3]*x[3]\n",
    "round(f_x, 6)"
   ]
  },
  {
   "cell_type": "code",
   "execution_count": 226,
   "id": "291c411b",
   "metadata": {},
   "outputs": [
    {
     "data": {
      "text/plain": [
       "10.58"
      ]
     },
     "execution_count": 226,
     "metadata": {},
     "output_type": "execute_result"
    }
   ],
   "source": [
    "f_x = c[0]*x[0] + c[1]*x[1] + c[2]*x[2] + c[3]*x[3] + c[4]*x[4]\n",
    "round(f_x, 6)"
   ]
  },
  {
   "cell_type": "code",
   "execution_count": 227,
   "id": "3763fdf9",
   "metadata": {},
   "outputs": [
    {
     "name": "stdout",
     "output_type": "stream",
     "text": [
      "0.36\n",
      "1.62\n",
      "4.17\n",
      "6.03\n",
      "10.58\n",
      "\n",
      "\n",
      "10.58\n"
     ]
    }
   ],
   "source": [
    "for i, n in enumerate(zip(c, x)):\n",
    "    if i == 0:\n",
    "        f_x = n[0]*n[1]\n",
    "    else:\n",
    "        f_x += n[0]*n[1]\n",
    "    print(round(f_x, 6))\n",
    "\n",
    "print(\"\\n\")\n",
    "print(round(f_x, 6))"
   ]
  },
  {
   "cell_type": "markdown",
   "id": "1387639c",
   "metadata": {},
   "source": [
    "# Product Functions\n",
    "$$\n",
    "f(x) = \\prod \\limits_{n=0}^{5} {c_n x_n}\n",
    "$$"
   ]
  },
  {
   "cell_type": "code",
   "execution_count": 228,
   "id": "d6fafd3a",
   "metadata": {},
   "outputs": [],
   "source": [
    "c = [0.18, 0.42, 0.51, 0.31, 0.65]\n",
    "x = [  2 ,   3 ,   5 ,   6 ,   7 ]"
   ]
  },
  {
   "cell_type": "code",
   "execution_count": 229,
   "id": "11b51114",
   "metadata": {},
   "outputs": [
    {
     "data": {
      "text/plain": [
       "0.36"
      ]
     },
     "execution_count": 229,
     "metadata": {},
     "output_type": "execute_result"
    }
   ],
   "source": [
    "f_x = c[0]*x[0]\n",
    "round(f_x, 6)"
   ]
  },
  {
   "cell_type": "code",
   "execution_count": 230,
   "id": "20beef30",
   "metadata": {},
   "outputs": [
    {
     "data": {
      "text/plain": [
       "0.4536"
      ]
     },
     "execution_count": 230,
     "metadata": {},
     "output_type": "execute_result"
    }
   ],
   "source": [
    "f_x = c[0]*x[0] * c[1]*x[1]\n",
    "round(f_x, 6)"
   ]
  },
  {
   "cell_type": "code",
   "execution_count": 231,
   "id": "5e431f3b",
   "metadata": {},
   "outputs": [
    {
     "data": {
      "text/plain": [
       "1.15668"
      ]
     },
     "execution_count": 231,
     "metadata": {},
     "output_type": "execute_result"
    }
   ],
   "source": [
    "f_x = c[0]*x[0] * c[1]*x[1] * c[2]*x[2]\n",
    "round(f_x, 6)"
   ]
  },
  {
   "cell_type": "code",
   "execution_count": 232,
   "id": "df369753",
   "metadata": {},
   "outputs": [
    {
     "data": {
      "text/plain": [
       "2.151425"
      ]
     },
     "execution_count": 232,
     "metadata": {},
     "output_type": "execute_result"
    }
   ],
   "source": [
    "f_x = c[0]*x[0] * c[1]*x[1] * c[2]*x[2] * c[3]*x[3]\n",
    "round(f_x, 6)"
   ]
  },
  {
   "cell_type": "code",
   "execution_count": 233,
   "id": "1cf34c76",
   "metadata": {},
   "outputs": [
    {
     "data": {
      "text/plain": [
       "9.788983"
      ]
     },
     "execution_count": 233,
     "metadata": {},
     "output_type": "execute_result"
    }
   ],
   "source": [
    "f_x = c[0]*x[0] * c[1]*x[1] * c[2]*x[2] * c[3]*x[3] * c[4]*x[4]\n",
    "round(f_x, 6)"
   ]
  },
  {
   "cell_type": "code",
   "execution_count": 234,
   "id": "17730a18",
   "metadata": {},
   "outputs": [
    {
     "name": "stdout",
     "output_type": "stream",
     "text": [
      "0.36\n",
      "0.4536\n",
      "1.15668\n",
      "2.151425\n",
      "9.788983\n",
      "\n",
      "\n",
      "9.788983\n"
     ]
    }
   ],
   "source": [
    "for i, n in enumerate(zip(c, x)):\n",
    "    if i == 0:\n",
    "        f_x = n[0]*n[1]\n",
    "    else:\n",
    "        f_x *= n[0]*n[1]\n",
    "    print(round(f_x, 6))\n",
    "\n",
    "print(\"\\n\")\n",
    "print(round(f_x, 6))"
   ]
  },
  {
   "cell_type": "markdown",
   "id": "8f0ed511",
   "metadata": {},
   "source": [
    " "
   ]
  },
  {
   "cell_type": "markdown",
   "id": "338e41e4",
   "metadata": {},
   "source": [
    " \n",
    "    "
   ]
  },
  {
   "cell_type": "markdown",
   "id": "b8e5c856",
   "metadata": {},
   "source": [
    "  "
   ]
  },
  {
   "cell_type": "markdown",
   "id": "2e566460",
   "metadata": {},
   "source": [
    "# Other Discussion Points\n",
    "\n",
    "### Inform class about the upcoming signup sheet for presentations"
   ]
  },
  {
   "cell_type": "code",
   "execution_count": null,
   "id": "86b60f21",
   "metadata": {},
   "outputs": [],
   "source": []
  }
 ],
 "metadata": {
  "kernelspec": {
   "display_name": "Python 3 (ipykernel)",
   "language": "python",
   "name": "python3"
  },
  "language_info": {
   "codemirror_mode": {
    "name": "ipython",
    "version": 3
   },
   "file_extension": ".py",
   "mimetype": "text/x-python",
   "name": "python",
   "nbconvert_exporter": "python",
   "pygments_lexer": "ipython3",
   "version": "3.9.12"
  }
 },
 "nbformat": 4,
 "nbformat_minor": 5
}
