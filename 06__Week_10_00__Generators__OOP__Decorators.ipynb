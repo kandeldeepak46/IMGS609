{
 "cells": [
  {
   "cell_type": "markdown",
   "id": "23492494",
   "metadata": {},
   "source": [
    "<!-------------------------------------------------------------------------->\n",
    "<!------------------------------- WEEK 07 ---------------------------------->\n",
    "<!-------------------------------------------------------------------------->\n",
    "<font size=6 color=\"red\"> Week 10 </font>\n",
    "<br>\n",
    "<br>\n",
    "<br>\n",
    "<font size=6 color=\"blue\"> NOTEBOOK 06 </font>"
   ]
  },
  {
   "cell_type": "markdown",
   "id": "2a7b4b9e",
   "metadata": {},
   "source": [
    " "
   ]
  },
  {
   "cell_type": "markdown",
   "id": "52422316",
   "metadata": {},
   "source": [
    "<center> \n",
    "    <font size=6 color=\"blue\">\n",
    "        <b>Python Generators</b>\n",
    "    </font>\n",
    "</center>"
   ]
  },
  {
   "cell_type": "markdown",
   "id": "032bbf0b",
   "metadata": {},
   "source": [
    "<pre>\n",
    "+ They allow one to manage lage datasets with minimal memory footprint\n",
    "+ A Generators maintain an internal state, giving one more options than just creating a class \n",
    "  when you only need a small function.\n",
    "+ A generator creates an <b>iterator</b> a its output\n",
    "+ One can connect together multiple generators to create a <b>generator pipeline</b>\n",
    "</pre>"
   ]
  },
  {
   "cell_type": "markdown",
   "id": "7384fd83",
   "metadata": {},
   "source": [
    "# The Generator Function\n",
    "<pre>\n",
    "+ Written like a reguler function\n",
    "+ However, it uses the yield keyword\n",
    "+ It returns a <b>lazy iterator</b> - means the content is not sorted in memory\n",
    "\n",
    "Consider the following list of words:\n",
    "</pre>"
   ]
  },
  {
   "cell_type": "code",
   "execution_count": null,
   "id": "fdcf383a",
   "metadata": {},
   "outputs": [],
   "source": [
    "# Defining a list of words\n",
    "words_list = [\"night\", \"fifty\", \"maintain\", \"security\", \"state\", \n",
    "              \"needle\", \"knowledge\", \"internal\", \"self\", \"shadow\", \n",
    "              \"ghost\", \"voice\", \"potatoes\", \"conversation\", \"learn\"]"
   ]
  },
  {
   "cell_type": "markdown",
   "id": "a94d7921",
   "metadata": {},
   "source": [
    "<pre>\n",
    "One can define a function to return a list of words that contain a given character\n",
    "</pre>"
   ]
  },
  {
   "cell_type": "code",
   "execution_count": null,
   "id": "c8803432",
   "metadata": {},
   "outputs": [],
   "source": [
    "def contains_character(words: list = [], character: str = \"\") -> list:\n",
    "    \"\"\"\n",
    "    This function shall return a list of words that contain a given character\n",
    "    \"\"\"\n",
    "    words_found = []\n",
    "    for word in words:\n",
    "        if character in word:\n",
    "            words_found.append(word)\n",
    "    return words_found"
   ]
  },
  {
   "cell_type": "code",
   "execution_count": null,
   "id": "ad7afb17",
   "metadata": {},
   "outputs": [],
   "source": [
    "contains_character(words = words_list, character = \"a\")"
   ]
  },
  {
   "cell_type": "markdown",
   "id": "1e1373ef",
   "metadata": {},
   "source": [
    "<pre>\n",
    "Let's convert the above function into a generator function\n",
    "<pre>"
   ]
  },
  {
   "cell_type": "code",
   "execution_count": null,
   "id": "01a06e06",
   "metadata": {},
   "outputs": [],
   "source": [
    "def contains_character(words: list = [], character: str = \"\") -> list:\n",
    "    \"\"\"\n",
    "    This function shall return a list of words that contain a given character\n",
    "    \"\"\"\n",
    "    #words_found = []\n",
    "    for word in words:\n",
    "        if character in word:\n",
    "            #words_found.append(word)\n",
    "            yield word\n",
    "    #return words_found"
   ]
  },
  {
   "cell_type": "code",
   "execution_count": null,
   "id": "912779a2",
   "metadata": {},
   "outputs": [],
   "source": [
    "contains_character(words = words_list, character = \"a\")"
   ]
  },
  {
   "cell_type": "markdown",
   "id": "0bb08a73",
   "metadata": {},
   "source": [
    "<pre>\n",
    "You have created a <b>Generator Object</b>. But how can be see the content inside this object?\n",
    "We can <b>type cast</b> it into a list.\n",
    "</pre>"
   ]
  },
  {
   "cell_type": "code",
   "execution_count": null,
   "id": "861a13ae",
   "metadata": {},
   "outputs": [],
   "source": [
    "list(contains_character(words = words_list, character = \"a\"))"
   ]
  },
  {
   "cell_type": "markdown",
   "id": "84ab51f6",
   "metadata": {},
   "source": [
    "<pre>\n",
    "We can see that the reuturned list is an iterable\n",
    "</pre>"
   ]
  },
  {
   "cell_type": "code",
   "execution_count": null,
   "id": "5c1c1054",
   "metadata": {},
   "outputs": [],
   "source": [
    "words_found_list = contains_character(words = words_list, character = \"a\")\n",
    "for word in words_found_list:\n",
    "    print(word)"
   ]
  },
  {
   "cell_type": "markdown",
   "id": "5009d3f5",
   "metadata": {},
   "source": [
    " \n",
    "    "
   ]
  },
  {
   "cell_type": "markdown",
   "id": "af697b5a",
   "metadata": {},
   "source": [
    "  "
   ]
  },
  {
   "cell_type": "markdown",
   "id": "221907e8",
   "metadata": {},
   "source": [
    "# Generator Object Exhaustion\n",
    "<pre>\n",
    "It is when an object has been used once and it is no longer available to be use again. Let's \n",
    "take the example before to demonstrate this idea.\n",
    "</pre>"
   ]
  },
  {
   "cell_type": "markdown",
   "id": "1804d2b2",
   "metadata": {},
   "source": [
    "</pre>\n",
    "Consider the following list...\n",
    "</pre>"
   ]
  },
  {
   "cell_type": "code",
   "execution_count": null,
   "id": "880cd876",
   "metadata": {},
   "outputs": [],
   "source": [
    "words_list = [\"night\", \"fifty\", \"maintain\", \"security\", \"state\", \n",
    "              \"needle\", \"knowledge\", \"internal\", \"self\", \"shadow\", \n",
    "              \"ghost\", \"voice\", \"potatoes\", \"conversation\", \"learn\"]"
   ]
  },
  {
   "cell_type": "markdown",
   "id": "dc9519bf",
   "metadata": {},
   "source": [
    "</pre>\n",
    "Consider the following Generator Function...\n",
    "</pre>"
   ]
  },
  {
   "cell_type": "code",
   "execution_count": null,
   "id": "3a9127e9",
   "metadata": {},
   "outputs": [],
   "source": [
    "def contains_character(words: list = [], character: str = \"\") -> list:\n",
    "    \"\"\"\n",
    "    This function shall return a list of words that contain a given character\n",
    "    \"\"\"\n",
    "    for word in words:\n",
    "        if character in word:\n",
    "            yield word"
   ]
  },
  {
   "cell_type": "markdown",
   "id": "cea330e6",
   "metadata": {},
   "source": [
    "<pre>\n",
    "Initiating the Generator Object\n",
    "</pre>"
   ]
  },
  {
   "cell_type": "code",
   "execution_count": null,
   "id": "bb7a215e",
   "metadata": {},
   "outputs": [],
   "source": [
    "words_found_gen_object = contains_character(words = words_list, character = \"a\")\n",
    "words_found_gen_object"
   ]
  },
  {
   "cell_type": "markdown",
   "id": "52904010",
   "metadata": {},
   "source": [
    "<pre>\n",
    "Lets type cast it and get the content in the generator object\n",
    "</pre>"
   ]
  },
  {
   "cell_type": "code",
   "execution_count": null,
   "id": "ef8ddd55",
   "metadata": {},
   "outputs": [],
   "source": [
    "words_found_list = list(words_found_gen_object)\n",
    "words_found_list"
   ]
  },
  {
   "cell_type": "markdown",
   "id": "8b591eb1",
   "metadata": {},
   "source": [
    "<pre>\n",
    "Now lets run it again and see what happens...\n",
    "</pre>"
   ]
  },
  {
   "cell_type": "code",
   "execution_count": null,
   "id": "074df76f",
   "metadata": {},
   "outputs": [],
   "source": [
    "words_found_list = list(words_found_gen_object)\n",
    "words_found_list"
   ]
  },
  {
   "cell_type": "markdown",
   "id": "fd8458af",
   "metadata": {},
   "source": [
    "<pre>\n",
    "We can see that it is the same with the other <b>appropriate data structures</b> as well...\n",
    "</pre>"
   ]
  },
  {
   "cell_type": "code",
   "execution_count": null,
   "id": "47341d3e",
   "metadata": {},
   "outputs": [],
   "source": [
    "# SET\n",
    "words_found_list = set(words_found_gen_object)\n",
    "words_found_list"
   ]
  },
  {
   "cell_type": "code",
   "execution_count": null,
   "id": "2aa58a8b",
   "metadata": {},
   "outputs": [],
   "source": [
    "# TUPLE\n",
    "words_found_list = tuple(words_found_gen_object)\n",
    "words_found_list"
   ]
  },
  {
   "cell_type": "markdown",
   "id": "8f076766",
   "metadata": {},
   "source": [
    "# Using the keyword \"next()\""
   ]
  },
  {
   "cell_type": "code",
   "execution_count": null,
   "id": "33dc8bdf",
   "metadata": {},
   "outputs": [],
   "source": [
    "words_list = [\"night\", \"fifty\", \"maintain\", \"security\", \"state\", \n",
    "              \"needle\", \"knowledge\", \"internal\", \"self\", \"shadow\", \n",
    "              \"ghost\", \"voice\", \"potatoes\", \"conversation\", \"learn\"]\n",
    "\n",
    "\n",
    "def contains_character(words: list = [], character: str = \"\") -> list:\n",
    "    \"\"\"\n",
    "    This function shall return a list of words that contain a given character\n",
    "    \"\"\"\n",
    "    for word in words:\n",
    "        if character in word:\n",
    "            yield word"
   ]
  },
  {
   "cell_type": "code",
   "execution_count": null,
   "id": "791007fc",
   "metadata": {},
   "outputs": [],
   "source": [
    "words_found_gen_object = contains_character(words = words_list, character = \"a\")\n",
    "words_found_gen_object"
   ]
  },
  {
   "cell_type": "code",
   "execution_count": null,
   "id": "f193539c",
   "metadata": {},
   "outputs": [],
   "source": [
    "print(next(words_found_gen_object))"
   ]
  },
  {
   "cell_type": "code",
   "execution_count": null,
   "id": "be721543",
   "metadata": {},
   "outputs": [],
   "source": [
    "print(next(words_found_gen_object))"
   ]
  },
  {
   "cell_type": "code",
   "execution_count": null,
   "id": "174b297d",
   "metadata": {},
   "outputs": [],
   "source": [
    "print(next(words_found_gen_object))"
   ]
  },
  {
   "cell_type": "code",
   "execution_count": null,
   "id": "3d1355e0",
   "metadata": {},
   "outputs": [],
   "source": [
    "print(next(words_found_gen_object))"
   ]
  },
  {
   "cell_type": "code",
   "execution_count": null,
   "id": "16425e2f",
   "metadata": {},
   "outputs": [],
   "source": [
    "print(next(words_found_gen_object))"
   ]
  },
  {
   "cell_type": "code",
   "execution_count": null,
   "id": "49ec0d28",
   "metadata": {},
   "outputs": [],
   "source": [
    "print(next(words_found_gen_object))"
   ]
  },
  {
   "cell_type": "code",
   "execution_count": null,
   "id": "4e092987",
   "metadata": {},
   "outputs": [],
   "source": [
    "print(next(words_found_gen_object))"
   ]
  },
  {
   "cell_type": "markdown",
   "id": "b7c76237",
   "metadata": {},
   "source": [
    "<pre>\n",
    "Note that we are at the end of our list <b>generated by</b> our Generator Object. If we run\n",
    "the above statement one more time, we will get a <b>StopIteration</b> error since there are\n",
    "no elements left in the list to be itereated over.\n",
    "</pre>"
   ]
  },
  {
   "cell_type": "code",
   "execution_count": null,
   "id": "2aa5465f",
   "metadata": {},
   "outputs": [],
   "source": [
    "print(next(words_found_gen_object))"
   ]
  },
  {
   "cell_type": "markdown",
   "id": "173ee460",
   "metadata": {},
   "source": [
    "# The Generator Expressions"
   ]
  },
  {
   "cell_type": "markdown",
   "id": "341b252b",
   "metadata": {},
   "source": [
    "<pre>\n",
    "Consider a function that allows one to output a list of squrared numbers\n",
    "</pre>"
   ]
  },
  {
   "cell_type": "code",
   "execution_count": null,
   "id": "68de8433",
   "metadata": {},
   "outputs": [],
   "source": [
    "def square(stop_num: int = 0) -> int:\n",
    "    squared_nums_list = []\n",
    "    for n in range(1, stop_num):\n",
    "        squared_nums_list.append(n**2)\n",
    "    return squared_nums_list"
   ]
  },
  {
   "cell_type": "code",
   "execution_count": null,
   "id": "4ba11456",
   "metadata": {},
   "outputs": [],
   "source": [
    "print(square(10))"
   ]
  },
  {
   "cell_type": "markdown",
   "id": "4332e9cb",
   "metadata": {},
   "source": [
    "<pre>\n",
    "Lets implement the above function as a list comprehension\n",
    "</pre>"
   ]
  },
  {
   "cell_type": "code",
   "execution_count": null,
   "id": "ca9497d3",
   "metadata": {},
   "outputs": [],
   "source": [
    "stop_num = 10\n",
    "squared_nums_list = [n**2 for n in range(1, stop_num)]\n",
    "squared_nums_list"
   ]
  },
  {
   "cell_type": "markdown",
   "id": "9c3034d6",
   "metadata": {},
   "source": [
    "<pre>\n",
    "To convert the above expression into a <b>GENERATOR EXPRESSION</b> we will change the\n",
    "<b>squre brackets</b> into <b>parenthesis</b>\n",
    "</pre>"
   ]
  },
  {
   "cell_type": "code",
   "execution_count": null,
   "id": "071bdacd",
   "metadata": {},
   "outputs": [],
   "source": [
    "stop_num = 10\n",
    "squared_nums_list = (n**2 for n in range(1, stop_num))\n",
    "squared_nums_list"
   ]
  },
  {
   "cell_type": "markdown",
   "id": "cbaa1ed8",
   "metadata": {},
   "source": [
    "<pre>\n",
    "As we can see, just like list comprehension, the generator expressions can create an iterator\n",
    "in as little as a single line of code. It has all the same uses and benefits as list \n",
    "comprehension with an <b>additional</b> benefit of <b>saving memory</b>\n",
    "\n",
    "<font color=\"red\">\n",
    "WARNNING: Due to its benefits one can easily over use them, and it will result in poor \n",
    "readability of ones code.\n",
    "</font>\n",
    "\n",
    "When interacting with these expressions one can do the following:\n",
    "\n",
    "+ Type cast it\n",
    "+ Iterate over it\n",
    "+ Use the \"next\" keyword to get the next element\n",
    "+ One can exhaust a generator object that was generated by a generator expression.\n",
    "</pre>"
   ]
  },
  {
   "cell_type": "markdown",
   "id": "1ea750d2",
   "metadata": {},
   "source": [
    "# Memory Management"
   ]
  },
  {
   "cell_type": "markdown",
   "id": "2e72d808",
   "metadata": {},
   "source": [
    "<pre>\n",
    "Consider the following function\n",
    "</pre>"
   ]
  },
  {
   "cell_type": "code",
   "execution_count": null,
   "id": "5ceccab3",
   "metadata": {},
   "outputs": [],
   "source": [
    "def count_up_numbers():\n",
    "    \"\"\"\n",
    "    DESCRIPTION:\n",
    "    \n",
    "    This function will count up number while adding it to a list.\n",
    "    \n",
    "    WARNNING:\n",
    "    \n",
    "    This function is purposely designed to overflow memory for demonstraion purpose of a \n",
    "    function that shall exhaust the computer memory resources. Note, there is no return.\n",
    "    \n",
    "    RESULT:\n",
    "    \n",
    "    The execution of this function shall result in kernel death or a \"MemoryError\"   \n",
    "    \"\"\"\n",
    "    list_nums = []\n",
    "    num = 0\n",
    "    while True:\n",
    "        list_nums.append(num)\n",
    "        num += 1"
   ]
  },
  {
   "cell_type": "code",
   "execution_count": null,
   "id": "5e3da8c5",
   "metadata": {},
   "outputs": [],
   "source": [
    "#count_up_numbers()"
   ]
  },
  {
   "cell_type": "markdown",
   "id": "d81a30b2",
   "metadata": {},
   "source": [
    "<pre>\n",
    "Lets make a generator function for the above function. This function below will \n",
    "run <b>WITHOUT</b> memory constrains as it is \"not\" storing anything to the memory.\n",
    "</pre>"
   ]
  },
  {
   "cell_type": "code",
   "execution_count": null,
   "id": "b5d7c26e",
   "metadata": {},
   "outputs": [],
   "source": [
    "def count_up_numbers():\n",
    "    \"\"\"\n",
    "    DESCRIPTION:\n",
    "    \n",
    "    This function will count up number while adding it to a list.\n",
    "    \n",
    "    WARNNING:\n",
    "    \n",
    "    This function will run until your computer dies\n",
    "    \n",
    "    RESULT:\n",
    "    \n",
    "    The execution of this function will outout a generator object    \n",
    "    \"\"\"\n",
    "    #list_nums = []\n",
    "    num = 0\n",
    "    while True:\n",
    "        #list_nums.append(num)\n",
    "        yield num\n",
    "        num += 1"
   ]
  },
  {
   "cell_type": "code",
   "execution_count": null,
   "id": "989386a3",
   "metadata": {},
   "outputs": [],
   "source": [
    "#for num in count_up_numbers():\n",
    "#    print(num)"
   ]
  },
  {
   "cell_type": "markdown",
   "id": "f5bb5ced",
   "metadata": {},
   "source": [
    "# Space Complexity Vs. Time Complexity"
   ]
  },
  {
   "cell_type": "markdown",
   "id": "ddcd9300",
   "metadata": {},
   "source": [
    "### Memory Usage\n",
    "<pre>\n",
    "Lets check the memory footprint using an example:\n",
    "</pre>"
   ]
  },
  {
   "cell_type": "code",
   "execution_count": null,
   "id": "fb66dd17",
   "metadata": {},
   "outputs": [],
   "source": [
    "import sys\n",
    "\n",
    "squared_nums__lst_comp = [n**2 for n in range(1, 100000)]\n",
    "squared_nums__gen_expr = (n**2 for n in range(1, 100000))\n",
    "\n",
    "print(f\"Memory Usage for List Comprehension   : {sys.getsizeof(squared_nums__lst_comp)} [bytes]\")\n",
    "print(f\"Memory Usage for Generator Expression : {sys.getsizeof(squared_nums__gen_expr)} [bytes]\") "
   ]
  },
  {
   "cell_type": "markdown",
   "id": "194d8019",
   "metadata": {},
   "source": [
    "### Runtime"
   ]
  },
  {
   "cell_type": "markdown",
   "id": "4bd469d2",
   "metadata": {},
   "source": [
    "<pre>\n",
    "To see the runtime difference we will have to perform an operation on the iterators. In our \n",
    "case we will find the <b>max value</b>.\n",
    "</pre>"
   ]
  },
  {
   "cell_type": "code",
   "execution_count": null,
   "id": "60de72e5",
   "metadata": {},
   "outputs": [],
   "source": [
    "import cProfile as profile\n",
    "\n",
    "print(\"Runtime for List Comprehension   :\")\n",
    "profile_01 = profile.run(\"max([n**2 for n in range(1, 100000)])\")\n",
    "print(profile_01)\n",
    "\n",
    "print(\"\\n\\nRuntime for Generator Expression :\")\n",
    "profile_02 = profile.run(\"max((n**2 for n in range(1, 100000)))\");\n",
    "print(profile_02)"
   ]
  },
  {
   "cell_type": "markdown",
   "id": "b8752a63",
   "metadata": {},
   "source": [
    "### Summary\n",
    "<pre>\n",
    "+ List comprehensions <b>can be</b> faster\n",
    "+ Generator expressions <b>can save</b> memory\n",
    "</pre>"
   ]
  },
  {
   "cell_type": "markdown",
   "id": "fa5d62d8",
   "metadata": {},
   "source": [
    "# Exercise: "
   ]
  },
  {
   "cell_type": "markdown",
   "id": "a60134e9",
   "metadata": {},
   "source": [
    "### Question 01: Squaring Numbers\n",
    "<pre>\n",
    "+ Create a generator function called square\n",
    "+ The function will take a range stop number\n",
    "+ The function should square the numbers for each number in the range(1, number)\n",
    "</pre>"
   ]
  },
  {
   "cell_type": "code",
   "execution_count": null,
   "id": "1dc6d469-b8be-4256-b9b8-7e60cfaf7703",
   "metadata": {},
   "outputs": [],
   "source": []
  },
  {
   "cell_type": "code",
   "execution_count": 3,
   "id": "cea78303",
   "metadata": {},
   "outputs": [],
   "source": [
    "squares = []\n",
    "numbers = [x** 2 for x in range(5)]\n",
    "squares.append(numbers)"
   ]
  },
  {
   "cell_type": "code",
   "execution_count": 5,
   "id": "098d10b6-1025-4c74-90e0-2f5a23b2706b",
   "metadata": {},
   "outputs": [],
   "source": [
    "def square(number):\n",
    "    yield (x**2 for x in number)"
   ]
  },
  {
   "cell_type": "code",
   "execution_count": 8,
   "id": "624c8996",
   "metadata": {},
   "outputs": [
    {
     "data": {
      "text/plain": [
       "<generator object square at 0x000002456404AEB0>"
      ]
     },
     "execution_count": 8,
     "metadata": {},
     "output_type": "execute_result"
    }
   ],
   "source": [
    "square(5)"
   ]
  },
  {
   "cell_type": "code",
   "execution_count": null,
   "id": "b590b03a",
   "metadata": {},
   "outputs": [],
   "source": []
  },
  {
   "cell_type": "code",
   "execution_count": null,
   "id": "d65585ef",
   "metadata": {},
   "outputs": [],
   "source": []
  },
  {
   "cell_type": "markdown",
   "id": "a09472da",
   "metadata": {},
   "source": [
    "### Question 02: What is the biggest benefit of using a generator?\n",
    "<pre>\n",
    "🅐 creating an iterator\n",
    "🅑 holding an internal state\n",
    "🅒 using less code\n",
    "🅓 memory saving\n",
    "</pre>"
   ]
  },
  {
   "cell_type": "markdown",
   "id": "ac1e4d71",
   "metadata": {},
   "source": [
    "### Question 03: Which Python keyword creates generator functions?\n",
    "<pre>\n",
    "🅐 return\n",
    "🅑 generate\n",
    "🅒 yield\n",
    "🅓 next\n",
    "</pre>"
   ]
  },
  {
   "cell_type": "markdown",
   "id": "b655abe9",
   "metadata": {},
   "source": [
    "### Question 04: If a generator object becomes exhausted when using next(), what is the error you'll receive?\n",
    "<pre>\n",
    "🅐 IndexError\n",
    "🅑 OverflowError\n",
    "🅒 SystemError\n",
    "🅓 StopIteration\n",
    "</pre>"
   ]
  },
  {
   "cell_type": "markdown",
   "id": "09e2d7ea",
   "metadata": {},
   "source": [
    "### Question 05: Which option is a generator function?\n",
    "<pre>\n",
    "🅐 def evens():\n",
    "       count = 1\n",
    "       while True:\n",
    "           if count % 2 == 0:\n",
    "               yield count\n",
    "           return\n",
    "           count += 1\n",
    "\n",
    "🅑 def evens():\n",
    "       count = 1\n",
    "       while count < 20:\n",
    "           if count % 2 == 0:\n",
    "               print(count)\n",
    "           count += 1\n",
    "\n",
    "🅒 def evens():\n",
    "       count = 1\n",
    "       while True:\n",
    "           if count % 2 == 0:\n",
    "               yield count\n",
    "           count += 1\n",
    "\n",
    "🅓 def evens():\n",
    "       count = 1\n",
    "       while True:\n",
    "           if count % 2 == 0:\n",
    "               return count\n",
    "           count += 1\n",
    "</pre>"
   ]
  },
  {
   "cell_type": "markdown",
   "id": "8f1a50a6",
   "metadata": {},
   "source": [
    "### Question 06: The most words\n",
    "<pre>\n",
    "+ Use a generator expression\n",
    "+ Find the string containing the most amount of words\n",
    "+ Consider the list of strings below:\n",
    "</pre>"
   ]
  },
  {
   "cell_type": "code",
   "execution_count": 11,
   "id": "30462e6e",
   "metadata": {},
   "outputs": [],
   "source": [
    "strings_list = [\n",
    "    \"A grammatical unit that is syntactically\", \n",
    "    \"independent and has a\",\n",
    "    \"When you understand each unique type of sentence\", \n",
    "    \"you’ll become a stronger writer. That’s a conditional sentence.\", \n",
    "    \"Sentences can be classified in two ways: based on their function and based\",    # LONGEST\n",
    "    \"on their structure. When you describe\", \n",
    "    \"a sentence based on\", \n",
    "    \"its function, you’re describing it based on what it does.\", \n",
    "    \"Declarative sentences are among the most common sentences in the\", \n",
    "    \"English language. You use them\", \n",
    "    \"every day. They end with periods.\", \n",
    "    \"One hallmark of interrogative sentences is that they\", \n",
    "    \"usually begin with\", \n",
    "    \"pronouns or auxiliary verbs. When this kind of sentence \", \n",
    "    \"does start with the subject, it’s usually in colloquial speech.\", \n",
    "    \"Much like an interrogative question ends with a question mark, an\", \n",
    "    \"exclamatory sentence ends with an exclamation mark. These\", \n",
    "    \"sentences communicate heightened emotion and are often used as\", \n",
    "    \"greetings, warnings, or rallying cries.\", \n",
    "    \"The only difference between a declarative sentence and\", \n",
    "    \"an exclamatory one is the punctuation at the end. But that punctuation\", \n",
    "    \"makes a big difference\", \n",
    "    \"in how the reader or listened interprets the sentence.\"\n",
    "]"
   ]
  },
  {
   "cell_type": "code",
   "execution_count": 38,
   "id": "653fbf79-c5be-4047-bd39-417cc98d8609",
   "metadata": {},
   "outputs": [
    {
     "data": {
      "text/plain": [
       "6"
      ]
     },
     "execution_count": 38,
     "metadata": {},
     "output_type": "execute_result"
    }
   ],
   "source": [
    "len(strings_list[0].split())"
   ]
  },
  {
   "cell_type": "code",
   "execution_count": 29,
   "id": "74042418",
   "metadata": {},
   "outputs": [],
   "source": [
    "k = []\n",
    "for item in strings_list:\n",
    "    k.append(len(item.split()))"
   ]
  },
  {
   "cell_type": "code",
   "execution_count": null,
   "id": "8ba9e268-e6c1-4c0d-934e-b094fc648f0f",
   "metadata": {},
   "outputs": [],
   "source": []
  },
  {
   "cell_type": "code",
   "execution_count": 39,
   "id": "510d0cef",
   "metadata": {},
   "outputs": [],
   "source": [
    "x = (len(item.split()) for item in strings_list)"
   ]
  },
  {
   "cell_type": "code",
   "execution_count": null,
   "id": "30cecc7d",
   "metadata": {},
   "outputs": [],
   "source": []
  },
  {
   "cell_type": "code",
   "execution_count": null,
   "id": "80ae5f72",
   "metadata": {},
   "outputs": [],
   "source": []
  },
  {
   "cell_type": "markdown",
   "id": "ec764a10",
   "metadata": {},
   "source": [
    "### Question 07: What is not a way to view or interact with the elements inside of a generator object?\n",
    "<pre>\n",
    "🅐 for loop\n",
    "🅑 list()\n",
    "🅒 next()\n",
    "🅓 print()\n",
    "</pre>"
   ]
  },
  {
   "cell_type": "markdown",
   "id": "5bb14f55",
   "metadata": {},
   "source": [
    "### Question 08: Which statement about generator expressions versus list comprehensions is false?\n",
    "<pre>\n",
    "🅐 Generator expressions will always be faster than list comprehensions.\n",
    "🅑 Using generator expressions and list comprehensions can make your code less readable.\n",
    "🅒 Generator expressions will use less memory than list comprehensions.\n",
    "🅓 Both generator expressions and list comprehensions create an iterator.\n",
    "</pre>"
   ]
  },
  {
   "cell_type": "markdown",
   "id": "4f7d2bed",
   "metadata": {},
   "source": [
    "### Question 09: What is the correct way to build a list comprehension?\n",
    "<pre>\n",
    "🅐 [for element in iterable: expression ]\n",
    "🅑 [expression for element in iterable]\n",
    "🅒 [expression : for element in iterable]\n",
    "🅓 [for element in iterable expression ]\n",
    "</pre>"
   ]
  },
  {
   "cell_type": "markdown",
   "id": "364ecb3b",
   "metadata": {},
   "source": [
    "### Question 10: Which option is a generator expression?\n",
    "<pre>\n",
    "🅐 {num / 2 for num in numbers}\n",
    "🅑 {num: num / 2 for num in numbers}\n",
    "🅒 (num / 2 for num in numbers)\n",
    "🅓 [num / 2 for num in numbers]\n",
    "</pre>"
   ]
  },
  {
   "cell_type": "markdown",
   "id": "d0a4530b",
   "metadata": {},
   "source": [
    " "
   ]
  },
  {
   "cell_type": "markdown",
   "id": "3d6d14b1",
   "metadata": {},
   "source": [
    "<center> \n",
    "    <font size=6 color=\"blue\">\n",
    "        <b>First-class Functions and Closure</b>\n",
    "    </font>\n",
    "</center>"
   ]
  },
  {
   "cell_type": "markdown",
   "id": "56d1c375",
   "metadata": {},
   "source": [
    "# First-class Functions:\n",
    "<pre>\n",
    "In programming a function is said to be a first-class function if and only if it is allowed to be passed as arguments, returned from a function, and assigned to a variable\n",
    "</pre>"
   ]
  },
  {
   "cell_type": "code",
   "execution_count": null,
   "id": "86da9095",
   "metadata": {},
   "outputs": [],
   "source": [
    "def square_number(n: float = 0.0) -> float:\n",
    "    \"\"\"\n",
    "    This function will square a given number\n",
    "    \"\"\"\n",
    "    return n**2"
   ]
  },
  {
   "cell_type": "markdown",
   "id": "fd3d0cd3",
   "metadata": {},
   "source": [
    "<pre>\n",
    "Passing in the function square_number into the print function\n",
    "</pre>"
   ]
  },
  {
   "cell_type": "code",
   "execution_count": null,
   "id": "3d0ae134",
   "metadata": {},
   "outputs": [],
   "source": [
    "print(square_number)"
   ]
  },
  {
   "cell_type": "markdown",
   "id": "47f984f3",
   "metadata": {},
   "source": [
    "<pre>\n",
    "We did not get an error and it returned a function object. To use the function we can \n",
    "pass in a value to our function:\n",
    "</pre>"
   ]
  },
  {
   "cell_type": "code",
   "execution_count": null,
   "id": "23725fc5",
   "metadata": {},
   "outputs": [],
   "source": [
    "print(square_number(10.0))"
   ]
  },
  {
   "cell_type": "markdown",
   "id": "534d9b8a",
   "metadata": {},
   "source": [
    "<pre>\n",
    "Lets see another example. We will implement the python map function from scratch.\n",
    "</pre>"
   ]
  },
  {
   "cell_type": "code",
   "execution_count": null,
   "id": "44e4f676",
   "metadata": {},
   "outputs": [],
   "source": [
    "def user_defined_map(function, iterator: list = []) -> list:\n",
    "    \"\"\"\n",
    "    This function will implement the python map function from scratch.\n",
    "    \"\"\"\n",
    "    result = []\n",
    "    for i in iterator:\n",
    "        result.append(function(i))\n",
    "    return result"
   ]
  },
  {
   "cell_type": "markdown",
   "id": "d6decf9b",
   "metadata": {},
   "source": [
    "<pre>\n",
    "Lets use the square_number function we created before...\n",
    "</pre>"
   ]
  },
  {
   "cell_type": "code",
   "execution_count": null,
   "id": "a82d0d76",
   "metadata": {},
   "outputs": [],
   "source": [
    "squared_numbers = user_defined_map(square_number, [1, 2, 3, 4, 5, 6, 7, 8, 9, 10])\n",
    "squared_numbers"
   ]
  },
  {
   "cell_type": "markdown",
   "id": "da2e3097",
   "metadata": {},
   "source": [
    "<pre>\n",
    "One can also return a function from a function. Lets see an example of that...\n",
    "</pre>"
   ]
  },
  {
   "cell_type": "code",
   "execution_count": null,
   "id": "43688d52",
   "metadata": {},
   "outputs": [],
   "source": [
    "def file_log(message: str = \"\") -> str:\n",
    "    \"\"\"\n",
    "    This function will create a message for the log file\n",
    "    \"\"\"\n",
    "    from datetime import datetime\n",
    "    def print_message():\n",
    "        print(f\"{datetime.now()}\\t{str(message)}\")\n",
    "    return print_message"
   ]
  },
  {
   "cell_type": "markdown",
   "id": "a7f1c637",
   "metadata": {},
   "source": [
    "<pre>\n",
    "We can see that when we execute file_log function it outputs a function\n",
    "</pre>"
   ]
  },
  {
   "cell_type": "code",
   "execution_count": null,
   "id": "1a025962",
   "metadata": {},
   "outputs": [],
   "source": [
    "file_log(\"Program 0x443f2c8ab5h launched successfully\")"
   ]
  },
  {
   "cell_type": "markdown",
   "id": "30ffc44b",
   "metadata": {},
   "source": [
    "<pre>\n",
    "To see the output, one can use the following methods:\n",
    "</pre>"
   ]
  },
  {
   "cell_type": "code",
   "execution_count": null,
   "id": "769b5243",
   "metadata": {},
   "outputs": [],
   "source": [
    "log_entry = file_log(\"Program 0x443f2c8ab5h launched successfully\")\n",
    "log_entry()"
   ]
  },
  {
   "cell_type": "code",
   "execution_count": null,
   "id": "040669c6",
   "metadata": {},
   "outputs": [],
   "source": [
    "log_entry = file_log(\"Program 0x443f2c8ab5h launched successfully\")()\n",
    "log_entry"
   ]
  },
  {
   "cell_type": "markdown",
   "id": "2cd6bd92",
   "metadata": {},
   "source": [
    "# Closure\n",
    "<pre>\n",
    "+ It is the ability for an assignment variable to behave as a function in the context of \n",
    "  first-class functions.\n",
    "\n",
    "+ In the above example, we have created a function called <b>file_log</b> that returns \n",
    "  an inner function called <b>print_message</b> which we were able to assign it to the variable\n",
    "<b>log_entry</b> and execute just as a function call: <b>log_entry()</b>\n",
    "\n",
    "+ As it can be seen, closures allow one to take advantage of first-class functions\n",
    "</pre>"
   ]
  },
  {
   "cell_type": "markdown",
   "id": "7504e3f0",
   "metadata": {},
   "source": [
    " "
   ]
  },
  {
   "cell_type": "markdown",
   "id": "0b5642a9",
   "metadata": {},
   "source": [
    "<center> \n",
    "    <font size=6 color=\"blue\">\n",
    "        <b>Basics of Python Decorators</b>\n",
    "    </font>\n",
    "</center>"
   ]
  },
  {
   "cell_type": "markdown",
   "id": "58ae799c",
   "metadata": {},
   "source": [
    "<pre>\n",
    "+ A decorator is a callable that takes another function as an argument, extending the behavior \n",
    "  of that function without explicitly modifying that function.\n",
    "\n",
    "+ A decorator has the ability to run additional code defore and after each call to a function \n",
    "  that it <b>wraps</b>\n",
    "\n",
    "+ This means the decorators can access and modify input arguments and return values.\n",
    "\n",
    "+ This also means one can modify a function at runtime without permanently modifying it.\n",
    "\n",
    "+ In Python, functions are first-class objects. This means they can be passed around \n",
    "  and used as arguments just as anyother objects like string, integers, floats, and so on.\n",
    "\n",
    "+ We also know that we can call a function from another function and assigne it to a \n",
    "  variable through the python feature called closure.\n",
    "\n",
    "Consider a basic definition of a decorator function below:\n",
    "</pre>"
   ]
  },
  {
   "cell_type": "code",
   "execution_count": null,
   "id": "080f2e85",
   "metadata": {
    "scrolled": true
   },
   "outputs": [],
   "source": [
    "def decorator_function(function_as_an_argument):   # Function takes in a function as argument\n",
    "    def wrapper_function():                        # Inner function returns the argument\n",
    "        print(\"Hello from the wrapper...\")\n",
    "        return function_as_an_argument()           # Executes the argument and returns it\n",
    "    return wrapper_function                        # Calls the inner function from outter function"
   ]
  },
  {
   "cell_type": "markdown",
   "id": "d4f97f85",
   "metadata": {},
   "source": [
    "<pre>\n",
    "Lets use the above frunction\n",
    "</pre>"
   ]
  },
  {
   "cell_type": "code",
   "execution_count": null,
   "id": "802eab84",
   "metadata": {},
   "outputs": [],
   "source": [
    "def show_message():\n",
    "    print(\"This message is from a decorator\")"
   ]
  },
  {
   "cell_type": "code",
   "execution_count": null,
   "id": "d0b2a612",
   "metadata": {},
   "outputs": [],
   "source": [
    "dec_display = decorator_function(show_message)\n",
    "dec_display"
   ]
  },
  {
   "cell_type": "code",
   "execution_count": null,
   "id": "46199870",
   "metadata": {},
   "outputs": [],
   "source": [
    "# using closure we can execute the variable\n",
    "dec_display()"
   ]
  },
  {
   "cell_type": "markdown",
   "id": "78c50bde",
   "metadata": {},
   "source": [
    "<pre>\n",
    "Lets use the decorator noration \"@\"\n",
    "</pre>"
   ]
  },
  {
   "cell_type": "code",
   "execution_count": null,
   "id": "e94b0cd5",
   "metadata": {},
   "outputs": [],
   "source": [
    "def show_message():\n",
    "    print(\"This message is from a decorator\")"
   ]
  },
  {
   "cell_type": "code",
   "execution_count": null,
   "id": "20ff42a2",
   "metadata": {},
   "outputs": [],
   "source": [
    "show_message()"
   ]
  },
  {
   "cell_type": "code",
   "execution_count": null,
   "id": "58750080",
   "metadata": {},
   "outputs": [],
   "source": [
    "@decorator_function\n",
    "def show_message():\n",
    "    print(\"This message is from a decorator\")"
   ]
  },
  {
   "cell_type": "code",
   "execution_count": null,
   "id": "c7a07028",
   "metadata": {},
   "outputs": [],
   "source": [
    "show_message()"
   ]
  },
  {
   "cell_type": "markdown",
   "id": "4a7cfd3d",
   "metadata": {},
   "source": [
    "# Exercise: "
   ]
  },
  {
   "cell_type": "markdown",
   "id": "2b1180d5",
   "metadata": {},
   "source": [
    "### Question 01: Functions are actually _____ in Python.\n",
    "<pre>\n",
    "🅐 arrays\n",
    "🅑 objects\n",
    "🅒 classes\n",
    "🅓 variables\n",
    "</pre>"
   ]
  },
  {
   "cell_type": "markdown",
   "id": "30420708",
   "metadata": {},
   "source": [
    "### Question 02: Which code, when executed, has the function return the string Fibonacci and looks like the code below? <class 'str'> \n",
    "<pre>\n",
    "🅐  def printfib():\n",
    "         \"Print out Fibonacci\"\n",
    "         print (\"Fibonacci\")\n",
    "\n",
    "    type(printfib())\n",
    "\n",
    "🅑  def printfib():\n",
    "         (\"Return Fibonacci\")\n",
    "         print `Fibonacci`\n",
    "\n",
    "    type(printfib())\n",
    "\n",
    "🅒  def printfib():\n",
    "         '''Return Fibonacci'''\n",
    "         return 'Fibonacci'\n",
    "\n",
    "    type(printfib())\n",
    "\n",
    "🅓  def printfib():\n",
    "        ```Print out Fibonacci```\n",
    "         print `String`\n",
    "\n",
    "    type(printfib())\n",
    "</pre>"
   ]
  },
  {
   "cell_type": "code",
   "execution_count": null,
   "id": "924e7ccd",
   "metadata": {},
   "outputs": [],
   "source": []
  },
  {
   "cell_type": "code",
   "execution_count": null,
   "id": "9035458f",
   "metadata": {},
   "outputs": [],
   "source": []
  },
  {
   "cell_type": "code",
   "execution_count": null,
   "id": "0d37d73b",
   "metadata": {},
   "outputs": [],
   "source": []
  },
  {
   "cell_type": "code",
   "execution_count": null,
   "id": "32c4f558",
   "metadata": {},
   "outputs": [],
   "source": []
  },
  {
   "cell_type": "markdown",
   "id": "31b4e51c",
   "metadata": {},
   "source": [
    "# ..... To be continuted..."
   ]
  },
  {
   "cell_type": "markdown",
   "id": "094c9e5f",
   "metadata": {},
   "source": [
    " "
   ]
  },
  {
   "cell_type": "markdown",
   "id": "4efa3baf",
   "metadata": {},
   "source": [
    " "
   ]
  },
  {
   "cell_type": "markdown",
   "id": "c392b026",
   "metadata": {},
   "source": [
    "# Other Discussion Points\n",
    "\n",
    "### Remind the class about the upcoming presentations and the email sent about it"
   ]
  },
  {
   "cell_type": "markdown",
   "id": "ce7b5c7a",
   "metadata": {},
   "source": [
    " "
   ]
  }
 ],
 "metadata": {
  "kernelspec": {
   "display_name": "Python 3 (ipykernel)",
   "language": "python",
   "name": "python3"
  },
  "language_info": {
   "codemirror_mode": {
    "name": "ipython",
    "version": 3
   },
   "file_extension": ".py",
   "mimetype": "text/x-python",
   "name": "python",
   "nbconvert_exporter": "python",
   "pygments_lexer": "ipython3",
   "version": "3.9.12"
  }
 },
 "nbformat": 4,
 "nbformat_minor": 5
}
