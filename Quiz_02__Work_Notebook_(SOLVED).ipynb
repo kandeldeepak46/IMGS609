{
 "cells": [
  {
   "cell_type": "markdown",
   "id": "584693c2",
   "metadata": {},
   "source": [
    "<center> \n",
    "    <font size=6 color=\"blue\">\n",
    "        <b>QUIZ 02 - Work Notebook</b>\n",
    "    </font>\n",
    "</center>"
   ]
  },
  {
   "cell_type": "markdown",
   "id": "539ec838",
   "metadata": {},
   "source": [
    "<pre>\n",
    "INSTRUCTIONS:\n",
    "\n",
    "You might NOT have the time to work out the problems while doing the actual quiz as the online quiz must be submitted in one sitting (system does not allow one to save and come back to it). \n",
    "\n",
    "Therefore, before starting the quiz, make sure to do all the problems in the notebook and verify that they are correct. \n",
    "\n",
    "Once you are satisfied of your answers, you may start the quiz, and when the quiz begins you can answer the appropriate question by just filling in the answers from your work here in the notebook. \n",
    "\n",
    "You can download the quiz work notebook under the CONTENT ---> QUIZ NOTEBOOKS section of myCourses. \n",
    "\n",
    "</pre>"
   ]
  },
  {
   "cell_type": "markdown",
   "id": "b1301124",
   "metadata": {},
   "source": [
    "<center> \n",
    "    <font size=6 color=\"blue\">\n",
    "        <b>QUIZ Greading Criteria</b>\n",
    "    </font>\n",
    "</center>\n",
    "\n",
    "<pre>\n",
    "STANDARD CASES:\n",
    "\n",
    "Workbook     Quiz       Result              Description\n",
    "----------------------------------------------------------------------------------------------------------\n",
    "   0          0          0.0        # Practice, Practice, Practice\n",
    "   0          1          1.0        # Strange behavior, I shall keep an eye on you\n",
    "   1          0          0.5        # You picked wrong: Watch what you are picking next time\n",
    "   1          1          1.0        # Good job, you got it\n",
    "   \n",
    "\n",
    "NON-STANDARD CASES:\n",
    "\n",
    "Workbook     Quiz       Result              Description\n",
    "----------------------------------------------------------------------------------------------------------\n",
    "   ~1         0          0.3        # Almost got the a correct answer, keep practicing...\n",
    "   ~1         1          1.0        # Good save, but not always you will get lucky.. so practice more.\n",
    "   \n",
    "   \n",
    "SPECIAL CASES:\n",
    "\n",
    "Workbook     Quiz       Result              Description\n",
    "----------------------------------------------------------------------------------------------------------\n",
    "   1          ?          2.0        # You found a solution that was NOT listed part of the answers in \n",
    "                                      the quiz (THIS BONUS IS ONLY ALLOWED WHEN IT IS SPECIFICALLY \n",
    "                                      STATED IN THE QUESTION THAT \"CREATIVITY IS ENCOURAGED\")\n",
    "                                      \n",
    "                                      Please be adviced: All solutions MUST be,\n",
    "                                      + Scalable\n",
    "                                      + Integratable\n",
    "                                      + Optimized for Time and Space Complexity\n",
    "                                      + Legible\n",
    "   \n",
    "</pre>"
   ]
  },
  {
   "cell_type": "markdown",
   "id": "06e9bd90",
   "metadata": {},
   "source": [
    "<center> \n",
    "    <font size=6 color=\"blue\">\n",
    "        <b>Question 01</b>\n",
    "    </font>\n",
    "</center>"
   ]
  },
  {
   "cell_type": "markdown",
   "id": "ab1e3a48",
   "metadata": {},
   "source": [
    "<pre>\n",
    "The main goal of this problem is to implement integer multiplication \n",
    "by using repeated addition. Consider the following standard algorithm:\n",
    "\n",
    "    def standard_multiplication(multiplier: int = 1, multiplicand: int = 1):\n",
    "        \"\"\"\n",
    "        This function will output the product of two numbers using the standard\n",
    "        method of multiplication in python\n",
    "        \"\"\"\n",
    "        return multiplier * multiplicand\n",
    "\n",
    "One can test the output of the code above by using:\n",
    "\n",
    "    iterative_multiplication(multiplier = 6, multiplicand = 5)\n",
    "\n",
    "Which will output:\n",
    "\n",
    "    30\n",
    "\n",
    "Write a recursive algorithm to implement the above iterative algorithm. Use the \n",
    "skeleton function provided to you below:\n",
    "\n",
    "    def recursive_multiplication(multiplier: int = 1, multiplicand: int = 1):\n",
    "        \"\"\"\n",
    "        This function will output the product of two numbers recursively by the\n",
    "        method of repeated addition\n",
    "        \"\"\"\n",
    "        # ADD YOUR CODE\n",
    "        \n",
    "Once complete, to test the code, one can execute:\n",
    "\n",
    "    recursive_multiplication(multiplier = 6, multiplicand = 5)\n",
    "    \n",
    "Which should output a value 30 matching the output of the standard_multiplication \n",
    "function. PLEASE NOTE: this question will be GRADED MANUALLY for correctness and \n",
    "scalability of the algorithmic implementation. Copy and paste your complete \n",
    "(executable) solution as the answer.\n",
    "</pre>"
   ]
  },
  {
   "cell_type": "markdown",
   "id": "27dae0d7",
   "metadata": {},
   "source": [
    "### SOLUTION: "
   ]
  },
  {
   "cell_type": "code",
   "execution_count": 18,
   "id": "f3a4f0c2",
   "metadata": {},
   "outputs": [
    {
     "data": {
      "text/plain": [
       "1"
      ]
     },
     "execution_count": 18,
     "metadata": {},
     "output_type": "execute_result"
    }
   ],
   "source": [
    "def standard_multiplication(multiplier: int = 1, multiplicand: int = 1):\n",
    "        \"\"\"\n",
    "        This function will output the product of two numbers using the standard\n",
    "        method of multiplication in python\n",
    "        \"\"\"\n",
    "        return multiplier * multiplicand\n",
    "\n",
    "standard_multiplication()"
   ]
  },
  {
   "cell_type": "code",
   "execution_count": 28,
   "id": "7b9146a1",
   "metadata": {},
   "outputs": [],
   "source": [
    "def recursive_multiplication(multiplier: int = 1, multiplicand: 1 = None) -> int:\n",
    "\n",
    "    \"\"\"\n",
    "    This function will output the product of two numbers recursively by the\n",
    "    method of repeated addition\n",
    "    \"\"\"\n",
    "\n",
    "    if multiplicand == 0 or multiplier == 0:\n",
    "        return 0\n",
    "\n",
    "    if multiplicand < 0:\n",
    "        return -(multiplier - recursive_multiplication(multiplier, multiplicand + 1))\n",
    "\n",
    "    if multiplicand > 0:\n",
    "        return multiplier + recursive_multiplication(multiplier, multiplicand - 1)\n",
    "\n",
    "\n",
    "if __name__ == \"__main__\":\n",
    "    recursive_multiplication(multiplier=6, multiplicand=-5)\n"
   ]
  },
  {
   "cell_type": "code",
   "execution_count": 35,
   "id": "b20163bf",
   "metadata": {},
   "outputs": [
    {
     "name": "stdout",
     "output_type": "stream",
     "text": [
      "0\n",
      "0\n"
     ]
    }
   ],
   "source": [
    "print(recursive_multiplication(multiplier=0, multiplicand=0));\n",
    "\n",
    "print(standard_multiplication(0,5));"
   ]
  },
  {
   "cell_type": "code",
   "execution_count": 20,
   "id": "26204971",
   "metadata": {},
   "outputs": [
    {
     "data": {
      "text/plain": [
       "0"
      ]
     },
     "execution_count": 20,
     "metadata": {},
     "output_type": "execute_result"
    }
   ],
   "source": []
  },
  {
   "cell_type": "code",
   "execution_count": null,
   "id": "e71753b9",
   "metadata": {},
   "outputs": [],
   "source": []
  },
  {
   "cell_type": "markdown",
   "id": "e8934e82",
   "metadata": {},
   "source": [
    "<center> \n",
    "    <font size=6 color=\"blue\">\n",
    "        <b>Question 02</b>\n",
    "    </font>\n",
    "</center>"
   ]
  },
  {
   "cell_type": "markdown",
   "id": "83bbc9ed",
   "metadata": {},
   "source": [
    "<pre>\n",
    "Consider the following iterative algorithm:\n",
    "\n",
    "    def iterative_exponentiation(base: int = 1, exponent: int = 1):\n",
    "        \"\"\"\n",
    "        This function will calculate the power of a given number iteratively\n",
    "        \"\"\"\n",
    "        initial_base = base\n",
    "        for i in range(exponent - 1):\n",
    "            base *= initial_base\n",
    "        return base\n",
    "\n",
    "One can test the output of the code above by using:\n",
    "\n",
    "    iterative_exponentiation(base = 5, exponent = 2)\n",
    "\n",
    "Which will output:\n",
    "\n",
    "    25\n",
    "\n",
    "Write a recursive algorithm to implement the above iterative algorithm. Use \n",
    "the skeleton function provided to you below:\n",
    "\n",
    "    def recursive_exponentiation(base: int = 1, exponent: int = 1):\n",
    "        \"\"\"\n",
    "        This function will calculate the power of a given base recursively\n",
    "        \"\"\"\n",
    "        # ADD YOUR CODE\n",
    "        \n",
    "Once complete, to test the code, one can execute:\n",
    "\n",
    "    recursive_exponentiation(base = 5, exponent = 2)\n",
    "    \n",
    "Which should output the value 25 matching the output of the iterative \n",
    "algorithm. PLEASE NOTE: this question will be GRADED MANUALLY for correctness \n",
    "and scalability of the algorithmic implementation. Copy and paste your complete \n",
    "(executable) solution as the answer.\n",
    "</pre>"
   ]
  },
  {
   "cell_type": "markdown",
   "id": "07dddadc",
   "metadata": {},
   "source": [
    "### SOLUTION: "
   ]
  },
  {
   "cell_type": "code",
   "execution_count": 191,
   "id": "7e5c65c4",
   "metadata": {},
   "outputs": [],
   "source": [
    "# def iterative_exponentiation(base: int = 4, exponent: int = -4):\n",
    "#         \"\"\"\n",
    "#         This function will calculate the power of a given number iteratively\n",
    "#         \"\"\"\n",
    "#         initial_base = base\n",
    "#         for i in range(exponent - 1):\n",
    "#             base *= initial_base\n",
    "#         return base\n",
    "\n",
    "# iterative_exponentiation()"
   ]
  },
  {
   "cell_type": "code",
   "execution_count": 54,
   "id": "4e82d129",
   "metadata": {},
   "outputs": [
    {
     "data": {
      "text/plain": [
       "0.00032"
      ]
     },
     "execution_count": 54,
     "metadata": {},
     "output_type": "execute_result"
    }
   ],
   "source": [
    "def recursive_exponentiation(base: int = 1, exponent: int = 1):\n",
    "        \"\"\"\n",
    "        This function will calculate the power of a given base recursively\n",
    "        \"\"\"\n",
    "        if base == 0:\n",
    "            return 0\n",
    "        \n",
    "        if exponent == 0:\n",
    "            return 1\n",
    "        \n",
    "        if exponent < 0:  ## Handling negative exponent\n",
    "            \n",
    "            exponent = abs(exponent)\n",
    "    \n",
    "            return float(1 / (base * recursive_exponentiation(base, exponent -1)))\n",
    "        \n",
    "        if base < 0:       ## Handling negative base\n",
    "            - base * recursive_exponentiation(base, exponent -1)\n",
    "        \n",
    "        return base * recursive_exponentiation(base, exponent -1)\n",
    "\n",
    "recursive_exponentiation(base=5, exponent = -5)"
   ]
  },
  {
   "cell_type": "code",
   "execution_count": 3,
   "id": "8c85032a",
   "metadata": {},
   "outputs": [
    {
     "data": {
      "text/plain": [
       "0.00032"
      ]
     },
     "execution_count": 3,
     "metadata": {},
     "output_type": "execute_result"
    }
   ],
   "source": [
    "1/5**5"
   ]
  },
  {
   "cell_type": "code",
   "execution_count": null,
   "id": "ce077394",
   "metadata": {},
   "outputs": [],
   "source": []
  },
  {
   "cell_type": "code",
   "execution_count": null,
   "id": "b3cd7d77",
   "metadata": {},
   "outputs": [],
   "source": []
  },
  {
   "cell_type": "markdown",
   "id": "8c7992b7",
   "metadata": {},
   "source": [
    "<center> \n",
    "    <font size=6 color=\"blue\">\n",
    "        <b>Question 03</b>\n",
    "    </font>\n",
    "</center>"
   ]
  },
  {
   "cell_type": "markdown",
   "id": "ab86931c",
   "metadata": {},
   "source": [
    "<pre>\n",
    "Consider the following iterative algorithm:\n",
    "\n",
    "    def iterative_get_length_of_string(input_string: str = \"\"):\n",
    "        \"\"\"\n",
    "        This function will calculate the length of a given string iteratively\n",
    "        \"\"\"\n",
    "        result = 0\n",
    "        for i in range(len(str(input_string))):\n",
    "            result += 1\n",
    "        return result\n",
    "\n",
    "One can test the output of the code above by using:\n",
    "\n",
    "    test_string = \"Hello IMGS609\"\n",
    "    iterative_get_length_of_string(input_string = test_string)\n",
    "\n",
    "Which will output:\n",
    "\n",
    "    13\n",
    "\n",
    "Write a recursive algorithm to implement the above iterative algorithm. Use \n",
    "the skeleton function provided to you below:\n",
    "\n",
    "    def recursive_get_length_of_string(input_string: str = \"\"):\n",
    "        \"\"\"\n",
    "        This function will calculate the length of a given string recursively\n",
    "        \"\"\"\n",
    "        # ADD YOUR CODE\n",
    "        \n",
    "Once complete, to test the code, one can execute:\n",
    "\n",
    "    test_string = \"Hello IMGS609\"\n",
    "    recursive_get_length_of_string(input_string = test_string)\n",
    "    \n",
    "Which should output the value 13 matching the output of the iterative \n",
    "algorithm. PLEASE NOTE: this question will be GRADED MANUALLY for correctness \n",
    "and scalability of the algorithmic implementation. Copy and paste your complete \n",
    "(executable) solution as the answer.\n",
    "</pre>"
   ]
  },
  {
   "cell_type": "markdown",
   "id": "e74eadda",
   "metadata": {},
   "source": [
    "### SOLUTION: "
   ]
  },
  {
   "cell_type": "code",
   "execution_count": 10,
   "id": "059684fb",
   "metadata": {},
   "outputs": [
    {
     "data": {
      "text/plain": [
       "13"
      ]
     },
     "execution_count": 10,
     "metadata": {},
     "output_type": "execute_result"
    }
   ],
   "source": [
    "def iterative_get_length_of_string(input_string: str = \"\"):\n",
    "        \"\"\"\n",
    "        This function will calculate the length of a given string iteratively\n",
    "        \"\"\"\n",
    "        result = 0\n",
    "        for i in range(len(str(input_string))):\n",
    "            result += 1\n",
    "        return result\n",
    "\n",
    "    \n",
    "    \n",
    "test_string = \"Hello IMGS609\"\n",
    "iterative_get_length_of_string(input_string = test_string)"
   ]
  },
  {
   "cell_type": "code",
   "execution_count": 11,
   "id": "d7712470",
   "metadata": {},
   "outputs": [
    {
     "name": "stdout",
     "output_type": "stream",
     "text": [
      "13\n",
      "13\n",
      "13\n"
     ]
    }
   ],
   "source": [
    "def recursive_get_length_of_string(input_string: str = \"\") -> int:\n",
    "        \"\"\"\n",
    "        This function will calculate the length of a given string recursively\n",
    "        \"\"\"\n",
    "        \n",
    "        if input_string == '': # If null string, the length is zero\n",
    "            return 0\n",
    "        \n",
    "        return (1 + recursive_get_length_of_string(input_string[1:]))\n",
    "\n",
    "my_input = \"Deepak Kandel\"\n",
    "new_input = \"Hello IMGS609\"\n",
    "\n",
    "\n",
    "print(recursive_get_length_of_string(input_string=my_input))\n",
    "print(recursive_get_length_of_string(input_string=new_input))\n",
    "\n",
    "#TEST\n",
    "print(iterative_get_length_of_string(input_string=my_input))"
   ]
  },
  {
   "cell_type": "code",
   "execution_count": null,
   "id": "5b00972f",
   "metadata": {},
   "outputs": [],
   "source": []
  },
  {
   "cell_type": "code",
   "execution_count": null,
   "id": "d48a0029",
   "metadata": {},
   "outputs": [],
   "source": []
  },
  {
   "cell_type": "code",
   "execution_count": null,
   "id": "89202aa3",
   "metadata": {},
   "outputs": [],
   "source": []
  },
  {
   "cell_type": "markdown",
   "id": "7e57f637",
   "metadata": {},
   "source": [
    "<center> \n",
    "    <font size=6 color=\"blue\">\n",
    "        <b>Question 04</b>\n",
    "    </font>\n",
    "</center>"
   ]
  },
  {
   "cell_type": "markdown",
   "id": "6959b692",
   "metadata": {},
   "source": [
    "<pre>\n",
    "What are the different ways one can write any classical and local computer program?\n",
    "\n",
    "🅐 Series, Lists, Dictionaries, Sets, Frozen Sets\n",
    "🅑 Linear and Non-Linear\n",
    "🅒 Sequence, Selection, Iteration, Recursion, and Parallelization\n",
    "🅓 Parallelization, Distribution\n",
    "🅔 Function Oriented and Object Oriented\n",
    "</pre>"
   ]
  },
  {
   "cell_type": "markdown",
   "id": "1a633c69",
   "metadata": {},
   "source": [
    "### SOLUTION: "
   ]
  },
  {
   "cell_type": "code",
   "execution_count": 119,
   "id": "9a40793a",
   "metadata": {},
   "outputs": [],
   "source": [
    "# E -> Function Oriented and Object Oriented"
   ]
  },
  {
   "cell_type": "code",
   "execution_count": null,
   "id": "320754b7",
   "metadata": {},
   "outputs": [],
   "source": []
  },
  {
   "cell_type": "code",
   "execution_count": null,
   "id": "d201e7d8",
   "metadata": {},
   "outputs": [],
   "source": []
  },
  {
   "cell_type": "code",
   "execution_count": null,
   "id": "8c2bbef9",
   "metadata": {},
   "outputs": [],
   "source": []
  },
  {
   "cell_type": "code",
   "execution_count": null,
   "id": "447f60fe",
   "metadata": {},
   "outputs": [],
   "source": []
  },
  {
   "cell_type": "markdown",
   "id": "6c2f9ce7",
   "metadata": {},
   "source": [
    "<center> \n",
    "    <font size=6 color=\"blue\">\n",
    "        <b>Question 05</b>\n",
    "    </font>\n",
    "</center>"
   ]
  },
  {
   "cell_type": "markdown",
   "id": "c3a93add",
   "metadata": {},
   "source": [
    "<pre>\n",
    "Python programming language is a _____________ language. (Select all that apply)\n",
    "\n",
    "🅐 Weakly Typed\n",
    "🅑 Statically Typed\n",
    "🅒 High Level\n",
    "🅓 Strongly Typed\n",
    "🅔 Dynamically Typed\n",
    "🅕 Low Level\n",
    "</pre>"
   ]
  },
  {
   "cell_type": "markdown",
   "id": "827e8f7c",
   "metadata": {},
   "source": [
    "### SOLUTION: "
   ]
  },
  {
   "cell_type": "code",
   "execution_count": 37,
   "id": "2ddfa687",
   "metadata": {},
   "outputs": [],
   "source": [
    "# C High Level\n",
    "# D Strongly Typed\n",
    "# E Dynamically Typed"
   ]
  },
  {
   "cell_type": "code",
   "execution_count": null,
   "id": "45211b7c",
   "metadata": {},
   "outputs": [],
   "source": []
  },
  {
   "cell_type": "code",
   "execution_count": null,
   "id": "a519373b",
   "metadata": {},
   "outputs": [],
   "source": []
  },
  {
   "cell_type": "code",
   "execution_count": null,
   "id": "d0f061cf",
   "metadata": {},
   "outputs": [],
   "source": []
  },
  {
   "cell_type": "code",
   "execution_count": null,
   "id": "00dada7e",
   "metadata": {},
   "outputs": [],
   "source": []
  },
  {
   "cell_type": "markdown",
   "id": "7bd3ce7a",
   "metadata": {},
   "source": [
    "<center> \n",
    "    <font size=6 color=\"blue\">\n",
    "        <b>Question 06</b>\n",
    "    </font>\n",
    "</center>"
   ]
  },
  {
   "cell_type": "markdown",
   "id": "86e52a97",
   "metadata": {},
   "source": [
    "<pre>\n",
    "Consider following recursive algorithm to produce a fibonacci sequence for n = 5:\n",
    "\n",
    "    def recursive_fibonacci(n: int = 0):\n",
    "        \"\"\"\n",
    "        This program will calculate the fibonacci sequence recursively\n",
    "        \"\"\"\n",
    "        if n < 0:\n",
    "            return \"0\"\n",
    "        elif n <= 1:\n",
    "            return n\n",
    "        else:\n",
    "            return(recursive_fibonacci(n-1) + recursive_fibonacci(n-2))\n",
    "\n",
    "One could test the output by using the following code:\n",
    "\n",
    "    bound = 5\n",
    "    print(f\" index\\t    n\\t\\tfibonacci(n)\")\n",
    "    print(\"-------------------------------------\")\n",
    "    for i, n in enumerate(range(-bound, bound + 1)):\n",
    "            print(f\"   {i}\\t    {n}\\t\\t     {recursive_fibonacci(n)}\")\n",
    "\n",
    "The code above produces the following output for the recursive_fibonacci function: \n",
    "\n",
    "           index\t    n\t\tfibonacci(n)\n",
    "          -------------------------------------\n",
    "             0         -5            0\n",
    "             1         -4            0\n",
    "             2         -3            0\n",
    "             3         -2            0\n",
    "             4         -1            0\n",
    "             5          0            0\n",
    "             6          1            1\n",
    "             7          2            1\n",
    "             8          3            2\n",
    "             9          4            3\n",
    "            10          5            5\n",
    "\n",
    "Write a iterative algorithm to implement the above recursive algorithm. Use the skeleton function \n",
    "provided to you below:\n",
    "\n",
    "    def iterative_fibonacci(n):\n",
    "    \"\"\"\n",
    "    This program will calculate the fibonacci sequence iteratively\n",
    "    \"\"\"\n",
    "        # ADD YOUR CODE\n",
    "\n",
    "Once complete, to test the code, one can execute:\n",
    "\n",
    "    bound = 5\n",
    "    print(f\" index\\t    n\\t\\tfibonacci(n)\")\n",
    "    print(\"-------------------------------------\")\n",
    "    for i, n in enumerate(range(-bound, bound + 1)):\n",
    "        print(f\"   {i}\\t    {n}\\t\\t     {iterative_fibonacci(n)}\")\n",
    "\n",
    "Which should match the output of the iterative algorithm. PLEASE NOTE: this \n",
    "question will be GRADED MANUALLY for correctness and scalability of the \n",
    "algorithmic implementation. Copy and paste your complete (executable) solution \n",
    "as the answer.\n",
    "</pre>"
   ]
  },
  {
   "cell_type": "markdown",
   "id": "5c325453",
   "metadata": {},
   "source": [
    "### SOLUTION: "
   ]
  },
  {
   "cell_type": "code",
   "execution_count": 187,
   "id": "a6e27b01",
   "metadata": {},
   "outputs": [],
   "source": [
    "# def recursive_fibonacci(n: int = 10):\n",
    "#         \"\"\"\n",
    "#         This program will calculate the fibonacci sequence recursively\n",
    "#         \"\"\"\n",
    "#         if n < 0:\n",
    "#             return \"0\"\n",
    "#         elif n <= 1:\n",
    "#             return n\n",
    "#         else:\n",
    "#             return(recursive_fibonacci(n-1) + recursive_fibonacci(n-2))\n",
    "\n",
    "# recursive_fibonacci()"
   ]
  },
  {
   "cell_type": "code",
   "execution_count": 188,
   "id": "c1ac1703",
   "metadata": {},
   "outputs": [],
   "source": [
    "# bound = 10\n",
    "# print(f\" index\\t    n\\t\\tfibonacci(n)\")\n",
    "# print(\"-------------------------------------\")\n",
    "# for i, n in enumerate(range(-bound, bound + 1)):\n",
    "\n",
    "#     print(f\"   {i}\\t    {n}\\t\\t     {recursive_fibonacci(n)}\")"
   ]
  },
  {
   "cell_type": "code",
   "execution_count": 189,
   "id": "04ee16b2",
   "metadata": {},
   "outputs": [
    {
     "data": {
      "text/plain": [
       "55"
      ]
     },
     "execution_count": 189,
     "metadata": {},
     "output_type": "execute_result"
    }
   ],
   "source": [
    "def iterative_fibonacci(n : int = None) -> int:\n",
    "    \"\"\"\n",
    "    This program will calculate the fibonacci sequence iteratively\n",
    "    \"\"\"\n",
    "    \n",
    "    if n < 0 or n == 0:\n",
    "        return 0\n",
    "    \n",
    "    first_term = 0\n",
    "    second_term = 1\n",
    "    \n",
    "    for i in range(n):\n",
    "        first_term, second_term = second_term, first_term + second_term # assign the second term to first term \n",
    "                                                                        # assgin the second term as sum of first and second term\n",
    "    return first_term\n",
    "\n",
    "iterative_fibonacci(10)"
   ]
  },
  {
   "cell_type": "code",
   "execution_count": null,
   "id": "1679d05b-07fb-485c-ba86-0b8208763094",
   "metadata": {},
   "outputs": [],
   "source": []
  },
  {
   "cell_type": "code",
   "execution_count": 190,
   "id": "9b871ef4",
   "metadata": {},
   "outputs": [
    {
     "name": "stdout",
     "output_type": "stream",
     "text": [
      " index\t    n\t\tfibonacci(n)\n",
      "-------------------------------------\n",
      "   0\t    -5\t\t     0\n",
      "   1\t    -4\t\t     0\n",
      "   2\t    -3\t\t     0\n",
      "   3\t    -2\t\t     0\n",
      "   4\t    -1\t\t     0\n",
      "   5\t    0\t\t     0\n",
      "   6\t    1\t\t     1\n",
      "   7\t    2\t\t     1\n",
      "   8\t    3\t\t     2\n",
      "   9\t    4\t\t     3\n",
      "   10\t    5\t\t     5\n"
     ]
    }
   ],
   "source": [
    "bound = 5\n",
    "print(f\" index\\t    n\\t\\tfibonacci(n)\")\n",
    "print(\"-------------------------------------\")\n",
    "for i, n in enumerate(range(-bound, bound + 1)):\n",
    "    print(f\"   {i}\\t    {n}\\t\\t     {iterative_fibonacci(n)}\")"
   ]
  },
  {
   "cell_type": "code",
   "execution_count": null,
   "id": "9354d4b1",
   "metadata": {},
   "outputs": [],
   "source": []
  },
  {
   "cell_type": "markdown",
   "id": "3caeef3d",
   "metadata": {},
   "source": [
    "<center> \n",
    "    <font size=6 color=\"blue\">\n",
    "        <b>Question 07</b>\n",
    "    </font>\n",
    "</center>"
   ]
  },
  {
   "cell_type": "markdown",
   "id": "7b2e0c68",
   "metadata": {},
   "source": [
    "<pre>\n",
    "Using iterative statements (only FOR-loops) with no selection statements (IF-conditions), implement the \n",
    "following pattern:\n",
    "\n",
    "B \n",
    "C  C  \n",
    "D   D   D   \n",
    "E    E    E    E    \n",
    "F     F     F     F     F     \n",
    "G      G      G      G      G      G      \n",
    "H       H       H       H       H       H       H       \n",
    "I        I        I        I        I        I        I        I        \n",
    "H       H       H       H       H       H       H       \n",
    "G      G      G      G      G      G      \n",
    "F     F     F     F     F     \n",
    "E    E    E    E    \n",
    "D   D   D   \n",
    "C  C  \n",
    "B \n",
    "\n",
    "What is the LEAST number of FOR-loops can one employ to get the above output?\n",
    "\n",
    "🅐 4\n",
    "🅑 6\n",
    "🅒 1\n",
    "🅓 3\n",
    "🅔 5\n",
    "🅕 2\n",
    "</pre>"
   ]
  },
  {
   "cell_type": "markdown",
   "id": "dd218cac",
   "metadata": {},
   "source": [
    "### SOLUTION: "
   ]
  },
  {
   "cell_type": "code",
   "execution_count": 56,
   "id": "40748182",
   "metadata": {},
   "outputs": [
    {
     "name": "stdout",
     "output_type": "stream",
     "text": [
      "B \n",
      "C  C \n",
      "D   D   D \n",
      "E    E    E    E \n",
      "F     F     F     F     F \n",
      "G      G      G      G      G      G \n",
      "H       H       H       H       H       H       H \n",
      "I        I        I        I        I        I        I        I \n",
      "H       H       H       H       H       H       H \n",
      "G      G      G      G      G      G \n",
      "F     F     F     F     F \n",
      "E    E    E    E \n",
      "D   D   D \n",
      "C  C \n",
      "B \n"
     ]
    }
   ],
   "source": [
    "possible_letters = str(\"BCDEFGHIHGFEDCB\")\n",
    "\n",
    "initial_space = \" \"\n",
    "counter = 1\n",
    "for i in range(len(possible_letters[:8])):\n",
    "    print(f\"{' '*i} \".join(possible_letters[i] * counter), end=\"\")\n",
    "    counter = counter + 1\n",
    "    print(\" \")\n",
    "\n",
    "counter = 7\n",
    "space = 6\n",
    "for j in range(len(possible_letters[8:])):\n",
    "    print(f\"{' '*space} \".join(possible_letters[j + 8] * counter), end=\"\")\n",
    "    counter = counter - 1\n",
    "    space = space - 1\n",
    "    print(\" \")"
   ]
  },
  {
   "cell_type": "code",
   "execution_count": 55,
   "id": "649c7fd5-fd0e-4812-979b-06acf2ac8ecf",
   "metadata": {},
   "outputs": [],
   "source": [
    "# Two For Loops"
   ]
  },
  {
   "cell_type": "code",
   "execution_count": null,
   "id": "f2823498",
   "metadata": {},
   "outputs": [],
   "source": []
  },
  {
   "cell_type": "code",
   "execution_count": null,
   "id": "c5c05800",
   "metadata": {},
   "outputs": [],
   "source": []
  },
  {
   "cell_type": "code",
   "execution_count": null,
   "id": "dd9da7bc",
   "metadata": {},
   "outputs": [],
   "source": []
  },
  {
   "cell_type": "code",
   "execution_count": null,
   "id": "3d101656",
   "metadata": {},
   "outputs": [],
   "source": []
  },
  {
   "cell_type": "markdown",
   "id": "60351d5c",
   "metadata": {},
   "source": [
    "<center> \n",
    "    <font size=6 color=\"blue\">\n",
    "        <b>Question 08</b>\n",
    "    </font>\n",
    "</center>"
   ]
  },
  {
   "cell_type": "markdown",
   "id": "f46b5f3b",
   "metadata": {},
   "source": [
    "<pre>\n",
    "Consider the following block of code:\n",
    "\n",
    "1    value = 59                                    # \n",
    "2    counter = 4                                   # \n",
    "3    for i in range(0, 5):                         # ------- DO NOT MODIFY\n",
    "4        print(f\"\\t{chr(i+65)}\")                   # \n",
    "5        for j in range(0, counter):               # ------- DO NOT MODIFY\n",
    "6            print(f\"{chr(value+2)}\", end=\" \")     # \n",
    "7            value += 1                            # \n",
    "8        counter += 2                              # \n",
    "9        print(\"\\n\")                               # \n",
    "\n",
    "Debug the code above without adding any more \"lines of code\" or modifying \n",
    "lines 3 or 5 to produce the following output:\n",
    "\n",
    "    A\n",
    "    B \n",
    "    C\n",
    "    C      D      E \n",
    "    G\n",
    "    F      G      H      I      J\n",
    "    M\n",
    "    K      L      M      N      O      P      Q \n",
    "    U\n",
    "    R      S      T      U      V      W      X      Y      Z \n",
    "\n",
    "Which lines of code (line numbers) must you edit to successfully achieve the \n",
    "output above? (You solution must fit within one of the requirements below)\n",
    "\n",
    "🅐 1, 2, 4, 6, 9\n",
    "🅑 1, 6, 8\n",
    "🅒 2, 4, 7, 8\n",
    "🅓 1, 2, 6, 7\n",
    "🅔 6, 7, 8, 9\n",
    "🅕 1, 6, 9\n",
    "</pre>"
   ]
  },
  {
   "cell_type": "markdown",
   "id": "9f43ad33",
   "metadata": {},
   "source": [
    "### SOLUTION:"
   ]
  },
  {
   "cell_type": "code",
   "execution_count": 2,
   "id": "92b8d4d4",
   "metadata": {},
   "outputs": [
    {
     "name": "stdout",
     "output_type": "stream",
     "text": [
      "A\n",
      "B\t \n",
      "C\n",
      "C\tD\tE\t \n",
      "G\n",
      "F\tG\tH\tI\tJ\t \n",
      "M\n",
      "K\tL\tM\tN\tO\tP\tQ\t \n",
      "U\n",
      "R\tS\tT\tU\tV\tW\tX\tY\tZ\t \n"
     ]
    }
   ],
   "source": [
    "value = 65                                   # -------- MODIFIED\n",
    "counter = 1                                  # -------- MODIFIED\n",
    "for i in range(0, 5):                        # -------- DO NOT MODIFY\n",
    "    print(f\"{chr(i+value)}\")                 # -------- MODIFIED\n",
    "    for j in range(0, counter):              # -------- DO NOT MODIFY\n",
    "        print(f\"{chr(value+1)}\", end=\"\\t\")   # -------- MODIFIED\n",
    "        value += 1                           # \n",
    "    counter += 2                             # \n",
    "    print(\" \")                               # -------- MODIFIED\n"
   ]
  },
  {
   "cell_type": "code",
   "execution_count": 3,
   "id": "09b025c4",
   "metadata": {},
   "outputs": [],
   "source": [
    "# A -> 1,2,4,6,9"
   ]
  },
  {
   "cell_type": "code",
   "execution_count": null,
   "id": "0147b798",
   "metadata": {},
   "outputs": [],
   "source": []
  },
  {
   "cell_type": "code",
   "execution_count": null,
   "id": "343053c2",
   "metadata": {},
   "outputs": [],
   "source": []
  },
  {
   "cell_type": "code",
   "execution_count": null,
   "id": "0cde9b08",
   "metadata": {},
   "outputs": [],
   "source": []
  },
  {
   "cell_type": "markdown",
   "id": "3bc500e9",
   "metadata": {},
   "source": [
    "<center> \n",
    "    <font size=6 color=\"blue\">\n",
    "        <b>Question 09</b>\n",
    "    </font>\n",
    "</center>"
   ]
  },
  {
   "cell_type": "markdown",
   "id": "8fb7eec9",
   "metadata": {},
   "source": [
    "<pre>\n",
    "Consider the following block of code:\n",
    "\n",
    " 1    value = 65                                 # \n",
    " 2    counter = 1                                # \n",
    " 3    for i in range(0, 5):                      # ------- DO NOT MODIFY\n",
    " 4        print(f\"\\n{chr(value+i)}\")             # \n",
    " 5        for j in range(0, counter):            # ------- DO NOT MODIFY\n",
    " 6            print(f\"{chr(value)}\")             # \n",
    " 7            value += 1                         # \n",
    " 8        counter -= 3                           # \n",
    " 9        print(end=\"\\n\")                        # \n",
    "10    for i in range(0, 1):                      # ------- DO NOT MODIFY\n",
    "11        print(f\"\\t{chr(value*i)}\")             #\n",
    "\n",
    "Debug the code above without adding any more \"lines of code\" or modifying \n",
    "lines 3, 5, or 10 to produce the following output:\n",
    "\n",
    "            A\n",
    "            C\n",
    "            G E \n",
    "            M H I J \n",
    "            U M N O P Q \n",
    "    S T U V W X Y Z \n",
    "\n",
    "Which lines of code (line numbers) must you edit to successfully achieve the \n",
    "output above? (You solution must fit within one of the requirement below)\n",
    "\n",
    "🅐 1, 2, 4, 6, 11\n",
    "🅑 4, 6, 8\n",
    "🅒 2, 6, 7, 8\n",
    "🅓 2, 4, 6, 7\n",
    "🅔 4, 6, 8, 9\n",
    "🅕 1, 6, 9, 11\n",
    "</pre>"
   ]
  },
  {
   "cell_type": "markdown",
   "id": "f0975c4a",
   "metadata": {},
   "source": [
    "### SOLUTION: "
   ]
  },
  {
   "cell_type": "code",
   "execution_count": 10,
   "id": "bcf7fd3d",
   "metadata": {},
   "outputs": [
    {
     "name": "stdout",
     "output_type": "stream",
     "text": [
      "  \u0000\n",
      "\t  A\n",
      "\t  D\n",
      "  C\n",
      "\t  C\n",
      "\t  F\n",
      "\t  I\n",
      "  \n",
      "\t  F\n",
      "\t  I\n",
      "\t  L\n",
      "\t  O\n",
      "  Þ\n",
      "\t  J\n",
      "\t  M\n",
      "\t  P\n",
      "\t  S\n",
      "\t  V\n",
      "  ļ\n",
      "\t  O\n",
      "\t  R\n",
      "\t  U\n",
      "\t  X\n",
      "\t  [\n",
      "\t  ^\n",
      "\tU\n"
     ]
    }
   ],
   "source": [
    "value = 65  \n",
    "counter = 2   \n",
    "for i in range(0, 5):                      # ------- DO NOT MODIFY\n",
    "    print(f\"{' ' * space}{chr(value * i)}\")             \n",
    "    for j in range(0, counter):            # ------- DO NOT MODIFY\n",
    "        print(f\"\\t{' '*space}{chr(value  + 2 * j)}\")            \n",
    "        value += 1                       \n",
    "    counter += 1  \n",
    "    print(end=\"\")                       \n",
    "for i in range(0, 1):                      # ------- DO NOT MODIFY\n",
    "    print(f\"\\t{chr(value +i)}\")"
   ]
  },
  {
   "cell_type": "code",
   "execution_count": null,
   "id": "7643ca07",
   "metadata": {},
   "outputs": [],
   "source": []
  },
  {
   "cell_type": "code",
   "execution_count": null,
   "id": "d47ddf30",
   "metadata": {},
   "outputs": [],
   "source": []
  },
  {
   "cell_type": "code",
   "execution_count": null,
   "id": "734bb7eb",
   "metadata": {},
   "outputs": [],
   "source": []
  },
  {
   "cell_type": "code",
   "execution_count": null,
   "id": "1dacfe05",
   "metadata": {},
   "outputs": [],
   "source": []
  },
  {
   "cell_type": "markdown",
   "id": "bf7a0fd3",
   "metadata": {},
   "source": [
    "<center> \n",
    "    <font size=6 color=\"blue\">\n",
    "        <b>Question 10</b>\n",
    "    </font>\n",
    "</center>"
   ]
  },
  {
   "cell_type": "markdown",
   "id": "1312bc28",
   "metadata": {},
   "source": [
    "<pre>\n",
    "Consider the following python code below:\n",
    "\n",
    "x = 65335*(10); x &= ~23**2____________; y = x;\n",
    "((~0+1^x|3)**9^(7&(~5))%65335)%((~0+1^x|(2+1))**(3**2)^((4+3)&(~5))%int(round(65//10.5, 2))) == y\n",
    "\n",
    "What must one put in the underscored area in order to make the expression output \"True\"? (HINT: \n",
    "Make sure to use any vaild python operation as you see fit to make the statement true)\n",
    "\n",
    "🅐 36\n",
    "🅑 10\n",
    "🅒 97\n",
    "🅓 17\n",
    "🅔 11\n",
    "🅕 26\n",
    "</pre>"
   ]
  },
  {
   "cell_type": "markdown",
   "id": "7352423c",
   "metadata": {},
   "source": [
    "### SOLUTION: "
   ]
  },
  {
   "cell_type": "code",
   "execution_count": 57,
   "id": "b3c78405",
   "metadata": {},
   "outputs": [
    {
     "data": {
      "text/plain": [
       "True"
      ]
     },
     "execution_count": 57,
     "metadata": {},
     "output_type": "execute_result"
    }
   ],
   "source": [
    "x = 65335*(10); x &= ~23**2>=10; y = x;\n",
    "((~0+1^x|3)**9^(7&(~5))%65335)%((~0+1^x|(2+1))**(3**2)^((4+3)&(~5))%int(round(65//10.5, 2))) == y"
   ]
  },
  {
   "cell_type": "code",
   "execution_count": null,
   "id": "91a75401",
   "metadata": {},
   "outputs": [],
   "source": [
    "# B ---    [>=10] Gives True"
   ]
  },
  {
   "cell_type": "code",
   "execution_count": null,
   "id": "226d0ffd",
   "metadata": {},
   "outputs": [],
   "source": []
  },
  {
   "cell_type": "code",
   "execution_count": null,
   "id": "cf489e3b",
   "metadata": {},
   "outputs": [],
   "source": []
  },
  {
   "cell_type": "code",
   "execution_count": null,
   "id": "faf233d0",
   "metadata": {},
   "outputs": [],
   "source": []
  },
  {
   "cell_type": "markdown",
   "id": "12e6dbde",
   "metadata": {},
   "source": [
    "<center> \n",
    "    <font size=6 color=\"blue\">\n",
    "        <b>Question 11</b>\n",
    "    </font>\n",
    "</center>"
   ]
  },
  {
   "cell_type": "markdown",
   "id": "2db97bed",
   "metadata": {},
   "source": [
    "<pre>\n",
    "Consider the following list containing different fruits:\n",
    "\n",
    "    fruits = ['abiu', 'açaí', 'acerola', 'akebi', 'ackee', 'african cherry orange', \n",
    "              'american mayapple', 'apple', 'apricot', 'araza', 'avocado', 'banana', \n",
    "              'bilberry', 'blackberry', 'blackcurrant', 'black sapote', 'blueberry',\n",
    "              'boysenberry', 'breadfruit', \"buddha's hand\", 'cactus pear', 'canistel', \n",
    "              'cashew', 'cempedak', 'cherimoya', 'cherry', 'chico fruit', 'cloudberry', \n",
    "              'coco de mer', 'coconut', 'crab apple', 'cranberry', 'currant', 'damson', \n",
    "              'dates', 'dragonfruit', 'durian', 'egg fruit', 'elderberry', 'feijoa', \n",
    "              'fig', 'finger lime', 'goji berry', 'gooseberry', 'grape', 'raisin', \n",
    "              'grapefruit', 'grewia asiatica', 'guava', 'hala fruit', 'honeyberry', \n",
    "              'huckleberry', 'jabuticaba', 'jackfruit', 'jambul', 'japanese plum', \n",
    "              'jostaberry', 'jujube', 'juniper berry', 'kaffir lime', 'kiwano', \n",
    "              'kiwifruit', 'kumquat', 'lemon', 'lime', 'loganberry', 'longan', \n",
    "              'loquat', 'melon', 'cantaloupe', 'galia melon', 'honeydew', 'mouse melon', \n",
    "              'musk melon', 'watermelon', 'miracle fruit', 'momordica fruit', \n",
    "              'monstera deliciosa', 'mulberry', 'nance', 'nectarine', 'orange', \n",
    "              'blood orange', 'clementine', 'mandarine', 'tangerine', 'papaya', \n",
    "              'passionfruit', 'pawpaw', 'peach', 'pear', 'persimmon', 'plantain', \n",
    "              'plum', 'prune', 'pineapple', 'pineberry', 'plumcot', 'pomegranate', \n",
    "              'pomelo', 'purple mangosteen', 'quince', 'raspberry', 'salmonberry', \n",
    "              'rambutan', 'redcurrant', 'rose apple', 'salal berry', 'salak', \n",
    "              'sapodilla', 'sapote', 'satsuma', 'shine muscat', 'sloe', 'soursop', \n",
    "              'star apple', 'star fruit', 'strawberry', 'surinam cherry', 'tamarillo', \n",
    "              'tamarind', 'tangelo', 'tayberry', 'ugli fruit', 'white currant', \n",
    "              'white sapote', 'ximenia', 'yuzu']\n",
    "\n",
    "We want to create a second list containing the fruits subjected to our search. We can \n",
    "ask the user to input the search text as follows:\n",
    "\n",
    "    search = str(input(\"Search : \")).lower()\n",
    "\n",
    "Once the search text has been entered we will have to process the query to output the \n",
    "correct results. For an example, if one were to:\n",
    "\n",
    "    Search for : melon\n",
    "    Results    : ['melon', 'galia melon', 'mouse melon', 'musk melon', 'watermelon']\n",
    "\n",
    "The computation done to output such list can we done using list comprehension. Following \n",
    "is such statement with blanks\n",
    "\n",
    "    results = [____  ____ fruit ____  ____  ____  ____  ____ fruit]\n",
    "    print(f\"Results    : {results}\")\n",
    "\n",
    "Pick the collection of python statements, when organized in any combination to fill in \n",
    "the blacks that would produce the results shown above when searched for \"melon\".\n",
    "\n",
    "🅐 for, fruit, while, else, in, fruits, if\n",
    "🅑 if, in, fruits, str(search), for, in, fruit\n",
    "🅒 in, else, if, str(search), in, fruits, fruit\n",
    "🅓 fruits, for, in, in, while, if, str(search)\n",
    "🅔 else, elif, str(search), in, if, for, in\n",
    "</pre>"
   ]
  },
  {
   "cell_type": "markdown",
   "id": "bfe25d76",
   "metadata": {},
   "source": [
    "### SOLUTION: "
   ]
  },
  {
   "cell_type": "code",
   "execution_count": 10,
   "id": "a9b0f30f",
   "metadata": {
    "tags": []
   },
   "outputs": [],
   "source": [
    "fruits = ['abiu', 'açaí', 'acerola', 'akebi', 'ackee', 'african cherry orange', \n",
    "              'american mayapple', 'apple', 'apricot', 'araza', 'avocado', 'banana', \n",
    "              'bilberry', 'blackberry', 'blackcurrant', 'black sapote', 'blueberry',\n",
    "              'boysenberry', 'breadfruit', \"buddha's hand\", 'cactus pear', 'canistel', \n",
    "              'cashew', 'cempedak', 'cherimoya', 'cherry', 'chico fruit', 'cloudberry', \n",
    "              'coco de mer', 'coconut', 'crab apple', 'cranberry', 'currant', 'damson', \n",
    "              'dates', 'dragonfruit', 'durian', 'egg fruit', 'elderberry', 'feijoa', \n",
    "              'fig', 'finger lime', 'goji berry', 'gooseberry', 'grape', 'raisin', \n",
    "              'grapefruit', 'grewia asiatica', 'guava', 'hala fruit', 'honeyberry', \n",
    "              'huckleberry', 'jabuticaba', 'jackfruit', 'jambul', 'japanese plum', \n",
    "              'jostaberry', 'jujube', 'juniper berry', 'kaffir lime', 'kiwano', \n",
    "              'kiwifruit', 'kumquat', 'lemon', 'lime', 'loganberry', 'longan', \n",
    "              'loquat', 'melon', 'cantaloupe', 'galia melon', 'honeydew', 'mouse melon', \n",
    "              'musk melon', 'watermelon', 'miracle fruit', 'momordica fruit', \n",
    "              'monstera deliciosa', 'mulberry', 'nance', 'nectarine', 'orange', \n",
    "              'blood orange', 'clementine', 'mandarine', 'tangerine', 'papaya', \n",
    "              'passionfruit', 'pawpaw', 'peach', 'pear', 'persimmon', 'plantain', \n",
    "              'plum', 'prune', 'pineapple', 'pineberry', 'plumcot', 'pomegranate', \n",
    "              'pomelo', 'purple mangosteen', 'quince', 'raspberry', 'salmonberry', \n",
    "              'rambutan', 'redcurrant', 'rose apple', 'salal berry', 'salak', \n",
    "              'sapodilla', 'sapote', 'satsuma', 'shine muscat', 'sloe', 'soursop', \n",
    "              'star apple', 'star fruit', 'strawberry', 'surinam cherry', 'tamarillo', \n",
    "              'tamarind', 'tangelo', 'tayberry', 'ugli fruit', 'white currant', \n",
    "              'white sapote', 'ximenia', 'yuzu']"
   ]
  },
  {
   "cell_type": "code",
   "execution_count": null,
   "id": "03501e97",
   "metadata": {},
   "outputs": [],
   "source": []
  },
  {
   "cell_type": "code",
   "execution_count": 13,
   "id": "72f093f8",
   "metadata": {},
   "outputs": [
    {
     "name": "stdin",
     "output_type": "stream",
     "text": [
      "Search :  melon\n"
     ]
    },
    {
     "name": "stdout",
     "output_type": "stream",
     "text": [
      "Results    : ['melon', 'galia melon', 'mouse melon', 'musk melon', 'watermelon']\n"
     ]
    }
   ],
   "source": [
    "search = str(input(\"Search : \")).lower()\n",
    "\n",
    "results = [fruit for fruit in fruits if str(search) in fruit]\n",
    "print(f\"Results    : {results}\")"
   ]
  },
  {
   "cell_type": "code",
   "execution_count": null,
   "id": "1bc3331e",
   "metadata": {},
   "outputs": [],
   "source": [
    "#B -> if, in, fruits, str(search), for, in, fruit"
   ]
  },
  {
   "cell_type": "code",
   "execution_count": null,
   "id": "9861130e",
   "metadata": {},
   "outputs": [],
   "source": []
  },
  {
   "cell_type": "markdown",
   "id": "c29cbe69",
   "metadata": {},
   "source": [
    "<center> \n",
    "    <font size=6 color=\"blue\">\n",
    "        <b>Question 12</b>\n",
    "    </font>\n",
    "</center>"
   ]
  },
  {
   "cell_type": "markdown",
   "id": "e15e7a5b",
   "metadata": {},
   "source": [
    "<pre>\n",
    "Which ones are the PROPER (satisfies the PEP8 standard, not illigal, and based on the class notes and discussions) python 3 variable names? (This is not just about what will run properly, but also good coding practice as explained in class. Select all that apply)\n",
    "\n",
    "🅐 jay_hannamon\n",
    "🅑 my_students\n",
    "🅒 students_dataframe\n",
    "🅓 _set_dictionary_list_\n",
    "🅔 african_trees\n",
    "🅕 all_the_people\n",
    "</pre>"
   ]
  },
  {
   "cell_type": "markdown",
   "id": "383a5ecd",
   "metadata": {},
   "source": [
    "### SOLUTION: "
   ]
  },
  {
   "cell_type": "code",
   "execution_count": null,
   "id": "1b9c5ac6",
   "metadata": {},
   "outputs": [],
   "source": [
    "# B my_students\n",
    "# C student_dataframe\n",
    "# E african_trees"
   ]
  },
  {
   "cell_type": "code",
   "execution_count": null,
   "id": "31e4a804",
   "metadata": {},
   "outputs": [],
   "source": []
  },
  {
   "cell_type": "code",
   "execution_count": null,
   "id": "1ddc5bb6",
   "metadata": {},
   "outputs": [],
   "source": []
  },
  {
   "cell_type": "code",
   "execution_count": null,
   "id": "277ae8d8",
   "metadata": {},
   "outputs": [],
   "source": []
  },
  {
   "cell_type": "code",
   "execution_count": null,
   "id": "0f35d6b4",
   "metadata": {},
   "outputs": [],
   "source": []
  }
 ],
 "metadata": {
  "kernelspec": {
   "display_name": "Python 3 (ipykernel)",
   "language": "python",
   "name": "python3"
  },
  "language_info": {
   "codemirror_mode": {
    "name": "ipython",
    "version": 3
   },
   "file_extension": ".py",
   "mimetype": "text/x-python",
   "name": "python",
   "nbconvert_exporter": "python",
   "pygments_lexer": "ipython3",
   "version": "3.9.12"
  }
 },
 "nbformat": 4,
 "nbformat_minor": 5
}
