{
 "cells": [
  {
   "cell_type": "markdown",
   "id": "584693c2",
   "metadata": {},
   "source": [
    "<center> \n",
    "    <font size=6 color=\"blue\">\n",
    "        <b>QUIZ 03 - Work Notebook</b>\n",
    "    </font>\n",
    "</center>"
   ]
  },
  {
   "cell_type": "markdown",
   "id": "539ec838",
   "metadata": {},
   "source": [
    "<pre>\n",
    "INSTRUCTIONS:\n",
    "\n",
    "You might NOT have the time to work out the problems while doing the actual quiz as the online quiz must be submitted in one sitting (system does not allow one to save and come back to it). \n",
    "\n",
    "Therefore, before starting the quiz, make sure to do all the problems in the notebook and verify that they are correct. \n",
    "\n",
    "Once you are satisfied of your answers, you may start the quiz, and when the quiz begins you can answer the appropriate question by just filling in the answers from your work here in the notebook. \n",
    "\n",
    "You can download the quiz work notebook under the CONTENT ---> QUIZ NOTEBOOKS section of myCourses. \n",
    "\n",
    "</pre>"
   ]
  },
  {
   "cell_type": "markdown",
   "id": "b1301124",
   "metadata": {},
   "source": [
    "<center> \n",
    "    <font size=6 color=\"blue\">\n",
    "        <b>QUIZ Greading Criteria</b>\n",
    "    </font>\n",
    "</center>\n",
    "\n",
    "<pre>\n",
    "STANDARD CASES:\n",
    "\n",
    "Workbook     Quiz       Result              Description\n",
    "----------------------------------------------------------------------------------------------------------\n",
    "   0          0          0.0        # Practice, Practice, Practice\n",
    "   0          1          1.0        # Strange behavior, I shall keep an eye on you\n",
    "   1          0          0.5        # You picked wrong: Watch what you are picking next time\n",
    "   1          1          1.0        # Good job, you got it\n",
    "   \n",
    "\n",
    "NON-STANDARD CASES:\n",
    "\n",
    "Workbook     Quiz       Result              Description\n",
    "----------------------------------------------------------------------------------------------------------\n",
    "   ~1         0          0.3        # Almost got the a correct answer, keep practicing...\n",
    "   ~1         1          1.0        # Good save, but not always you will get lucky.. so practice more.\n",
    "   \n",
    "   \n",
    "SPECIAL CASES:\n",
    "\n",
    "Workbook     Quiz       Result              Description\n",
    "----------------------------------------------------------------------------------------------------------\n",
    "   1          ?          2.0        # You found a solution that was NOT listed part of the answers in \n",
    "                                      the quiz (THIS BONUS IS ONLY ALLOWED WHEN IT IS SPECIFICALLY \n",
    "                                      STATED IN THE QUESTION THAT \"CREATIVITY IS ENCOURAGED\")\n",
    "                                      \n",
    "                                      Please be adviced: All solutions MUST be,\n",
    "                                      + Scalable\n",
    "                                      + Integratable\n",
    "                                      + Optimized for Time and Space Complexity\n",
    "                                      + Legible\n",
    "   \n",
    "</pre>"
   ]
  },
  {
   "cell_type": "markdown",
   "id": "06e9bd90",
   "metadata": {},
   "source": [
    "<center> \n",
    "    <font size=6 color=\"blue\">\n",
    "        <b>Question 01</b>\n",
    "    </font>\n",
    "</center>"
   ]
  },
  {
   "cell_type": "markdown",
   "id": "ab1e3a48",
   "metadata": {},
   "source": [
    "<pre>\n",
    "What does Object Orientated Programming (OOP) constitute?\n",
    "\n",
    "🅐 Programming with attributes and functions\n",
    "🅑 Programming with methods and function\n",
    "🅒 Programming with decorators and generators\n",
    "🅓 Programming with classes and objects\n",
    "🅔 Programming with variables and classes \n",
    "</pre>"
   ]
  },
  {
   "cell_type": "markdown",
   "id": "27dae0d7",
   "metadata": {},
   "source": [
    "### SOLUTION: "
   ]
  },
  {
   "cell_type": "code",
   "execution_count": 1,
   "id": "f3a4f0c2",
   "metadata": {},
   "outputs": [],
   "source": [
    "#D Programming with classes and objects"
   ]
  },
  {
   "cell_type": "code",
   "execution_count": null,
   "id": "7b9146a1",
   "metadata": {},
   "outputs": [],
   "source": []
  },
  {
   "cell_type": "code",
   "execution_count": null,
   "id": "b20163bf",
   "metadata": {},
   "outputs": [],
   "source": []
  },
  {
   "cell_type": "code",
   "execution_count": null,
   "id": "26204971",
   "metadata": {},
   "outputs": [],
   "source": []
  },
  {
   "cell_type": "code",
   "execution_count": null,
   "id": "e71753b9",
   "metadata": {},
   "outputs": [],
   "source": []
  },
  {
   "cell_type": "markdown",
   "id": "e8934e82",
   "metadata": {},
   "source": [
    "<center> \n",
    "    <font size=6 color=\"blue\">\n",
    "        <b>Question 02</b>\n",
    "    </font>\n",
    "</center>"
   ]
  },
  {
   "cell_type": "markdown",
   "id": "83bbc9ed",
   "metadata": {},
   "source": [
    "<pre>\n",
    "Consider the following Object:\n",
    "                         ______________________\n",
    "                        |                      | \n",
    "                        |      Jsoc_Intfce     | \n",
    "                        |______________________| \n",
    "                        |                      | \n",
    "                        | + dev_name : str     | \n",
    "                        | - p_thread : str     | \n",
    "                        | # cid_var  : str     | \n",
    "                        | ~ x_radios : list    |\n",
    "                        | ~ desig_cd : dict    |\n",
    "                        |______________________|\n",
    "                        |                      |\n",
    "                        | + param_get()        |\n",
    "                        | + param_transport()  |\n",
    "                        |______________________|\n",
    "\n",
    "What statement is correct about the above object?\n",
    "\n",
    "🅐 Jsoc_Intfce is an inherited class from another, with private visibility set for p_thread attribute\n",
    "🅑 param_get() is a function of the Jsoc_Intfce class with public visibility\n",
    "🅒 x_radios attribute can be accessed by all its super classes and it is a method of the Jsoc_Intfce class\n",
    "🅓 An outside method from another class may inherit the Jsoc_Intfce class and call and use the class attribute dev_name\n",
    "🅔 param_transport() function could be written as a generator expression\n",
    "</pre>"
   ]
  },
  {
   "cell_type": "markdown",
   "id": "07dddadc",
   "metadata": {},
   "source": [
    "### SOLUTION: "
   ]
  },
  {
   "cell_type": "code",
   "execution_count": 2,
   "id": "7e5c65c4",
   "metadata": {},
   "outputs": [],
   "source": [
    "# B"
   ]
  },
  {
   "cell_type": "code",
   "execution_count": null,
   "id": "4e82d129",
   "metadata": {},
   "outputs": [],
   "source": []
  },
  {
   "cell_type": "code",
   "execution_count": null,
   "id": "8c85032a",
   "metadata": {},
   "outputs": [],
   "source": []
  },
  {
   "cell_type": "code",
   "execution_count": null,
   "id": "ce077394",
   "metadata": {},
   "outputs": [],
   "source": []
  },
  {
   "cell_type": "code",
   "execution_count": null,
   "id": "b3cd7d77",
   "metadata": {},
   "outputs": [],
   "source": []
  },
  {
   "cell_type": "markdown",
   "id": "8c7992b7",
   "metadata": {},
   "source": [
    "<center> \n",
    "    <font size=6 color=\"blue\">\n",
    "        <b>Question 03</b>\n",
    "    </font>\n",
    "</center>"
   ]
  },
  {
   "cell_type": "markdown",
   "id": "ab86931c",
   "metadata": {},
   "source": [
    "<pre>\n",
    "What concept defines the relationship between a child and a parent class?\n",
    "\n",
    "🅐 \"has-from\" relationship\n",
    "🅑 \"is-a\" relationship\n",
    "🅒 \"is-like\" relationship\n",
    "🅓 \"herited\" relationship\n",
    "🅔 \"has-a\" relationship\n",
    "</pre>"
   ]
  },
  {
   "cell_type": "markdown",
   "id": "e74eadda",
   "metadata": {},
   "source": [
    "### SOLUTION: "
   ]
  },
  {
   "cell_type": "code",
   "execution_count": 3,
   "id": "059684fb",
   "metadata": {},
   "outputs": [],
   "source": [
    "# B \"is-a\" relationship"
   ]
  },
  {
   "cell_type": "code",
   "execution_count": null,
   "id": "d7712470",
   "metadata": {
    "jupyter": {
     "source_hidden": true
    },
    "tags": []
   },
   "outputs": [],
   "source": []
  },
  {
   "cell_type": "code",
   "execution_count": null,
   "id": "5b00972f",
   "metadata": {},
   "outputs": [],
   "source": []
  },
  {
   "cell_type": "code",
   "execution_count": null,
   "id": "d48a0029",
   "metadata": {},
   "outputs": [],
   "source": []
  },
  {
   "cell_type": "code",
   "execution_count": null,
   "id": "89202aa3",
   "metadata": {},
   "outputs": [],
   "source": []
  },
  {
   "cell_type": "markdown",
   "id": "7e57f637",
   "metadata": {},
   "source": [
    "<center> \n",
    "    <font size=6 color=\"blue\">\n",
    "        <b>Question 04</b>\n",
    "    </font>\n",
    "</center>"
   ]
  },
  {
   "cell_type": "markdown",
   "id": "6959b692",
   "metadata": {},
   "source": [
    "<pre>\n",
    "What are the different ways one can write any classical and local computer program?\n",
    "\n",
    "🅐 Dictionaries, Sets, Frozen Sets, Series, and Lists\n",
    "🅑 Linear and Non-Linear\n",
    "🅒 Iteration, Parallelization, Recursion, Selection, and Sequence\n",
    "🅓 Parallelization, Cloud Distribution\n",
    "🅔 Function Oriented and Object Oriented\n",
    "</pre>"
   ]
  },
  {
   "cell_type": "markdown",
   "id": "1a633c69",
   "metadata": {},
   "source": [
    "### SOLUTION: "
   ]
  },
  {
   "cell_type": "code",
   "execution_count": 4,
   "id": "9a40793a",
   "metadata": {},
   "outputs": [],
   "source": [
    "# C Iteration, Parallelization, Recursion, Selection, and Sequence"
   ]
  },
  {
   "cell_type": "code",
   "execution_count": null,
   "id": "320754b7",
   "metadata": {},
   "outputs": [],
   "source": []
  },
  {
   "cell_type": "code",
   "execution_count": null,
   "id": "d201e7d8",
   "metadata": {},
   "outputs": [],
   "source": []
  },
  {
   "cell_type": "code",
   "execution_count": null,
   "id": "8c2bbef9",
   "metadata": {},
   "outputs": [],
   "source": []
  },
  {
   "cell_type": "code",
   "execution_count": null,
   "id": "447f60fe",
   "metadata": {},
   "outputs": [],
   "source": []
  },
  {
   "cell_type": "markdown",
   "id": "6c2f9ce7",
   "metadata": {},
   "source": [
    "<center> \n",
    "    <font size=6 color=\"blue\">\n",
    "        <b>Question 05</b>\n",
    "    </font>\n",
    "</center>"
   ]
  },
  {
   "cell_type": "markdown",
   "id": "c3a93add",
   "metadata": {},
   "source": [
    "<pre>\n",
    "What does Object Orientated Programming (OOP) help with? (Select the best answer)\n",
    "\n",
    "🅐 It allows creation of objects that “know” what they are/what they do\n",
    "🅑 It allows multiple people to collaborate on code quite easily\n",
    "🅒 It shortens code size dramatically and it allows code to be compiled more efficiently\n",
    "🅓 It helps one to segment a given program into sections fot maximum integrability\n",
    "🅔 It involves classes; which helps when debugging code\n",
    "</pre>"
   ]
  },
  {
   "cell_type": "markdown",
   "id": "827e8f7c",
   "metadata": {},
   "source": [
    "### SOLUTION: "
   ]
  },
  {
   "cell_type": "code",
   "execution_count": 5,
   "id": "2ddfa687",
   "metadata": {},
   "outputs": [],
   "source": [
    "# D It helps one to segment a given program into sections fot maximum integrability"
   ]
  },
  {
   "cell_type": "code",
   "execution_count": null,
   "id": "45211b7c",
   "metadata": {
    "tags": []
   },
   "outputs": [],
   "source": []
  },
  {
   "cell_type": "code",
   "execution_count": null,
   "id": "a519373b",
   "metadata": {},
   "outputs": [],
   "source": []
  },
  {
   "cell_type": "code",
   "execution_count": null,
   "id": "d0f061cf",
   "metadata": {},
   "outputs": [],
   "source": []
  },
  {
   "cell_type": "code",
   "execution_count": null,
   "id": "00dada7e",
   "metadata": {},
   "outputs": [],
   "source": []
  },
  {
   "cell_type": "markdown",
   "id": "7bd3ce7a",
   "metadata": {},
   "source": [
    "<center> \n",
    "    <font size=6 color=\"blue\">\n",
    "        <b>Question 06</b>\n",
    "    </font>\n",
    "</center>"
   ]
  },
  {
   "cell_type": "markdown",
   "id": "86e52a97",
   "metadata": {},
   "source": [
    "<pre>\n",
    "What concept defines the type of a relationship that constitutes the destruction of a child class when its parent is destroyed?\n",
    "\n",
    "🅐 \"has-from\" relationship\n",
    "🅑 \"is-a\" relationship\n",
    "🅒 \"is-like\" relationship\n",
    "🅓 \"herited\" relationship\n",
    "🅔 \"has-a\" relationship\n",
    "</pre>"
   ]
  },
  {
   "cell_type": "markdown",
   "id": "5c325453",
   "metadata": {},
   "source": [
    "### SOLUTION: "
   ]
  },
  {
   "cell_type": "code",
   "execution_count": 6,
   "id": "a6e27b01",
   "metadata": {},
   "outputs": [],
   "source": [
    "# E"
   ]
  },
  {
   "cell_type": "code",
   "execution_count": null,
   "id": "c1ac1703",
   "metadata": {},
   "outputs": [],
   "source": []
  },
  {
   "cell_type": "code",
   "execution_count": null,
   "id": "04ee16b2",
   "metadata": {},
   "outputs": [],
   "source": []
  },
  {
   "cell_type": "code",
   "execution_count": null,
   "id": "9b871ef4",
   "metadata": {},
   "outputs": [],
   "source": []
  },
  {
   "cell_type": "code",
   "execution_count": null,
   "id": "9354d4b1",
   "metadata": {},
   "outputs": [],
   "source": []
  },
  {
   "cell_type": "markdown",
   "id": "3caeef3d",
   "metadata": {},
   "source": [
    "<center> \n",
    "    <font size=6 color=\"blue\">\n",
    "        <b>Question 07</b>\n",
    "    </font>\n",
    "</center>"
   ]
  },
  {
   "cell_type": "markdown",
   "id": "7b2e0c68",
   "metadata": {},
   "source": [
    "<pre>Consider the sinc function to be:</pre>\n",
    "\n",
    "$$\n",
    "\\operatorname{sinc}(x) = \\frac{\\sin(\\pi x)}{\\pi x}\n",
    "$$\n",
    "\n",
    "<pre>Following is a variant of the Prime Omega Function that allows one to count the number of prime factors of a \n",
    "natural number n.</pre> \n",
    "\n",
    "$$\n",
    "\\omega(n) = \\log_2\\left[\\sum_{k=1}^n \\sum_{j=1}^k \\left(\\sum_{d\\mid k} \\sum_{i=1}^d p(d-ji) \\right) s_{n,k} \\cdot |\\mu(j)|\\right]\n",
    "$$\n",
    "\n",
    "<pre>And its complex continuation can be defined as follows (note that z is a complex number):</pre>\n",
    "\n",
    "$$\n",
    "\\omega(z) = \\log_2\\left(\\sum_{x=1}^{\\lceil Re(z) \\rceil} \\operatorname{sinc} \\left(\\prod_{y=1}^{\\lceil Re(z) \\rceil+1} \\left( x^2+x-yz \\right) \\right) \\right) \n",
    "$$\n",
    "\n",
    "<pre>Implement the complex counterpart of the Prime Omega Function defined above as a single python function. (You may \n",
    "choose to use multiple inner functions as necessary. You may also use the python package \"math\", ONLY for using the \n",
    "mathematical functions log2, sin, pi)\n",
    "\n",
    "PLEASE NOTE: this question will be GRADED MANUALLY for correctness, documentation, type hinting, and for the scalable \n",
    "implementation of the algorithm. Copy and paste your complete (executable) solution - which will include the function implementation and a driver function - as the answer.\n",
    "</pre> "
   ]
  },
  {
   "cell_type": "markdown",
   "id": "dd218cac",
   "metadata": {},
   "source": [
    "### SOLUTION: "
   ]
  },
  {
   "cell_type": "code",
   "execution_count": 136,
   "id": "40748182",
   "metadata": {},
   "outputs": [
    {
     "name": "stdout",
     "output_type": "stream",
     "text": [
      "1.2827614968107184\n"
     ]
    }
   ],
   "source": [
    "import math\n",
    "\n",
    "class ComplexConjugatePrimeOmega(object):\n",
    "    \"\"\"\n",
    "    Blueprint for contructing the complex numbers\n",
    "    \n",
    "    Arguments:\n",
    "    ---------\n",
    "        x : int\n",
    "        y : int\n",
    "    \n",
    "    Methods:\n",
    "    -------\n",
    "        prime_omega_complex()\n",
    "    \"\"\"\n",
    "    def __init__(self, x : int = None, y : int = None):\n",
    "        self.x = x\n",
    "        self.y = y\n",
    "        \n",
    "        if isinstance(self.x, float):\n",
    "            self.x = int(x)\n",
    "        if isinstance(self.x, float):\n",
    "            self.y = int(y)\n",
    "        \n",
    "    def prime_omega_complex(self):\n",
    "        if self.x == 0:\n",
    "            self.x = 3\n",
    "\n",
    "        if self.y == 0:\n",
    "            self.y = 4\n",
    "        \n",
    "        assert self.x > 1\n",
    "        z =  complex(self.x, self.y)\n",
    "        \n",
    "        W = []\n",
    "        product = 1\n",
    "        total = 0\n",
    "        \n",
    "        for i in range(1, self.x):\n",
    "            for j in range(1, self.x + 1):\n",
    "                product *= (i ** 2 + i  - j * abs(z))      # I am considering only the absolute value of Z\n",
    "            total += (math.sin(math.pi * product) / math.pi * product)\n",
    "        total = math.log2(abs(total))\n",
    "        return total\n",
    "    \n",
    "ccpo = ComplexConjugatePrimeOmega(x = 2, y = 3)\n",
    "print(ccpo.prime_omega_complex())"
   ]
  },
  {
   "cell_type": "code",
   "execution_count": 135,
   "id": "79177674-65a9-4e7f-ac3f-4b4020262dc1",
   "metadata": {},
   "outputs": [
    {
     "name": "stdout",
     "output_type": "stream",
     "text": [
      "1.2827614968107184\n"
     ]
    }
   ],
   "source": []
  },
  {
   "cell_type": "code",
   "execution_count": null,
   "id": "f2823498",
   "metadata": {},
   "outputs": [],
   "source": []
  },
  {
   "cell_type": "code",
   "execution_count": null,
   "id": "c5c05800",
   "metadata": {},
   "outputs": [
    {
     "name": "stdout",
     "output_type": "stream",
     "text": [
      "2.0\n"
     ]
    },
    {
     "ename": "ZeroDivisionError",
     "evalue": "float division by zero",
     "output_type": "error",
     "traceback": [
      "\u001b[1;31m---------------------------------------------------------------------------\u001b[0m",
      "\u001b[1;31mZeroDivisionError\u001b[0m                         Traceback (most recent call last)",
      "Input \u001b[1;32mIn [122]\u001b[0m, in \u001b[0;36m<cell line: 2>\u001b[1;34m()\u001b[0m\n\u001b[0;32m      1\u001b[0m ccpo \u001b[38;5;241m=\u001b[39m ComplexConjugatePrimeOmega(x \u001b[38;5;241m=\u001b[39m \u001b[38;5;241m2\u001b[39m, y \u001b[38;5;241m=\u001b[39m \u001b[38;5;241m3\u001b[39m)\n\u001b[1;32m----> 2\u001b[0m \u001b[38;5;28mprint\u001b[39m(\u001b[43mccpo\u001b[49m\u001b[38;5;241;43m.\u001b[39;49m\u001b[43mprime_omega_complex\u001b[49m\u001b[43m(\u001b[49m\u001b[43m)\u001b[49m)\n",
      "Input \u001b[1;32mIn [119]\u001b[0m, in \u001b[0;36mComplexConjugatePrimeOmega.prime_omega_complex\u001b[1;34m(self)\u001b[0m\n\u001b[0;32m     40\u001b[0m     \u001b[38;5;28;01mfor\u001b[39;00m j \u001b[38;5;129;01min\u001b[39;00m \u001b[38;5;28mrange\u001b[39m(\u001b[38;5;241m1\u001b[39m, \u001b[38;5;28mint\u001b[39m(z\u001b[38;5;241m.\u001b[39mreal \u001b[38;5;241m+\u001b[39m \u001b[38;5;241m1\u001b[39m)):\n\u001b[0;32m     41\u001b[0m         product \u001b[38;5;241m*\u001b[39m\u001b[38;5;241m=\u001b[39m (i \u001b[38;5;241m*\u001b[39m\u001b[38;5;241m*\u001b[39m \u001b[38;5;241m2\u001b[39m \u001b[38;5;241m+\u001b[39m i  \u001b[38;5;241m-\u001b[39m j \u001b[38;5;241m*\u001b[39m \u001b[38;5;28mint\u001b[39m(z\u001b[38;5;241m.\u001b[39mreal))\n\u001b[1;32m---> 42\u001b[0m total \u001b[38;5;241m+\u001b[39m\u001b[38;5;241m=\u001b[39m \u001b[43m(\u001b[49m\u001b[43mmath\u001b[49m\u001b[38;5;241;43m.\u001b[39;49m\u001b[43msin\u001b[49m\u001b[43m(\u001b[49m\u001b[43mmath\u001b[49m\u001b[38;5;241;43m.\u001b[39;49m\u001b[43mpi\u001b[49m\u001b[43m \u001b[49m\u001b[38;5;241;43m*\u001b[39;49m\u001b[43m \u001b[49m\u001b[43mproduct\u001b[49m\u001b[43m)\u001b[49m\u001b[43m)\u001b[49m\u001b[43m \u001b[49m\u001b[38;5;241;43m/\u001b[39;49m\u001b[43m \u001b[49m\u001b[43m(\u001b[49m\u001b[43mmath\u001b[49m\u001b[38;5;241;43m.\u001b[39;49m\u001b[43mpi\u001b[49m\u001b[43m \u001b[49m\u001b[38;5;241;43m*\u001b[39;49m\u001b[43m \u001b[49m\u001b[43mproduct\u001b[49m\u001b[43m)\u001b[49m\n\u001b[0;32m     43\u001b[0m \u001b[38;5;28;01mreturn\u001b[39;00m total\n",
      "\u001b[1;31mZeroDivisionError\u001b[0m: float division by zero"
     ]
    }
   ],
   "source": []
  },
  {
   "cell_type": "code",
   "execution_count": null,
   "id": "dd9da7bc",
   "metadata": {},
   "outputs": [],
   "source": []
  },
  {
   "cell_type": "code",
   "execution_count": null,
   "id": "3d101656",
   "metadata": {},
   "outputs": [],
   "source": []
  },
  {
   "cell_type": "markdown",
   "id": "60351d5c",
   "metadata": {},
   "source": [
    "<center> \n",
    "    <font size=6 color=\"blue\">\n",
    "        <b>Question 08</b>\n",
    "    </font>\n",
    "</center>"
   ]
  },
  {
   "cell_type": "markdown",
   "id": "f46b5f3b",
   "metadata": {},
   "source": [
    "<pre>\n",
    "Consider the following python code below:\n",
    "\n",
    "    x5 = 1;\n",
    "    x1 = 65335*(10); \n",
    "    x1 &= ~23**2%10; \n",
    "    x2 = x1+1;\n",
    "    x3 = (~0+1^x1|3)**9^(7&(~5))%65335;\n",
    "    x4 = round(65___________, 2);\n",
    "    x5 = (~0+1^x1|(2+1));\n",
    "    x3 |= x3 + 1 - (~0+1^x1|(2+1)-2)\n",
    "    x3%(x5**(3**2)^((4+3)&(~5))%int(x4)) == x2-1\n",
    "\n",
    "What must one put in the underscored area in order to make the expression output \"True\"? (HINT: \n",
    "Make sure to use any vaild python operation as you see fit to make the statement true)\n",
    "\n",
    "Please note that CREATIVITY IS ENCOURAGED in this question. \n",
    "\n",
    "🅐 7.17\n",
    "🅑 8.25\n",
    "🅒 10.5\n",
    "🅓 13.0\n",
    "🅔 87.1\n",
    "🅕 91.8\n",
    "</pre>"
   ]
  },
  {
   "cell_type": "markdown",
   "id": "9f43ad33",
   "metadata": {},
   "source": [
    "### SOLUTION:"
   ]
  },
  {
   "cell_type": "code",
   "execution_count": 9,
   "id": "92b8d4d4",
   "metadata": {},
   "outputs": [
    {
     "data": {
      "text/plain": [
       "True"
      ]
     },
     "execution_count": 9,
     "metadata": {},
     "output_type": "execute_result"
    }
   ],
   "source": [
    "x5 = 1;\n",
    "x1 = 65335*(10); \n",
    "x1 &= ~23**2%10; \n",
    "x2 = x1+1;\n",
    "x3 = (~0+1^x1|3)**9^(7&(~5))%65335;\n",
    "x4 = round(65|int(87.1), 2);\n",
    "x5 = (~0+1^x1|(2+1));\n",
    "x3 |= x3 + 1 - (~0+1^x1|(2+1)-2)\n",
    "x3%(x5**(3**2)^((4+3)&(~5))%int(x4)) == x2-1"
   ]
  },
  {
   "cell_type": "code",
   "execution_count": 10,
   "id": "09b025c4",
   "metadata": {},
   "outputs": [],
   "source": [
    "# D +13\n",
    "# \"+\" operator gives true for all options\n",
    "# \"and\" operator gives True for all options\n",
    "# \"&\" \"|\" operator throws error as we can't operate between int and float\n",
    "# if we introduce the type casting operator int(), the it gives True"
   ]
  },
  {
   "cell_type": "code",
   "execution_count": null,
   "id": "0147b798",
   "metadata": {},
   "outputs": [],
   "source": []
  },
  {
   "cell_type": "code",
   "execution_count": null,
   "id": "343053c2",
   "metadata": {},
   "outputs": [],
   "source": []
  },
  {
   "cell_type": "code",
   "execution_count": null,
   "id": "0cde9b08",
   "metadata": {},
   "outputs": [],
   "source": []
  },
  {
   "cell_type": "markdown",
   "id": "3bc500e9",
   "metadata": {},
   "source": [
    "<center> \n",
    "    <font size=6 color=\"blue\">\n",
    "        <b>Question 09</b>\n",
    "    </font>\n",
    "</center>"
   ]
  },
  {
   "cell_type": "markdown",
   "id": "8fb7eec9",
   "metadata": {},
   "source": [
    "<pre>\n",
    "Consider the following function:\n",
    "\n",
    "def random_list():\n",
    "    \"\"\"\n",
    "    This function will generate a list of 7 random numbers \n",
    "    \"\"\"\n",
    "    import random\n",
    "    def populate():\n",
    "        for _ in range(9):\n",
    "            yield random.randint(1, 100)\n",
    "        yield random.randint(1, 100)\n",
    "\n",
    "    def get_random(randoms):\n",
    "        for random_number in randoms():\n",
    "            yield random.randint(random_number, random_number*random_number) \n",
    "            \n",
    "    return [random for random in get_random(populate)]\n",
    "\n",
    "def main():\n",
    "    \"\"\"\n",
    "    This main function will serve as the driver for this program\n",
    "    \"\"\"\n",
    "    print(random_list())\n",
    "\n",
    "if __name__==\"__main__\":\n",
    "    main()\n",
    "\n",
    "Modify the random_list() function to generate a list of 7 random numbers without using any generator functions or \n",
    "list comprehensions. \n",
    "\n",
    "PLEASE NOTE: this question will be GRADED MANUALLY for correctness, documentation, type hinting, and for the scalable \n",
    "implementation of the algorithm. Copy and paste your complete (executable) solution - which will include the function implementation and a driver function - as the answer.\n",
    "</pre>"
   ]
  },
  {
   "cell_type": "markdown",
   "id": "f0975c4a",
   "metadata": {},
   "source": [
    "### SOLUTION: "
   ]
  },
  {
   "cell_type": "code",
   "execution_count": 137,
   "id": "0686a68e",
   "metadata": {},
   "outputs": [
    {
     "name": "stdout",
     "output_type": "stream",
     "text": [
      "[-1, -42, -34, -82, 7, 59, -78]\n"
     ]
    }
   ],
   "source": [
    "import random\n",
    "def random_list(numbers : int) -> list:\n",
    "    \"\"\"\n",
    "    This function will generate a list of 7 random numbers without using generators or list comprehensions\n",
    "    \n",
    "    Arguments:\n",
    "    ---------\n",
    "        numbers : number of numbers inside the list\n",
    "    \"\"\"\n",
    "    \n",
    "    def populate():\n",
    "        \n",
    "        \"\"\"\n",
    "        Returns a random integet between 1 and 100\n",
    "        \"\"\"\n",
    "        return random.randint(1, 100)\n",
    "    \n",
    "    result = []\n",
    "    \n",
    "    def get_random():\n",
    "        for num in range(numbers):\n",
    "            inter = populate()\n",
    "            result.append(inter - random.randint(1, 100))\n",
    "        return result\n",
    "    return get_random()\n",
    "\n",
    "\n",
    "def run():\n",
    "    random_numbers = random_list(numbers = 7)\n",
    "    print(random_numbers)\n",
    "\n",
    "if __name__ == \"__main__\":\n",
    "    run()"
   ]
  },
  {
   "cell_type": "code",
   "execution_count": null,
   "id": "3fe0c051",
   "metadata": {},
   "outputs": [],
   "source": []
  },
  {
   "cell_type": "code",
   "execution_count": null,
   "id": "33afcef6",
   "metadata": {},
   "outputs": [],
   "source": []
  },
  {
   "cell_type": "code",
   "execution_count": null,
   "id": "e1c96f71",
   "metadata": {},
   "outputs": [],
   "source": []
  },
  {
   "cell_type": "code",
   "execution_count": null,
   "id": "1dacfe05",
   "metadata": {},
   "outputs": [],
   "source": []
  },
  {
   "cell_type": "markdown",
   "id": "bf7a0fd3",
   "metadata": {},
   "source": [
    "<center> \n",
    "    <font size=6 color=\"blue\">\n",
    "        <b>Question 10</b>\n",
    "    </font>\n",
    "</center>"
   ]
  },
  {
   "cell_type": "markdown",
   "id": "1312bc28",
   "metadata": {},
   "source": [
    "<pre>\n",
    "What are the available variable scopes in the python programming language?\n",
    "\n",
    "🅐 Local, Global, Package, Private\n",
    "🅑 Global, Enclosing, Protected, Shaded\n",
    "🅒 Built-in, Private, Global\n",
    "🅓 Package, Global, Private, Protected\n",
    "🅔 Enclosing, Global, Built-in, Local\n",
    "🅕 Local, Protected, Enclosing, Covering\n",
    "</pre>"
   ]
  },
  {
   "cell_type": "markdown",
   "id": "7352423c",
   "metadata": {},
   "source": [
    "### SOLUTION: "
   ]
  },
  {
   "cell_type": "code",
   "execution_count": null,
   "id": "b3c78405",
   "metadata": {},
   "outputs": [],
   "source": [
    "# E"
   ]
  },
  {
   "cell_type": "code",
   "execution_count": null,
   "id": "91a75401",
   "metadata": {},
   "outputs": [],
   "source": []
  },
  {
   "cell_type": "code",
   "execution_count": null,
   "id": "226d0ffd",
   "metadata": {},
   "outputs": [],
   "source": []
  },
  {
   "cell_type": "code",
   "execution_count": null,
   "id": "cf489e3b",
   "metadata": {},
   "outputs": [],
   "source": []
  },
  {
   "cell_type": "code",
   "execution_count": null,
   "id": "faf233d0",
   "metadata": {},
   "outputs": [],
   "source": []
  },
  {
   "cell_type": "markdown",
   "id": "12e6dbde",
   "metadata": {},
   "source": [
    "<center> \n",
    "    <font size=6 color=\"blue\">\n",
    "        <b>Question 11</b>\n",
    "    </font>\n",
    "</center>"
   ]
  },
  {
   "cell_type": "markdown",
   "id": "2db97bed",
   "metadata": {},
   "source": [
    "<pre>\n",
    "<b>Consider the following class diagram:\n",
    "\n",
    "  _____________________________________             _____________________________________\n",
    " |                                     |           |                                     |\n",
    " |               Employee              |           |                 Staff               |\n",
    " |_____________________________________|           |_____________________________________|\n",
    " |                                     |           |                                     |\n",
    " |  # emp_id           : Integer       |           |  - salary             : Float       |\n",
    " |  - ssn              : String        |           |  - bonus_id           : Integer     |\n",
    " |  # first_name       : String        |           |  - benefits_id        : Integer     |\n",
    " |  # last_name        : String        |           |  - manager            : String      | \n",
    " |  - date_of_birth    : String        |           |  - start_date         : String      | \n",
    " |  # address          : String        |      ____ |  - education          : Dictionary  | \n",
    " |  # department_id    : Integer       |     |     |  - past_projects      : Dictionary  | \n",
    " |  # department_name  : String        |     |     |  - trainings_received : Dictionary  | \n",
    " |  # occupation       : String        | /|__|     |_____________________________________| \n",
    " |_____________________________________| \\|        |                                     |\n",
    " |                                     |           |  + request_mentor()                 |\n",
    " |  - new_record()                     |           |  + request_pto()                    |\n",
    " |  - update_record()                  |           |  + calculate_years_of_service()     |\n",
    " |  - delete_record()                  |           |_____________________________________|\n",
    " |  - set_salary()                     |\n",
    " |  - pay_salary()                     | \n",
    " |  - add_bonus()                      | \n",
    " |  # set_work_schedule()              |\n",
    " |  - set_pto()                        |\n",
    " |_____________________________________|\n",
    "            .             .\n",
    "           /_\\           /_\\\n",
    "            |             |\n",
    "            |             |\n",
    "            |_____        |__________________________________________\n",
    "                  |                                                  |\n",
    "                  |                                                  |\n",
    "                  |                                                  |\n",
    " _____________________________________              _____________________________________\n",
    "|                                     |            |                                     |\n",
    "|              Contractor             |            |                Intern               |\n",
    "|_____________________________________|            |_____________________________________|\n",
    "|                                     |            |                                     |\n",
    "|  - contractor_id       : Integer    |            |  - college_id       : Integer       |\n",
    "|  - contractor_name     : String     |            |  - college_name     : String        |\n",
    "|  - liaison_name        : String     |            |  - majors           : List          |\n",
    "|  - liaison_designation : String     |            |  - manager          : String        |\n",
    "|  - project_id          : String     |            |  - project_id       : String        |\n",
    "|  - hourly_rate         : Float      |            |  - hourly_rate      : Float         |\n",
    "|  - past_projects       : Dictionary |            |_____________________________________|\n",
    "|_____________________________________|            |                                     |\n",
    "|                                     |            |  + request_meeting()                |\n",
    "|  + set_project_team()               |            |  + submit_weekly_report()           |\n",
    "|  + review_project_team()            |            |  + request_leave_of_absence()       |\n",
    "|  + set_meeting_availability()       |            |  + submit_college_class_schedule()  |\n",
    "|_____________________________________|            |  + submit_training_report()         |\n",
    "                                                   |_____________________________________|\n",
    "</b>\n",
    "\n",
    "Which statements are true based only on the above class diagram? (Select all that apply)\n",
    "\n",
    "🅐 Any contractor can decide when they would like to have their meetings with anyone in the company and when they want \n",
    "   to pay their employees\n",
    "🅑 An intern can set their own work schedule and let any of the staff members know about the work they have done for \n",
    "   the week\n",
    "🅒 A staff member can ask to be a mentor for an intern, if and only if an intern request them to be one \n",
    "🅓 Any employee of this company may lookup another employee by their employee ID and occupation when requesting a \n",
    "   meeting.\n",
    "🅔 A contractor can outsource their work to a third party and that thrid party would still need to be in the \n",
    "   company's system\n",
    "</pre>"
   ]
  },
  {
   "cell_type": "markdown",
   "id": "bfe25d76",
   "metadata": {},
   "source": [
    "### SOLUTION: "
   ]
  },
  {
   "cell_type": "code",
   "execution_count": 133,
   "id": "a9b0f30f",
   "metadata": {},
   "outputs": [],
   "source": [
    "# b c d"
   ]
  },
  {
   "cell_type": "code",
   "execution_count": null,
   "id": "03501e97",
   "metadata": {},
   "outputs": [],
   "source": []
  },
  {
   "cell_type": "code",
   "execution_count": null,
   "id": "72f093f8",
   "metadata": {},
   "outputs": [],
   "source": []
  },
  {
   "cell_type": "code",
   "execution_count": null,
   "id": "1bc3331e",
   "metadata": {},
   "outputs": [],
   "source": []
  },
  {
   "cell_type": "code",
   "execution_count": null,
   "id": "9861130e",
   "metadata": {},
   "outputs": [],
   "source": []
  },
  {
   "cell_type": "markdown",
   "id": "c29cbe69",
   "metadata": {},
   "source": [
    "<center> \n",
    "    <font size=6 color=\"blue\">\n",
    "        <b>Question 12</b>\n",
    "    </font>\n",
    "</center>"
   ]
  },
  {
   "cell_type": "markdown",
   "id": "e15e7a5b",
   "metadata": {},
   "source": [
    "<pre>\n",
    "Which ones are the PROPER (satisfies the PEP8 standard, not illigal, and based on the class notes and discussions) python 3 variable names? (This is not just about what will run properly, but also good coding practice as explained in class. Select all that apply)\n",
    "\n",
    "🅐 mike_mickason\n",
    "🅑 J_wheel_show\n",
    "🅒 rit_students_set\n",
    "🅓 every_human\n",
    "🅔 south_american_forces\n",
    "🅕 _set_complex_list_dict\n",
    "🅖 water_Plants\n",
    "🅗 all_the_people\n",
    "🅘 bobs_students\n",
    "</pre>"
   ]
  },
  {
   "cell_type": "markdown",
   "id": "383a5ecd",
   "metadata": {},
   "source": [
    "### SOLUTION: "
   ]
  },
  {
   "cell_type": "code",
   "execution_count": null,
   "id": "1b9c5ac6",
   "metadata": {},
   "outputs": [],
   "source": [
    "# C rit_students_set\n",
    "# E south_american_forces\n",
    "# I bobs_student"
   ]
  },
  {
   "cell_type": "code",
   "execution_count": null,
   "id": "31e4a804",
   "metadata": {},
   "outputs": [],
   "source": []
  },
  {
   "cell_type": "code",
   "execution_count": null,
   "id": "1ddc5bb6",
   "metadata": {},
   "outputs": [],
   "source": []
  },
  {
   "cell_type": "code",
   "execution_count": null,
   "id": "277ae8d8",
   "metadata": {},
   "outputs": [],
   "source": []
  },
  {
   "cell_type": "code",
   "execution_count": null,
   "id": "0f35d6b4",
   "metadata": {},
   "outputs": [],
   "source": []
  }
 ],
 "metadata": {
  "kernelspec": {
   "display_name": "Python 3 (ipykernel)",
   "language": "python",
   "name": "python3"
  },
  "language_info": {
   "codemirror_mode": {
    "name": "ipython",
    "version": 3
   },
   "file_extension": ".py",
   "mimetype": "text/x-python",
   "name": "python",
   "nbconvert_exporter": "python",
   "pygments_lexer": "ipython3",
   "version": "3.9.12"
  }
 },
 "nbformat": 4,
 "nbformat_minor": 5
}
