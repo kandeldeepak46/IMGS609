{
 "cells": [
  {
   "cell_type": "markdown",
   "id": "3ecfbd0c",
   "metadata": {},
   "source": [
    "<center> \n",
    "    <font size=6 color=\"blue\">\n",
    "        <b>QUIZ 01 - Work Notebook</b>\n",
    "    </font>\n",
    "</center>"
   ]
  },
  {
   "cell_type": "markdown",
   "id": "5a960f42",
   "metadata": {},
   "source": [
    "<pre>\n",
    "\n",
    "INSTRUCTIONS:\n",
    "\n",
    "You might NOT have the time to work out the problems while doing the actual quiz as the online quiz must be submitted in one sitting (system does not allow one to save and come back to it). \n",
    "\n",
    "Therefore, before starting the quiz, make sure to do all the problems in the notebook and verify that they are correct. \n",
    "\n",
    "Once you are satisfied of your answers, you may start the quiz, and when the quiz begins you can answer the appropriate question by just filling in the answers from your work here in the notebook. \n",
    "\n",
    "You can download the quiz work notebook under the CONTENT ---> QUIZ NOTEBOOKS section of myCourses. \n",
    "\n",
    "</pre>"
   ]
  },
  {
   "cell_type": "markdown",
   "id": "b92724c7",
   "metadata": {},
   "source": [
    "<center> \n",
    "    <font size=6 color=\"blue\">\n",
    "        <b>Question 01</b>\n",
    "    </font>\n",
    "</center>"
   ]
  },
  {
   "cell_type": "markdown",
   "id": "34bbad23",
   "metadata": {},
   "source": [
    "<pre>\n",
    "Consider the following python code below. What should you ADD to the underscored area in order to make the expression output \"True\"?\n",
    "\n",
    "x=1; x+=~23; (0|1+x&3)**3^2==x+2-(~22)+x&2____\n",
    "\n",
    "⚫ 19\n",
    "⚫ 3\n",
    "⚫ 61\n",
    "⚫ 8\n",
    "⚫ 15\n",
    "</pre>"
   ]
  },
  {
   "cell_type": "markdown",
   "id": "bef7dfde",
   "metadata": {},
   "source": [
    "#### SOLUTION: "
   ]
  },
  {
   "cell_type": "code",
   "execution_count": null,
   "id": "f6bb5d17",
   "metadata": {},
   "outputs": [],
   "source": []
  },
  {
   "cell_type": "code",
   "execution_count": 21,
   "id": "ffc1e760",
   "metadata": {},
   "outputs": [
    {
     "data": {
      "text/plain": [
       "True"
      ]
     },
     "execution_count": 21,
     "metadata": {},
     "output_type": "execute_result"
    }
   ],
   "source": [
    "x=1; x+=~23;\n",
    "\n",
    "(0|1+x&3)**3^2==x+2-(~22)+x&2+8"
   ]
  },
  {
   "cell_type": "code",
   "execution_count": 49,
   "id": "af6f087a",
   "metadata": {},
   "outputs": [
    {
     "data": {
      "text/plain": [
       "8"
      ]
     },
     "execution_count": 49,
     "metadata": {},
     "output_type": "execute_result"
    }
   ],
   "source": []
  },
  {
   "cell_type": "code",
   "execution_count": null,
   "id": "cccff665",
   "metadata": {},
   "outputs": [],
   "source": []
  },
  {
   "cell_type": "code",
   "execution_count": null,
   "id": "62f6f627",
   "metadata": {},
   "outputs": [],
   "source": []
  },
  {
   "cell_type": "markdown",
   "id": "6294c7fe",
   "metadata": {},
   "source": [
    "<center> \n",
    "    <font size=6 color=\"blue\">\n",
    "        <b>Question 02</b>\n",
    "    </font>\n",
    "</center>"
   ]
  },
  {
   "cell_type": "markdown",
   "id": "8787e2ac",
   "metadata": {},
   "source": [
    "<pre>\n",
    "What is a correct syntax to output \"IMGS609\" in core Python 3? (Select all that apply)\n",
    "\n",
    "⚫ fprint(\"IMGS609\")\n",
    "⚫ print(\"IMGS609\")\n",
    "⚫ print \"IMGS609\"\n",
    "⚫ echo \"IMGS609\"\n",
    "⚫ print('IMGS609')\n",
    "</pre>"
   ]
  },
  {
   "cell_type": "markdown",
   "id": "cb7094e0",
   "metadata": {},
   "source": [
    "#### SOLUTION(S):"
   ]
  },
  {
   "cell_type": "code",
   "execution_count": 34,
   "id": "c1d7ea53",
   "metadata": {},
   "outputs": [
    {
     "name": "stdout",
     "output_type": "stream",
     "text": [
      "IMGS609\n",
      "IMGS609\n"
     ]
    }
   ],
   "source": [
    "print(\"IMGS609\")\n",
    "print('IMGS609')"
   ]
  },
  {
   "cell_type": "code",
   "execution_count": null,
   "id": "246a071c",
   "metadata": {},
   "outputs": [],
   "source": []
  },
  {
   "cell_type": "code",
   "execution_count": null,
   "id": "61fbef72",
   "metadata": {},
   "outputs": [],
   "source": []
  },
  {
   "cell_type": "code",
   "execution_count": null,
   "id": "a7248e43",
   "metadata": {},
   "outputs": [],
   "source": []
  },
  {
   "cell_type": "code",
   "execution_count": null,
   "id": "81e2ed2f",
   "metadata": {},
   "outputs": [],
   "source": []
  },
  {
   "cell_type": "markdown",
   "id": "e55d39dc",
   "metadata": {},
   "source": [
    "<center> \n",
    "    <font size=6 color=\"blue\">\n",
    "        <b>Question 03</b>\n",
    "    </font>\n",
    "</center>"
   ]
  },
  {
   "cell_type": "markdown",
   "id": "2d103d03",
   "metadata": {},
   "source": [
    "<pre>\n",
    "How do you insert comments in Python 3 code? (Select all that apply)\n",
    "\n",
    "⚫ \"\" Python comment \"\"\n",
    "⚫ // Python comment\n",
    "⚫ /* Python comment */\n",
    "⚫ # Python comment\n",
    "⚫ ~ Python comment\n",
    "⚫ \"\"\" Python comment \"\"\"\n",
    "⚫ %% Python comment\n",
    "</pre>"
   ]
  },
  {
   "cell_type": "markdown",
   "id": "fec3adcf",
   "metadata": {
    "tags": []
   },
   "source": [
    "#### SOLUTION(S):"
   ]
  },
  {
   "cell_type": "code",
   "execution_count": 36,
   "id": "10cc667e",
   "metadata": {},
   "outputs": [
    {
     "data": {
      "text/plain": [
       "'Python Comment'"
      ]
     },
     "execution_count": 36,
     "metadata": {},
     "output_type": "execute_result"
    }
   ],
   "source": [
    "# Pyhon comment\n",
    "\"\"\"Python Comment\"\"\""
   ]
  },
  {
   "cell_type": "code",
   "execution_count": null,
   "id": "34024a63",
   "metadata": {},
   "outputs": [],
   "source": []
  },
  {
   "cell_type": "code",
   "execution_count": null,
   "id": "da2a7d41",
   "metadata": {},
   "outputs": [],
   "source": []
  },
  {
   "cell_type": "code",
   "execution_count": null,
   "id": "0f5e2a37",
   "metadata": {},
   "outputs": [],
   "source": []
  },
  {
   "cell_type": "code",
   "execution_count": null,
   "id": "65dcb6dd",
   "metadata": {},
   "outputs": [],
   "source": []
  },
  {
   "cell_type": "markdown",
   "id": "e13eb981",
   "metadata": {},
   "source": [
    "<center> \n",
    "    <font size=6 color=\"blue\">\n",
    "        <b>Question 04</b>\n",
    "    </font>\n",
    "</center>"
   ]
  },
  {
   "cell_type": "markdown",
   "id": "af70a967",
   "metadata": {},
   "source": [
    "<pre>\n",
    "Consider the output below. How many loops does one need to produce the following outout?\n",
    "\n",
    "1\t \n",
    "5\t1\t \n",
    "5\t1\t5\t \n",
    "1\t5\t1\t5\t \n",
    "1\t5\t1\t5\t1\t \n",
    "5\t1\t5\t1\t5\t1\t \n",
    "5\t1\t5\t1\t5\t1\t5\t \n",
    " \n",
    "⚫ 2\n",
    "⚫ 5\n",
    "⚫ 4\n",
    "⚫ 3\n",
    "⚫ None\n",
    "</pre>"
   ]
  },
  {
   "cell_type": "markdown",
   "id": "fac0b9ff",
   "metadata": {},
   "source": [
    "#### SOLUTION: "
   ]
  },
  {
   "cell_type": "code",
   "execution_count": 1,
   "id": "1c1384d6",
   "metadata": {},
   "outputs": [
    {
     "name": "stdout",
     "output_type": "stream",
     "text": [
      "1\t \n",
      "5\t1\t \n",
      "5\t1\t5\t \n",
      "1\t5\t1\t5\t \n",
      "1\t5\t1\t5\t1\t \n",
      "5\t1\t5\t1\t5\t1\t \n",
      "5\t1\t5\t1\t5\t1\t5\t \n"
     ]
    }
   ],
   "source": [
    "k = 1\n",
    "for i in range(0, 7):\n",
    "    for j in range(0, i+1):\n",
    "        print(k, end=\"\\t\")\n",
    "        k = k ^ -1  + 5\n",
    "    print(\" \")\n",
    "\n",
    "# Needed only two loops"
   ]
  },
  {
   "cell_type": "code",
   "execution_count": null,
   "id": "3527e5ca",
   "metadata": {},
   "outputs": [],
   "source": []
  },
  {
   "cell_type": "code",
   "execution_count": null,
   "id": "b9c08098",
   "metadata": {},
   "outputs": [],
   "source": []
  },
  {
   "cell_type": "code",
   "execution_count": null,
   "id": "ddf172a4",
   "metadata": {},
   "outputs": [],
   "source": []
  },
  {
   "cell_type": "code",
   "execution_count": null,
   "id": "3d6de5df",
   "metadata": {},
   "outputs": [],
   "source": []
  },
  {
   "cell_type": "markdown",
   "id": "51f5290d",
   "metadata": {},
   "source": [
    "<center> \n",
    "    <font size=6 color=\"blue\">\n",
    "        <b>Question 05</b>\n",
    "    </font>\n",
    "</center>"
   ]
  },
  {
   "cell_type": "markdown",
   "id": "4d2ad117",
   "metadata": {},
   "source": [
    "<pre>\n",
    "Consider the following code block with line numbers:\n",
    "\n",
    "1      k = 2\n",
    "2      for i in range(0, 7):\n",
    "3          for j in range(0, i+1):\n",
    "4              print(k, end=\"\\t\")\n",
    "5              k = k^1 + 4\n",
    "6          print(\" \")\n",
    "\n",
    "What combination of values and operations must one use to modify line 5 to achieve the following output?\n",
    "\n",
    "2\t \n",
    "0\t2\t \n",
    "0\t2\t0\t \n",
    "2\t0\t2\t0\t \n",
    "2\t0\t2\t0\t2\t \n",
    "0\t2\t0\t2\t0\t2\t \n",
    "0\t2\t0\t2\t0\t2\t0\t\n",
    "\n",
    "Example: If a given choice states: -, +, 2, 7. One could choose between the following choices for line 5:\n",
    "\n",
    "k = k+7 - 2\n",
    "k = k-7 + 2\n",
    "k = k+2 - 7\n",
    "k = k-2 + 7\n",
    "\n",
    "⚫ ^ , -, 3 , 4 \n",
    "\n",
    "⚫ + , **, 2 , 1\n",
    "\n",
    "⚫ - , |, 1 , 1\n",
    "\n",
    "⚫ * , ^, 2 , 1\n",
    "\n",
    "⚫ ** , &, 6 , 5\n",
    "</pre>"
   ]
  },
  {
   "cell_type": "markdown",
   "id": "f757b945",
   "metadata": {},
   "source": [
    "#### SOLUTION:"
   ]
  },
  {
   "cell_type": "code",
   "execution_count": 28,
   "id": "75926dd7",
   "metadata": {},
   "outputs": [
    {
     "name": "stdout",
     "output_type": "stream",
     "text": [
      "2\t \n",
      "0\t2\t \n",
      "0\t2\t0\t \n",
      "2\t0\t2\t0\t \n",
      "2\t0\t2\t0\t2\t \n",
      "0\t2\t0\t2\t0\t2\t \n",
      "0\t2\t0\t2\t0\t2\t0\t \n"
     ]
    }
   ],
   "source": [
    "k = 2\n",
    "for i in range(0, 7):\n",
    "    for j in range(0, i+1):\n",
    "        print(k, end=\"\\t\")\n",
    "        k = k ^ 2  * 1\n",
    "    print(\" \")\n",
    "    \n",
    "# k = k ^2 * 1"
   ]
  },
  {
   "cell_type": "code",
   "execution_count": null,
   "id": "0a49523d",
   "metadata": {},
   "outputs": [],
   "source": []
  },
  {
   "cell_type": "code",
   "execution_count": null,
   "id": "d80a082e",
   "metadata": {},
   "outputs": [],
   "source": []
  },
  {
   "cell_type": "code",
   "execution_count": null,
   "id": "cf5c2d1e",
   "metadata": {},
   "outputs": [],
   "source": []
  },
  {
   "cell_type": "code",
   "execution_count": null,
   "id": "85ae1149",
   "metadata": {},
   "outputs": [],
   "source": []
  },
  {
   "cell_type": "markdown",
   "id": "c465ce07",
   "metadata": {},
   "source": [
    "<center> \n",
    "    <font size=6 color=\"blue\">\n",
    "        <b>Question 06</b>\n",
    "    </font>\n",
    "</center>"
   ]
  },
  {
   "cell_type": "markdown",
   "id": "cd62f65b",
   "metadata": {},
   "source": [
    "<pre>\n",
    "Consider the following output:\n",
    "\n",
    "[0]\n",
    "[0, 1]\n",
    "[0, 1, 2]\n",
    "[0, 1, 2, 2]\n",
    "[0, 1, 2, 2, 3]\n",
    "[0, 1, 2, 2, 3, 4]\n",
    "[0, 1, 2, 2, 3, 4, 3]\n",
    "[0, 1, 2, 2, 3, 4, 3, 4]\n",
    "[0, 1, 2, 2, 3, 4, 3, 4, 5]\n",
    "[0, 1, 2, 2, 3, 4, 3, 4, 5, 6]\n",
    "[0, 1, 2, 2, 3, 4, 3, 4, 5, 6, 4]\n",
    "[0, 1, 2, 2, 3, 4, 3, 4, 5, 6, 4, 5]\n",
    "[0, 1, 2, 2, 3, 4, 3, 4, 5, 6, 4, 5, 6]\n",
    "[0, 1, 2, 2, 3, 4, 3, 4, 5, 6, 4, 5, 6, 7]\n",
    "[0, 1, 2, 2, 3, 4, 3, 4, 5, 6, 4, 5, 6, 7, 8]\n",
    "[0, 1, 2, 2, 3, 4, 3, 4, 5, 6, 4, 5, 6, 7, 8, 5]\n",
    "[0, 1, 2, 2, 3, 4, 3, 4, 5, 6, 4, 5, 6, 7, 8, 5, 6]\n",
    "[0, 1, 2, 2, 3, 4, 3, 4, 5, 6, 4, 5, 6, 7, 8, 5, 6, 7]\n",
    "[0, 1, 2, 2, 3, 4, 3, 4, 5, 6, 4, 5, 6, 7, 8, 5, 6, 7, 8]\n",
    "[0, 1, 2, 2, 3, 4, 3, 4, 5, 6, 4, 5, 6, 7, 8, 5, 6, 7, 8, 9]\n",
    "[0, 1, 2, 2, 3, 4, 3, 4, 5, 6, 4, 5, 6, 7, 8, 5, 6, 7, 8, 9, 10]\n",
    "[0, 1, 2, 2, 3, 4, 3, 4, 5, 6, 4, 5, 6, 7, 8, 5, 6, 7, 8, 9, 10, 6]\n",
    "[0, 1, 2, 2, 3, 4, 3, 4, 5, 6, 4, 5, 6, 7, 8, 5, 6, 7, 8, 9, 10, 6, 7]\n",
    "[0, 1, 2, 2, 3, 4, 3, 4, 5, 6, 4, 5, 6, 7, 8, 5, 6, 7, 8, 9, 10, 6, 7, 8]\n",
    "[0, 1, 2, 2, 3, 4, 3, 4, 5, 6, 4, 5, 6, 7, 8, 5, 6, 7, 8, 9, 10, 6, 7, 8, 9]\n",
    "[0, 1, 2, 2, 3, 4, 3, 4, 5, 6, 4, 5, 6, 7, 8, 5, 6, 7, 8, 9, 10, 6, 7, 8, 9, 10]\n",
    "[0, 1, 2, 2, 3, 4, 3, 4, 5, 6, 4, 5, 6, 7, 8, 5, 6, 7, 8, 9, 10, 6, 7, 8, 9, 10, 11]\n",
    "[0, 1, 2, 2, 3, 4, 3, 4, 5, 6, 4, 5, 6, 7, 8, 5, 6, 7, 8, 9, 10, 6, 7, 8, 9, 10, 11, 12]\n",
    "\n",
    "How many iterations in total must the code execute to produce the result above?\n",
    "\n",
    "⚫ 29\n",
    "⚫ 21\n",
    "⚫ 7\n",
    "⚫ 28\n",
    "⚫ 32\n",
    "</pre>"
   ]
  },
  {
   "cell_type": "markdown",
   "id": "ee162277",
   "metadata": {},
   "source": [
    "#### SOLUTION: "
   ]
  },
  {
   "cell_type": "code",
   "execution_count": 211,
   "id": "9a52747d",
   "metadata": {},
   "outputs": [],
   "source": []
  },
  {
   "cell_type": "code",
   "execution_count": 11,
   "id": "ce2ec858",
   "metadata": {},
   "outputs": [
    {
     "name": "stdout",
     "output_type": "stream",
     "text": [
      "[0]\n",
      "[0, 1]\n",
      "[0, 1, 2]\n",
      "[0, 1, 2, 2]\n",
      "[0, 1, 2, 2, 3]\n",
      "[0, 1, 2, 2, 3, 4]\n",
      "[0, 1, 2, 2, 3, 4, 3]\n",
      "[0, 1, 2, 2, 3, 4, 3, 4]\n",
      "[0, 1, 2, 2, 3, 4, 3, 4, 5]\n",
      "[0, 1, 2, 2, 3, 4, 3, 4, 5, 6]\n",
      "[0, 1, 2, 2, 3, 4, 3, 4, 5, 6, 4]\n",
      "[0, 1, 2, 2, 3, 4, 3, 4, 5, 6, 4, 5]\n",
      "[0, 1, 2, 2, 3, 4, 3, 4, 5, 6, 4, 5, 6]\n",
      "[0, 1, 2, 2, 3, 4, 3, 4, 5, 6, 4, 5, 6, 7]\n",
      "[0, 1, 2, 2, 3, 4, 3, 4, 5, 6, 4, 5, 6, 7, 8]\n",
      "[0, 1, 2, 2, 3, 4, 3, 4, 5, 6, 4, 5, 6, 7, 8, 5]\n",
      "[0, 1, 2, 2, 3, 4, 3, 4, 5, 6, 4, 5, 6, 7, 8, 5, 6]\n",
      "[0, 1, 2, 2, 3, 4, 3, 4, 5, 6, 4, 5, 6, 7, 8, 5, 6, 7]\n",
      "[0, 1, 2, 2, 3, 4, 3, 4, 5, 6, 4, 5, 6, 7, 8, 5, 6, 7, 8]\n",
      "[0, 1, 2, 2, 3, 4, 3, 4, 5, 6, 4, 5, 6, 7, 8, 5, 6, 7, 8, 9]\n",
      "[0, 1, 2, 2, 3, 4, 3, 4, 5, 6, 4, 5, 6, 7, 8, 5, 6, 7, 8, 9, 10]\n",
      "[0, 1, 2, 2, 3, 4, 3, 4, 5, 6, 4, 5, 6, 7, 8, 5, 6, 7, 8, 9, 10, 6]\n",
      "[0, 1, 2, 2, 3, 4, 3, 4, 5, 6, 4, 5, 6, 7, 8, 5, 6, 7, 8, 9, 10, 6, 7]\n",
      "[0, 1, 2, 2, 3, 4, 3, 4, 5, 6, 4, 5, 6, 7, 8, 5, 6, 7, 8, 9, 10, 6, 7, 8]\n",
      "[0, 1, 2, 2, 3, 4, 3, 4, 5, 6, 4, 5, 6, 7, 8, 5, 6, 7, 8, 9, 10, 6, 7, 8, 9]\n",
      "[0, 1, 2, 2, 3, 4, 3, 4, 5, 6, 4, 5, 6, 7, 8, 5, 6, 7, 8, 9, 10, 6, 7, 8, 9, 10]\n",
      "[0, 1, 2, 2, 3, 4, 3, 4, 5, 6, 4, 5, 6, 7, 8, 5, 6, 7, 8, 9, 10, 6, 7, 8, 9, 10, 11]\n",
      "[0, 1, 2, 2, 3, 4, 3, 4, 5, 6, 4, 5, 6, 7, 8, 5, 6, 7, 8, 9, 10, 6, 7, 8, 9, 10, 11, 12]\n"
     ]
    }
   ],
   "source": [
    "my_list = [0, 1, 2, 2, 3, 4, 3, 4, 5, 6, 4, 5, 6, 7, 8, 5, 6, 7, 8, 9, 10, 6, 7, 8, 9, 10, 11, 12, 13]\n",
    "\n",
    "for i in range(1, len(my_list)):\n",
    "    print(my_list[:i])          # slicing the whole whole list by respecive index\n",
    "\n",
    "# Number of iterations = 28"
   ]
  },
  {
   "cell_type": "code",
   "execution_count": null,
   "id": "f31f924f",
   "metadata": {},
   "outputs": [],
   "source": []
  },
  {
   "cell_type": "code",
   "execution_count": null,
   "id": "aff5fede",
   "metadata": {},
   "outputs": [],
   "source": []
  },
  {
   "cell_type": "code",
   "execution_count": null,
   "id": "a029fd23",
   "metadata": {},
   "outputs": [],
   "source": []
  },
  {
   "cell_type": "markdown",
   "id": "ae73b049",
   "metadata": {},
   "source": [
    "<center> \n",
    "    <font size=6 color=\"blue\">\n",
    "        <b>Question 07</b>\n",
    "    </font>\n",
    "</center>"
   ]
  },
  {
   "cell_type": "markdown",
   "id": "fdf94e20",
   "metadata": {},
   "source": [
    "<pre>\n",
    "Consider the following output that was produced using an iterative algorithm. Write an algorithmic solution (not just print statements) to produce the output below. \n",
    "\n",
    "* \n",
    "* * \n",
    "* * * \n",
    "* * * * \n",
    "* * * * * \n",
    "* * * * * * \n",
    "* * * * * * * \n",
    "* * * * * * * * \n",
    "* * * * * * * * * \n",
    "* * * * * * * * * * \n",
    "~ ~ ~ ~ ~ ~ ~ ~ ~ \n",
    "~ ~ ~ ~ ~ ~ ~ ~ \n",
    "~ ~ ~ ~ ~ ~ ~ \n",
    "~ ~ ~ ~ ~ ~ \n",
    "~ ~ ~ ~ ~ \n",
    "~ ~ ~ ~ \n",
    "~ ~ ~ \n",
    "~ ~ \n",
    "~ \n",
    "\n",
    "How many \"for loops\" one must use to produce this output?\n",
    "\n",
    "⚫ 2\n",
    "⚫ 6\n",
    "⚫ 3\n",
    "⚫ 5\n",
    "⚫ 4\n",
    "</pre>"
   ]
  },
  {
   "cell_type": "markdown",
   "id": "c04673e3",
   "metadata": {
    "tags": []
   },
   "source": [
    "#### SOLUTION: "
   ]
  },
  {
   "cell_type": "code",
   "execution_count": 10,
   "id": "1cc60a4e",
   "metadata": {},
   "outputs": [
    {
     "name": "stdout",
     "output_type": "stream",
     "text": [
      "\n",
      "* \n",
      "* * \n",
      "* * * \n",
      "* * * * \n",
      "* * * * * \n",
      "* * * * * * \n",
      "* * * * * * * \n",
      "* * * * * * * * \n",
      "* * * * * * * * * \n",
      "* * * * * * * * * * \n",
      "~ ~ ~ ~ ~ ~ ~ ~ ~ \n",
      "~ ~ ~ ~ ~ ~ ~ ~ \n",
      "~ ~ ~ ~ ~ ~ ~ \n",
      "~ ~ ~ ~ ~ ~ \n",
      "~ ~ ~ ~ ~ \n",
      "~ ~ ~ ~ \n",
      "~ ~ ~ \n",
      "~ ~ \n",
      "~ \n"
     ]
    }
   ],
   "source": [
    "for i in range(0,11):\n",
    "    for j in range(i):\n",
    "        print(\"*\", end=\" \")\n",
    "    print()\n",
    "\n",
    "for i in range(9, 0, -1):\n",
    "    for j in range(0, i):\n",
    "        print(\"~\", end = \" \")\n",
    "    print()\n",
    "    "
   ]
  },
  {
   "cell_type": "code",
   "execution_count": 23,
   "id": "2e339d1a",
   "metadata": {},
   "outputs": [],
   "source": [
    "#Four for loops"
   ]
  },
  {
   "cell_type": "code",
   "execution_count": null,
   "id": "558a4084",
   "metadata": {},
   "outputs": [],
   "source": []
  },
  {
   "cell_type": "code",
   "execution_count": null,
   "id": "47598a42",
   "metadata": {},
   "outputs": [],
   "source": []
  },
  {
   "cell_type": "code",
   "execution_count": null,
   "id": "efab640e",
   "metadata": {},
   "outputs": [],
   "source": []
  },
  {
   "cell_type": "markdown",
   "id": "6d366161",
   "metadata": {},
   "source": [
    "<center> \n",
    "    <font size=6 color=\"blue\">\n",
    "        <b>Question 08</b>\n",
    "    </font>\n",
    "</center>"
   ]
  },
  {
   "cell_type": "markdown",
   "id": "02c2e59a",
   "metadata": {
    "tags": []
   },
   "source": [
    "<pre>\n",
    "Consider the following block of code:\n",
    "\n",
    " 1    decrement = 8\n",
    " 2    counter = 64\n",
    " 3    value = 65\n",
    " 4    for i in range(0, 5):\n",
    " 5        for k in range(0, decrement):\n",
    " 6            print(end=\"\\t\")\n",
    " 7        for j in range(0, i+1):\n",
    " 8            counter = counter + 1\n",
    " 9        value = counter\n",
    "10        temp = value\n",
    "11        for j in range(0, i+1):\n",
    "12            ch = chr(value)\n",
    "13            print(ch, end=\"\\n\")\n",
    "14            value = value - 1\n",
    "15        value = temp\n",
    "16        decrement = decrement - 2\n",
    "17        print()\n",
    "\n",
    "Debug the code above to produce the following output:\n",
    "\n",
    "        A \n",
    "      C B \n",
    "    F E D \n",
    "  J I H G \n",
    "O N M L K \n",
    "\n",
    "Which lines of code (line numbers) must you edit to successfully achieve the output above? \n",
    "\n",
    "⚫ 2, 4, 14\n",
    "⚫ 6, 13\n",
    "⚫ 3, 7, 14\n",
    "⚫ 1, 5, 6\n",
    "⚫ 7, 13, 16\n",
    "\n",
    "</pre>"
   ]
  },
  {
   "cell_type": "markdown",
   "id": "4cb6e2b3",
   "metadata": {},
   "source": [
    "#### SOLUTION:"
   ]
  },
  {
   "cell_type": "code",
   "execution_count": 34,
   "id": "69531b90",
   "metadata": {},
   "outputs": [
    {
     "name": "stdout",
     "output_type": "stream",
     "text": [
      "                A \n",
      "              C B \n",
      "            F E D \n",
      "          J I H G \n",
      "        O N M L K \n"
     ]
    }
   ],
   "source": [
    "decrement = 8\n",
    "counter = 64\n",
    "value = 65\n",
    "for i in range(0, 5):\n",
    "    for k in range(0, decrement):\n",
    "        print(\" \", end=\" \")\n",
    "    for j in range(0, i+1):\n",
    "        counter = counter + 1\n",
    "        value = counter\n",
    "        temp = value\n",
    "    for j in range(0, i+1):\n",
    "        ch = chr(value)\n",
    "        print(ch, end=\" \")\n",
    "        value = value - 1\n",
    "    value = temp\n",
    "    decrement = decrement -1\n",
    "    print()"
   ]
  },
  {
   "cell_type": "code",
   "execution_count": 35,
   "id": "d609c98e",
   "metadata": {},
   "outputs": [],
   "source": [
    "# B ---> 6 and 13"
   ]
  },
  {
   "cell_type": "code",
   "execution_count": null,
   "id": "fa954d78",
   "metadata": {},
   "outputs": [],
   "source": []
  },
  {
   "cell_type": "code",
   "execution_count": null,
   "id": "f0b56dbc",
   "metadata": {},
   "outputs": [],
   "source": []
  },
  {
   "cell_type": "code",
   "execution_count": null,
   "id": "2b068e85",
   "metadata": {},
   "outputs": [],
   "source": []
  },
  {
   "cell_type": "markdown",
   "id": "92ba9a1c",
   "metadata": {
    "tags": []
   },
   "source": [
    "<center> \n",
    "    <font size=6 color=\"blue\">\n",
    "        <b>Question 09</b>\n",
    "    </font>\n",
    "</center>"
   ]
  },
  {
   "cell_type": "markdown",
   "id": "1d6b0c57",
   "metadata": {},
   "source": [
    "<pre>\n",
    "How can you define a complex number in Python 3 code (code you pick has to be executable with no errors)? (Select all that apply)\n",
    "\n",
    "⚫ 3+2i\n",
    "⚫ 5-(3*2)j\n",
    "⚫ 9j+18\n",
    "⚫ complex(3, 4*2)\n",
    "⚫ 3 + 5 j\n",
    "⚫ s-i4\n",
    "</pre>"
   ]
  },
  {
   "cell_type": "markdown",
   "id": "9b167d8d",
   "metadata": {},
   "source": [
    "#### SOLUTION(S): "
   ]
  },
  {
   "cell_type": "code",
   "execution_count": 24,
   "id": "8b588e44",
   "metadata": {},
   "outputs": [],
   "source": [
    "# 3 + 2j, not 2 + 2i\n",
    "\n",
    "# 5 - 3*2j, not 5 - (3*2)j\n",
    "\n",
    "# 9j + 18[X]\n",
    "# complex(3, 4*2)[X]\n",
    "# 3 + 5j, not 3 + 5 j, con't do space\n",
    "#s - i4 can not insert varialbe without defining\n",
    "\n",
    "\n",
    "# C and D"
   ]
  },
  {
   "cell_type": "code",
   "execution_count": 142,
   "id": "1b31fffc",
   "metadata": {},
   "outputs": [
    {
     "data": {
      "text/plain": [
       "(3+8j)"
      ]
     },
     "execution_count": 142,
     "metadata": {},
     "output_type": "execute_result"
    }
   ],
   "source": [
    "complex(3, 4*2)"
   ]
  },
  {
   "cell_type": "code",
   "execution_count": 148,
   "id": "644a314d",
   "metadata": {},
   "outputs": [
    {
     "ename": "SyntaxError",
     "evalue": "invalid syntax (2523444188.py, line 1)",
     "output_type": "error",
     "traceback": [
      "\u001b[1;36m  Input \u001b[1;32mIn [148]\u001b[1;36m\u001b[0m\n\u001b[1;33m    3 +5 j;\u001b[0m\n\u001b[1;37m         ^\u001b[0m\n\u001b[1;31mSyntaxError\u001b[0m\u001b[1;31m:\u001b[0m invalid syntax\n"
     ]
    }
   ],
   "source": [
    "#3 +5 j; INVALID \n"
   ]
  },
  {
   "cell_type": "code",
   "execution_count": null,
   "id": "b8255986",
   "metadata": {},
   "outputs": [],
   "source": []
  },
  {
   "cell_type": "code",
   "execution_count": null,
   "id": "34dff361",
   "metadata": {},
   "outputs": [],
   "source": []
  },
  {
   "cell_type": "markdown",
   "id": "3b86e400",
   "metadata": {},
   "source": [
    "<center> \n",
    "    <font size=6 color=\"blue\">\n",
    "        <b>Question 10</b>\n",
    "    </font>\n",
    "</center>"
   ]
  },
  {
   "cell_type": "markdown",
   "id": "cff5eda5",
   "metadata": {},
   "source": [
    "<pre>\n",
    "Consider the following output that was produced using an iterative algorithm. Write an algorithmic solution (not just print statements) to produce the output below. \n",
    "\n",
    "*       *       *       *       *       *       *       *       *       * \t\n",
    "     *  *       *       *       *       *       *       *       * \t\n",
    "          *     *       *       *       *       *       *       * \t\n",
    "               *        *       *       *       *       *       * \t\n",
    "                    *   *       *       *       *       * \t\n",
    "                         *      *       *       *       * \t\n",
    "                              *         *       *       * \t\n",
    "                                   *    *       * \t\n",
    "                                        *       * \t\n",
    "                                             * \t\n",
    "                                             \n",
    "HINT: You might want to use a print statement with 5 end spaces in your algorithm:\n",
    "\n",
    "     print(end=\"     \")\n",
    "\n",
    "How many \"for loops\" one must use to produce this output?\n",
    "\n",
    "⚫ 2\n",
    "⚫ 6\n",
    "⚫ 3\n",
    "⚫ 5\n",
    "⚫ 4\n",
    "</pre>"
   ]
  },
  {
   "cell_type": "markdown",
   "id": "9b301b8a",
   "metadata": {
    "tags": []
   },
   "source": [
    "#### SOLUTION:"
   ]
  },
  {
   "cell_type": "code",
   "execution_count": 140,
   "id": "f0d8d1a8",
   "metadata": {},
   "outputs": [
    {
     "name": "stdout",
     "output_type": "stream",
     "text": [
      " *       *       *       *       *       *       *       *       *       *\n",
      "      *  *       *       *       *       *       *       *       *\n",
      "           *     *       *       *       *       *       *       *\n",
      "                *        *       *       *       *       *       *\n",
      "                     *   *       *       *       *       *\n",
      "                          *      *       *       *       *\n",
      "                               *         *       *       *\n",
      "                                    *    *       *\n",
      "                                         *       *\n",
      "                                              *\n"
     ]
    }
   ],
   "source": [
    "s = '*'\n",
    "space = ' '\n",
    "k = 1 \n",
    "for i in range(0,10):\n",
    "    for j in range(1,11-i):\n",
    "        if j == 1:\n",
    "            \n",
    "            initial_pos = 5*i   # white space at the begining\n",
    "            print(space*(initial_pos),'*',end='')    # print 1st star '*'\n",
    "\n",
    "    ## Code to print 2nd position star '*' \n",
    "        elif i !=0 and j == 2:\n",
    "            # update for 2nd position star not including 1st row\n",
    "            next_pos = 8*k            # 2nd star must be multiple of overall spacing in the pattern, ie, 8 (consider in this case)\n",
    "            if next_pos > initial_pos:\n",
    "            # 2nd postion must be grater than 1st \n",
    "                remainder = next_pos - initial_pos  # space to add after 1st star\n",
    "                if remainder > 10:\n",
    "                # if the next star position should be more than 10 space over. As seen in the pattern\n",
    "                    next_pos = 8*(k-1)    # 2nd position with previous space multiple \n",
    "                    next_pos1 = next_pos - initial_pos  # space to add\n",
    "                else:\n",
    "                    next_pos1 = remainder \n",
    "                    k += 1\n",
    "            print(space*(next_pos1-2),'*',end='')    # print 2nd star\n",
    "        ## Code to print all the remaining star\n",
    "        else:\n",
    "            print(space*6,'*', end='')\n",
    "    print()"
   ]
  },
  {
   "cell_type": "code",
   "execution_count": null,
   "id": "75bdb72c",
   "metadata": {},
   "outputs": [],
   "source": []
  },
  {
   "cell_type": "code",
   "execution_count": null,
   "id": "a4c67f5b",
   "metadata": {},
   "outputs": [],
   "source": []
  },
  {
   "cell_type": "code",
   "execution_count": null,
   "id": "221b7e1a",
   "metadata": {},
   "outputs": [],
   "source": []
  },
  {
   "cell_type": "code",
   "execution_count": null,
   "id": "43ace15d",
   "metadata": {},
   "outputs": [],
   "source": []
  },
  {
   "cell_type": "markdown",
   "id": "7c899144",
   "metadata": {},
   "source": [
    "<center> \n",
    "    <font size=6 color=\"blue\">\n",
    "        <b>Question 11</b>\n",
    "    </font>\n",
    "</center>"
   ]
  },
  {
   "cell_type": "markdown",
   "id": "6f27d21e",
   "metadata": {},
   "source": [
    "<pre>\n",
    "Consider the following code block:\n",
    "\n",
    "1    num_cols = 10\n",
    "2    for i in range(num_cols,0,-1):\n",
    "3        for j in range(0, num_cols-i):\n",
    "4            print(end=\"     \")\n",
    "5        for j in range(0,i):\n",
    "6            print(\"* \", end=\"\")\n",
    "7        print()\n",
    "\n",
    "Debug the code above to produce the following output:\n",
    "\n",
    "~*~     ~*~     ~*~     ~*~     ~*~     ~*~     ~*~     ~*~     ~*~     ~*~     ~*~     \n",
    "        ~*~     ~*~     ~*~     ~*~     ~*~     ~*~     ~*~     ~*~     ~*~     \n",
    "                ~*~     ~*~     ~*~     ~*~     ~*~     ~*~     ~*~     \n",
    "                        ~*~     ~*~     ~*~     ~*~     ~*~     \n",
    "                                ~*~     ~*~     ~*~     \n",
    "                                        ~*~     \n",
    "\n",
    "HINT: You might want to use the \"end=\" keyword inside print statements with 4 or 5 spaces in your algorithm:\n",
    "\n",
    "     print(..., end=\"    \")\n",
    "     print(..., end=\"     \")\n",
    "\n",
    "Which lines of code (line numbers) must you edit to successfully achieve the output above? \n",
    "\n",
    "⚫ 2, 4, 5\n",
    "⚫ 4, 5\n",
    "⚫ 1, 5, 6\n",
    "⚫ 3, 4\n",
    "⚫ 1, 4, 6\n",
    "\n",
    "</pre>"
   ]
  },
  {
   "cell_type": "markdown",
   "id": "040b0fe8",
   "metadata": {
    "tags": []
   },
   "source": [
    "#### SOLUTION:"
   ]
  },
  {
   "cell_type": "code",
   "execution_count": 116,
   "id": "a0affcce",
   "metadata": {},
   "outputs": [
    {
     "name": "stdout",
     "output_type": "stream",
     "text": [
      "~*~ ~*~ ~*~ ~*~ ~*~ ~*~ ~*~ ~*~ ~*~ ~*~ ~*~ \n",
      "    ~*~ ~*~ ~*~ ~*~ ~*~ ~*~ ~*~ ~*~ ~*~ \n",
      "        ~*~ ~*~ ~*~ ~*~ ~*~ ~*~ ~*~ \n",
      "            ~*~ ~*~ ~*~ ~*~ ~*~ \n",
      "                ~*~ ~*~ ~*~ \n",
      "                    ~*~ \n"
     ]
    }
   ],
   "source": [
    "num_cols = 6                      #changes\n",
    "for i in range(num_cols, 0, -1):\n",
    "    for j in range(0, num_cols-i):\n",
    "        print(end=\"    \")\n",
    "    for j in range(0, 2*i - 1):   #changes  \n",
    "        print(\"~*~\", end=\" \")    #changes\n",
    "    print()\n",
    "\n",
    "    \n",
    "    \n",
    "#C -> It should be 1, 5, 6"
   ]
  },
  {
   "cell_type": "code",
   "execution_count": null,
   "id": "80acee20",
   "metadata": {},
   "outputs": [],
   "source": []
  },
  {
   "cell_type": "code",
   "execution_count": null,
   "id": "8ee40a81",
   "metadata": {},
   "outputs": [],
   "source": []
  },
  {
   "cell_type": "code",
   "execution_count": null,
   "id": "6fe12e37",
   "metadata": {},
   "outputs": [],
   "source": []
  },
  {
   "cell_type": "code",
   "execution_count": null,
   "id": "cc67412f",
   "metadata": {},
   "outputs": [],
   "source": []
  },
  {
   "cell_type": "markdown",
   "id": "21c96f9e",
   "metadata": {},
   "source": [
    "<center> \n",
    "    <font size=6 color=\"blue\">\n",
    "        <b>Question 12</b>\n",
    "    </font>\n",
    "</center>"
   ]
  },
  {
   "cell_type": "markdown",
   "id": "725aae8e",
   "metadata": {},
   "source": [
    "<pre>\n",
    "Which ones are the proper (satisfies the PEP8 standard, not illigal, and based on the class notes) python 3 variable names? (This is not just about what will run properly, but also good coding practice as explained in class. Select all that apply)\n",
    "\n",
    "⚫ _myVar\n",
    "⚫ str\n",
    "⚫ All_The_Students_In_The_12th_Grade_Science_Program\n",
    "⚫ students_list\n",
    "⚫ employee-dataframe\n",
    "⚫ float\n",
    "⚫ date_of_birth\n",
    "⚫ S0m3Number\n",
    "⚫ john_nash\n",
    "⚫ df\n",
    "</pre>"
   ]
  },
  {
   "cell_type": "markdown",
   "id": "d491dfa3",
   "metadata": {
    "tags": []
   },
   "source": [
    "#### SOLUTION(S):"
   ]
  },
  {
   "cell_type": "code",
   "execution_count": 57,
   "id": "5f845d54",
   "metadata": {},
   "outputs": [],
   "source": [
    "#\n",
    "# 1, 4 ,5, 7, 8, 9, 10\n",
    "\n",
    "#_myVar, student_list, date_of_birth, john_nash, df"
   ]
  },
  {
   "cell_type": "code",
   "execution_count": null,
   "id": "4792f038",
   "metadata": {},
   "outputs": [],
   "source": []
  },
  {
   "cell_type": "code",
   "execution_count": null,
   "id": "e8e5db62",
   "metadata": {},
   "outputs": [],
   "source": []
  },
  {
   "cell_type": "code",
   "execution_count": null,
   "id": "d0bb82ce",
   "metadata": {},
   "outputs": [],
   "source": []
  },
  {
   "cell_type": "code",
   "execution_count": null,
   "id": "71d4ee40",
   "metadata": {},
   "outputs": [],
   "source": []
  },
  {
   "cell_type": "code",
   "execution_count": null,
   "id": "c5b3f212",
   "metadata": {},
   "outputs": [],
   "source": []
  }
 ],
 "metadata": {
  "kernelspec": {
   "display_name": "Python 3 (ipykernel)",
   "language": "python",
   "name": "python3"
  },
  "language_info": {
   "codemirror_mode": {
    "name": "ipython",
    "version": 3
   },
   "file_extension": ".py",
   "mimetype": "text/x-python",
   "name": "python",
   "nbconvert_exporter": "python",
   "pygments_lexer": "ipython3",
   "version": "3.9.12"
  }
 },
 "nbformat": 4,
 "nbformat_minor": 5
}
